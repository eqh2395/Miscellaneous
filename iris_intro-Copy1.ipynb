{
 "cells": [
  {
   "cell_type": "code",
   "execution_count": 2,
   "metadata": {},
   "outputs": [],
   "source": [
    "%matplotlib inline"
   ]
  },
  {
   "cell_type": "code",
   "execution_count": 3,
   "metadata": {},
   "outputs": [],
   "source": [
    "import sys\n",
    "sys.path.append('/project/avd/iris/resources/git/iris-sample-data')"
   ]
  },
  {
   "cell_type": "markdown",
   "metadata": {},
   "source": [
    "# An introduction to Iris\n",
    "\n",
    "## Course Aim\n",
    "\n",
    "The aim of this course is to introduce Iris and its main features and functionality, with a focus on how these relate to data analysis."
   ]
  },
  {
   "cell_type": "markdown",
   "metadata": {},
   "source": [
    "## Setup"
   ]
  },
  {
   "cell_type": "code",
   "execution_count": 4,
   "metadata": {},
   "outputs": [],
   "source": [
    "import iris\n",
    "import numpy as np"
   ]
  },
  {
   "cell_type": "code",
   "execution_count": 5,
   "metadata": {},
   "outputs": [
    {
     "name": "stdout",
     "output_type": "stream",
     "text": [
      "2.1.0\n",
      "1.15.1\n"
     ]
    }
   ],
   "source": [
    "print(iris.__version__)\n",
    "print(np.__version__)"
   ]
  },
  {
   "cell_type": "markdown",
   "metadata": {},
   "source": [
    "## The Iris cube\n",
    "\n",
    "**Learning outcome**: by the end of this section, you will be able to explain the capabilities and functionality of Iris cubes and coordinates."
   ]
  },
  {
   "cell_type": "markdown",
   "metadata": {},
   "source": [
    "The top level object in Iris is called a cube. A cube contains data and metadata about a single phenomenon and is an implementation of the data model interpreted from the *Climate and Forecast (CF) Metadata Conventions*.\n",
    "\n",
    "Each cube has:\n",
    "\n",
    " * A data array (typically a NumPy array).\n",
    " * A \"name\", preferably a CF \"standard name\" to describe the phenomenon that the cube represents.\n",
    " * A collection of coordinates to describe each of the dimensions of the data array. These coordinates are split into two types:\n",
    "    * Dimensioned coordinates are numeric, monotonic (continuous) and represent a single dimension of the data array. There may be only one dimensioned coordinate per data dimension.\n",
    "    * Auxilliary coordinates can be of any type, including discrete values such as strings, and may represent more than one data dimension.\n",
    "\n",
    "A fuller explanation is available in the [Iris user guide](http://scitools.org.uk/iris/docs/latest/userguide/iris_cubes.html)."
   ]
  },
  {
   "cell_type": "markdown",
   "metadata": {},
   "source": [
    "Let's take a simple example to demonstrate the cube concept.\n",
    "\n",
    "Suppose we have a ``(3, 2, 4)`` NumPy array:\n",
    "\n",
    "![](../images/multi_array.png)\n"
   ]
  },
  {
   "cell_type": "markdown",
   "metadata": {},
   "source": [
    "Where dimensions 0, 1, and 2 have lengths 3, 2 and 4 respectively.\n",
    "\n",
    "The Iris cube to represent this data may consist of:\n",
    "\n",
    " * a standard name of \"air_temperature\" and units of \"kelvin\"\n",
    "\n",
    " * a data array of shape ``(3, 2, 4)``\n",
    "\n",
    " * a coordinate, mapping to dimension 0, consisting of:\n",
    "     * a standard name of \"height\" and units of \"meters\"\n",
    "     * an array of length 3 representing the 3 height points\n",
    "     \n",
    " * a coordinate, mapping to dimension 1, consisting of:\n",
    "     * a standard name of \"latitude\" and units of \"degrees\"\n",
    "     * an array of length 2 representing the 2 latitude points\n",
    "     * a coordinate system such that the latitude points could be fully located on the globe\n",
    "     \n",
    " * a coordinate, mapping to dimension 2, consisting of:\n",
    "     * a standard name of \"longitude\" and units of \"degrees\"\n",
    "     * an array of length 4 representing the 4 longitude points\n",
    "     * a coordinate system such that the longitude points could be fully located on the globe"
   ]
  },
  {
   "cell_type": "markdown",
   "metadata": {},
   "source": [
    "Pictorially the cube has taken on more information than a simple array:\n",
    "\n",
    "![](../images/multi_array_to_cube.png)"
   ]
  },
  {
   "cell_type": "markdown",
   "metadata": {},
   "source": [
    "### Working with a cube"
   ]
  },
  {
   "cell_type": "markdown",
   "metadata": {},
   "source": [
    "Whilst it is possible to construct a cube by hand, a far more common approach to getting hold of a cube is to use the Iris load function to access data that already exists in a file."
   ]
  },
  {
   "cell_type": "code",
   "execution_count": 6,
   "metadata": {},
   "outputs": [
    {
     "name": "stdout",
     "output_type": "stream",
     "text": [
      "0: air_potential_temperature / (K)     (time: 3; model_level_number: 7; grid_latitude: 204; grid_longitude: 187)\n",
      "1: surface_altitude / (m)              (grid_latitude: 204; grid_longitude: 187)\n"
     ]
    }
   ],
   "source": [
    "fname = iris.sample_data_path('uk_hires.pp')\n",
    "cubes = iris.load(fname)\n",
    "print(cubes)"
   ]
  },
  {
   "cell_type": "code",
   "execution_count": 7,
   "metadata": {},
   "outputs": [
    {
     "data": {
      "text/plain": [
       "[<iris 'Cube' of air_potential_temperature / (K) (time: 3; model_level_number: 7; grid_latitude: 204; grid_longitude: 187)>,\n",
       "<iris 'Cube' of surface_altitude / (m) (grid_latitude: 204; grid_longitude: 187)>]"
      ]
     },
     "execution_count": 7,
     "metadata": {},
     "output_type": "execute_result"
    }
   ],
   "source": [
    "cubes"
   ]
  },
  {
   "cell_type": "markdown",
   "metadata": {},
   "source": [
    "We can see that we've loaded two cubes, one representing the \"surface_altitude\" and the other representing \"air_potential_temperature\". We can infer even more detail from this printout; for example, what are the dimensions and shape of the \"air_potential_temperature\" cube?\n",
    "\n",
    "Above we've printed the ``iris.cube.CubeList`` instance representing all of the cubes found in the given filename. However, we can see more detail by printing individual cubes:"
   ]
  },
  {
   "cell_type": "code",
   "execution_count": 8,
   "metadata": {},
   "outputs": [
    {
     "name": "stdout",
     "output_type": "stream",
     "text": [
      "air_potential_temperature / (K)     (time: 3; model_level_number: 7; grid_latitude: 204; grid_longitude: 187)\n",
      "     Dimension coordinates:\n",
      "          time                           x                      -                 -                    -\n",
      "          model_level_number             -                      x                 -                    -\n",
      "          grid_latitude                  -                      -                 x                    -\n",
      "          grid_longitude                 -                      -                 -                    x\n",
      "     Auxiliary coordinates:\n",
      "          forecast_period                x                      -                 -                    -\n",
      "          level_height                   -                      x                 -                    -\n",
      "          sigma                          -                      x                 -                    -\n",
      "          surface_altitude               -                      -                 x                    x\n",
      "     Derived coordinates:\n",
      "          altitude                       -                      x                 x                    x\n",
      "     Scalar coordinates:\n",
      "          forecast_reference_time: 2009-11-19 04:00:00\n",
      "     Attributes:\n",
      "          STASH: m01s00i004\n",
      "          source: Data from Met Office Unified Model\n",
      "          um_version: 7.3\n"
     ]
    }
   ],
   "source": [
    "air_pot_temp = cubes[0]\n",
    "print(air_pot_temp)"
   ]
  },
  {
   "cell_type": "markdown",
   "metadata": {},
   "source": [
    "### Cube attributes"
   ]
  },
  {
   "cell_type": "code",
   "execution_count": 9,
   "metadata": {},
   "outputs": [
    {
     "name": "stdout",
     "output_type": "stream",
     "text": [
      "air_temperature / (K)               (time: 240; latitude: 37; longitude: 49)\n",
      "     Dimension coordinates:\n",
      "          time                           x              -              -\n",
      "          latitude                       -              x              -\n",
      "          longitude                      -              -              x\n",
      "     Auxiliary coordinates:\n",
      "          forecast_period                x              -              -\n",
      "     Scalar coordinates:\n",
      "          forecast_reference_time: 1859-09-01 06:00:00\n",
      "          height: 1.5 m\n",
      "     Attributes:\n",
      "          Conventions: CF-1.5\n",
      "          Model scenario: A1B\n",
      "          STASH: m01s03i236\n",
      "          source: Data from Met Office Unified Model 6.05\n",
      "     Cell methods:\n",
      "          mean: time (6 hour)\n"
     ]
    },
    {
     "name": "stderr",
     "output_type": "stream",
     "text": [
      "/opt/scitools/environments/experimental/current/lib/python3.6/site-packages/iris/fileformats/_pyke_rules/compiled_krb/fc_rules_cf_fc.py:2029: UserWarning: Gracefully filling 'latitude' dimension coordinate masked points\n",
      "  warnings.warn(msg.format(str(cf_coord_var.cf_name)))\n",
      "/opt/scitools/environments/experimental/current/lib/python3.6/site-packages/iris/fileformats/_pyke_rules/compiled_krb/fc_rules_cf_fc.py:2029: UserWarning: Gracefully filling 'longitude' dimension coordinate masked points\n",
      "  warnings.warn(msg.format(str(cf_coord_var.cf_name)))\n",
      "/opt/scitools/environments/experimental/current/lib/python3.6/site-packages/iris/fileformats/_pyke_rules/compiled_krb/fc_rules_cf_fc.py:2029: UserWarning: Gracefully filling 'time' dimension coordinate masked points\n",
      "  warnings.warn(msg.format(str(cf_coord_var.cf_name)))\n",
      "/opt/scitools/environments/experimental/current/lib/python3.6/site-packages/iris/fileformats/_pyke_rules/compiled_krb/fc_rules_cf_fc.py:2036: UserWarning: Gracefully filling 'time' dimension coordinate masked bounds\n",
      "  warnings.warn(msg.format(str(cf_coord_var.cf_name)))\n"
     ]
    }
   ],
   "source": [
    "cube = iris.load_cube(iris.sample_data_path('A1B_north_america.nc'))\n",
    "print(cube)"
   ]
  },
  {
   "cell_type": "markdown",
   "metadata": {},
   "source": [
    "To access a cube's data array the ``data`` property exists. This is either a NumPy array or in some cases a NumPy masked array. It is very important to note that for most of the supported filetypes in Iris, the cube's data isn't actually loaded until you request it via this property (either directly or indirectly). After you've accessed the data once, it is stored on the cube and thus won't be loaded from disk again.\n",
    "\n",
    "To find the shape of a cube's data it is possible to call ``cube.data.shape`` or ``cube.data.ndim``, but this will trigger any unloaded data to be loaded. Therefore ``shape`` and ``ndim`` are properties available directly on the cube that do not unnecessarily load data."
   ]
  },
  {
   "cell_type": "code",
   "execution_count": 10,
   "metadata": {},
   "outputs": [
    {
     "name": "stdout",
     "output_type": "stream",
     "text": [
      "(240, 37, 49)\n",
      "3\n",
      "<class 'numpy.ma.core.MaskedArray'>\n"
     ]
    }
   ],
   "source": [
    "print(cube.shape)\n",
    "print(cube.ndim)\n",
    "print(type(cube.data))"
   ]
  },
  {
   "cell_type": "markdown",
   "metadata": {},
   "source": [
    "The ``standard_name``, ``long_name`` and to an extent ``var_name`` are all attributes to describe the phenomenon that the cube represents. The ``name()`` method is a convenience that looks at the name attributes in the order they are listed above, returning the first non-empty string. To rename a cube, it is possible to set the attributes manually, but it is generally easier to use the ``rename()`` method.\n"
   ]
  },
  {
   "cell_type": "code",
   "execution_count": 11,
   "metadata": {},
   "outputs": [
    {
     "name": "stdout",
     "output_type": "stream",
     "text": [
      "air_temperature\n",
      "None\n",
      "air_temperature\n",
      "air_temperature\n"
     ]
    }
   ],
   "source": [
    "print(cube.standard_name)\n",
    "print(cube.long_name)\n",
    "print(cube.var_name)\n",
    "print(cube.name())"
   ]
  },
  {
   "cell_type": "code",
   "execution_count": 12,
   "metadata": {},
   "outputs": [],
   "source": [
    "cube.rename(\"A name that isn't a valid CF standard name\")"
   ]
  },
  {
   "cell_type": "code",
   "execution_count": 13,
   "metadata": {},
   "outputs": [
    {
     "name": "stdout",
     "output_type": "stream",
     "text": [
      "None\n",
      "A name that isn't a valid CF standard name\n",
      "None\n",
      "A name that isn't a valid CF standard name\n"
     ]
    }
   ],
   "source": [
    "print(cube.standard_name)\n",
    "print(cube.long_name)\n",
    "print(cube.var_name)\n",
    "print(cube.name())"
   ]
  },
  {
   "cell_type": "markdown",
   "metadata": {},
   "source": [
    "The ``units`` attribute on a cube tells us the units of the numbers held in the data array. We can manually change the units, or better, we can convert the cube to another unit using the ``convert_units`` method, which will automatically update the data array."
   ]
  },
  {
   "cell_type": "code",
   "execution_count": 14,
   "metadata": {},
   "outputs": [
    {
     "name": "stdout",
     "output_type": "stream",
     "text": [
      "K\n",
      "306.0733\n",
      "Celsius\n",
      "32.9233\n"
     ]
    }
   ],
   "source": [
    "print(cube.units)\n",
    "print(cube.data.max())\n",
    "cube.convert_units('Celsius')\n",
    "print(cube.units)\n",
    "print(cube.data.max())"
   ]
  },
  {
   "cell_type": "markdown",
   "metadata": {},
   "source": [
    "A cube has a dictionary for extra general purpose attributes, which can be accessed with the ``cube.attributes`` attribute:"
   ]
  },
  {
   "cell_type": "code",
   "execution_count": 15,
   "metadata": {},
   "outputs": [
    {
     "name": "stdout",
     "output_type": "stream",
     "text": [
      "{'Conventions': 'CF-1.5', 'STASH': STASH(model=1, section=3, item=236), 'Model scenario': 'A1B', 'source': 'Data from Met Office Unified Model 6.05'}\n",
      "m01s03i236\n"
     ]
    }
   ],
   "source": [
    "print(cube.attributes)\n",
    "print(cube.attributes['STASH'])"
   ]
  },
  {
   "cell_type": "markdown",
   "metadata": {},
   "source": [
    "## Coordinates\n",
    "\n",
    "As we've seen, cubes need coordinate information to help us describe the underlying phenomenon. Typically a cube's coordinates are accessed with the ``coords`` or ``coord`` methods. The latter *must* return exactly one coordinate for the given parameter filters, where the former returns a list of matching coordinates, possibly of length 0.\n",
    "\n",
    "For example, to access the time coordinate, and print the first 4 times:"
   ]
  },
  {
   "cell_type": "code",
   "execution_count": 16,
   "metadata": {},
   "outputs": [
    {
     "name": "stdout",
     "output_type": "stream",
     "text": [
      "DimCoord([1860-06-01 00:00:00, 1861-06-01 00:00:00, 1862-06-01 00:00:00,\n",
      "       1863-06-01 00:00:00], bounds=[[1859-12-01 00:00:00, 1860-12-01 00:00:00],\n",
      "       [1860-12-01 00:00:00, 1861-12-01 00:00:00],\n",
      "       [1861-12-01 00:00:00, 1862-12-01 00:00:00],\n",
      "       [1862-12-01 00:00:00, 1863-12-01 00:00:00]], standard_name='time', calendar='360_day', var_name='time')\n"
     ]
    }
   ],
   "source": [
    "time = cube.coord('time')\n",
    "print(time[:4])"
   ]
  },
  {
   "cell_type": "markdown",
   "metadata": {},
   "source": [
    "The coordinate interface is very similar to that of a cube. The attributes that exist on both cubes and coordinates are: ``standard_name``, ``long_name``, ``var_name``, ``units``, ``attributes`` and ``shape``. Similarly, the ``name()``, ``rename()`` and ``convert_units()`` methods also exist on a coordinate."
   ]
  },
  {
   "cell_type": "markdown",
   "metadata": {},
   "source": [
    "A coordinate does not have ``data``, instead it has ``points`` and ``bounds`` (``bounds`` may be ``None``). In Iris, time coordinates are currently represented as \"a number since an epoch\":"
   ]
  },
  {
   "cell_type": "code",
   "execution_count": 17,
   "metadata": {},
   "outputs": [
    {
     "name": "stdout",
     "output_type": "stream",
     "text": [
      "Unit('hours since 1970-01-01 00:00:00', calendar='360_day')\n",
      "[-946800. -938160. -929520. -920880.]\n",
      "[[-951120. -942480.]\n",
      " [-942480. -933840.]\n",
      " [-933840. -925200.]\n",
      " [-925200. -916560.]]\n"
     ]
    }
   ],
   "source": [
    "print(repr(time.units))\n",
    "print(time.points[:4])\n",
    "print(time.bounds[:4])"
   ]
  },
  {
   "cell_type": "markdown",
   "metadata": {},
   "source": [
    "These numbers can be converted to datetime objects with the unit's ``num2date`` method. Dates can be converted back again with the ``date2num`` method:"
   ]
  },
  {
   "cell_type": "code",
   "execution_count": 18,
   "metadata": {},
   "outputs": [
    {
     "name": "stdout",
     "output_type": "stream",
     "text": [
      "[cftime._cftime.Datetime360Day(1860, 6, 1, 0, 0, 0, 0, -1, 151)\n",
      " cftime._cftime.Datetime360Day(1861, 6, 1, 0, 0, 0, 0, -1, 151)\n",
      " cftime._cftime.Datetime360Day(1862, 6, 1, 0, 0, 0, 0, -1, 151)\n",
      " cftime._cftime.Datetime360Day(1863, 6, 1, 0, 0, 0, 0, -1, 151)]\n",
      "720.0\n"
     ]
    }
   ],
   "source": [
    "import datetime\n",
    "\n",
    "print(time.units.num2date(time.points[:4]))\n",
    "print(time.units.date2num(datetime.datetime(1970, 2, 1)))"
   ]
  },
  {
   "cell_type": "markdown",
   "metadata": {},
   "source": [
    "Another important attribute on a coordinate is its coordinate system. Coordinate systems may be ``None`` for trivial coordinates, but particularly for spatial coordinates, they may be complex definitions of things such as the projection, ellipse and/or datum."
   ]
  },
  {
   "cell_type": "code",
   "execution_count": 19,
   "metadata": {},
   "outputs": [
    {
     "name": "stdout",
     "output_type": "stream",
     "text": [
      "GeogCS(6371229.0)\n"
     ]
    }
   ],
   "source": [
    "lat = cube.coord('latitude')\n",
    "print(lat.coord_system)"
   ]
  },
  {
   "cell_type": "markdown",
   "metadata": {},
   "source": [
    "In this case, the latitude's coordinate system is a simple geographic latitude on a spherical globe of radius 6371229 (meters)."
   ]
  },
  {
   "cell_type": "markdown",
   "metadata": {},
   "source": [
    "### Discussion: the cube object\n",
    "\n",
    "* What advantages over NumPy arrays do Iris cubes provide?\n",
    "* What information does an Iris cube contain?\n",
    "* How do Iris cubes and coordinates relate to each other?"
   ]
  },
  {
   "cell_type": "markdown",
   "metadata": {},
   "source": [
    "## Loading and saving data\n",
    "\n",
    "**Learning outcome**: by the end of this section, you will be able to use Iris to load datasets from disk as Iris cubes and save Iris cubes back to disk."
   ]
  },
  {
   "cell_type": "markdown",
   "metadata": {},
   "source": [
    "### Iris load functions\n",
    "\n",
    "There are three main load functions in Iris: ``load``, ``load_cube`` and ``load_cubes``.\n",
    "\n",
    "1. **load** is a general purpose loading function. Typically this is where all data analysis will start, before more loading is refined with the more controlled loading from the other two functions.\n",
    "2. **load_cube** returns a single cube from the given source(s) and constraint. There will be exactly one cube, or an exception will be raised.\n",
    "3. **load_cubes** returns a list of cubes from the given sources(s) and constraint(s). There will be exactly one cube per constraint, or an exception will be raised.\n",
    "\n",
    "\n",
    "Note: ``load_cube`` is a special case of ``load``, which can be seen with:"
   ]
  },
  {
   "cell_type": "code",
   "execution_count": 20,
   "metadata": {},
   "outputs": [
    {
     "data": {
      "text/plain": [
       "True"
      ]
     },
     "execution_count": 20,
     "metadata": {},
     "output_type": "execute_result"
    }
   ],
   "source": [
    "fname = iris.sample_data_path('air_temp.pp')\n",
    "c1, = iris.load(fname)\n",
    "c2 = iris.load_cube(fname)\n",
    "c1 == c2"
   ]
  },
  {
   "cell_type": "code",
   "execution_count": 21,
   "metadata": {},
   "outputs": [
    {
     "data": {
      "text/plain": [
       "iris.cube.Cube"
      ]
     },
     "execution_count": 21,
     "metadata": {},
     "output_type": "execute_result"
    }
   ],
   "source": [
    "type(c1)"
   ]
  },
  {
   "cell_type": "code",
   "execution_count": 22,
   "metadata": {},
   "outputs": [
    {
     "data": {
      "text/plain": [
       "iris.cube.Cube"
      ]
     },
     "execution_count": 22,
     "metadata": {},
     "output_type": "execute_result"
    }
   ],
   "source": [
    "type(c2)"
   ]
  },
  {
   "cell_type": "markdown",
   "metadata": {},
   "source": [
    "### Saving cubes\n",
    "\n",
    "The ``iris.save`` function provides a convenient interface to save Cube and CubeList instances.\n",
    "\n",
    "To save some cubes to a NetCDF file:"
   ]
  },
  {
   "cell_type": "code",
   "execution_count": 23,
   "metadata": {},
   "outputs": [],
   "source": [
    "fname = iris.sample_data_path('uk_hires.pp')\n",
    "cubes = iris.load(fname)\n",
    "iris.save(cubes, 'saved_cubes.nc')"
   ]
  },
  {
   "cell_type": "code",
   "execution_count": 24,
   "metadata": {},
   "outputs": [
    {
     "name": "stdout",
     "output_type": "stream",
     "text": [
      "netcdf saved_cubes {\r\n",
      "dimensions:\r\n",
      "\ttime = 3 ;\r\n",
      "\tmodel_level_number = 7 ;\r\n",
      "\tgrid_latitude = 204 ;\r\n",
      "\tgrid_longitude = 187 ;\r\n",
      "\tbnds = 2 ;\r\n",
      "variables:\r\n",
      "\tfloat air_potential_temperature(time, model_level_number, grid_latitude, grid_longitude) ;\r\n",
      "\t\tair_potential_temperature:standard_name = \"air_potential_temperature\" ;\r\n",
      "\t\tair_potential_temperature:units = \"K\" ;\r\n",
      "\t\tair_potential_temperature:um_stash_source = \"m01s00i004\" ;\r\n",
      "\t\tair_potential_temperature:grid_mapping = \"rotated_latitude_longitude\" ;\r\n",
      "\t\tair_potential_temperature:coordinates = \"forecast_period forecast_reference_time level_height sigma surface_altitude\" ;\r\n",
      "\tint rotated_latitude_longitude ;\r\n",
      "\t\trotated_latitude_longitude:grid_mapping_name = \"rotated_latitude_longitude\" ;\r\n",
      "\t\trotated_latitude_longitude:longitude_of_prime_meridian = 0. ;\r\n",
      "\t\trotated_latitude_longitude:earth_radius = 6371229. ;\r\n",
      "\t\trotated_latitude_longitude:grid_north_pole_latitude = 37.5 ;\r\n",
      "\t\trotated_latitude_longitude:grid_north_pole_longitude = 177.5 ;\r\n"
     ]
    }
   ],
   "source": [
    "!ncdump -h saved_cubes.nc | head -n 20\n",
    "!rm saved_cubes.nc"
   ]
  },
  {
   "cell_type": "markdown",
   "metadata": {},
   "source": [
    "Extra keywords can be passed to specific fileformat savers."
   ]
  },
  {
   "cell_type": "markdown",
   "metadata": {},
   "source": [
    "### Out-of-core Processing\n",
    "\n",
    "[Out-of-core processing](https://en.wikipedia.org/wiki/External_memory_algorithm) is a technical term that describes being able to process datasets that are too large to fit in memory at once. In Iris, this functionality is referred to as **lazy data**. It means that you can use Iris to load, process and save datasets that are too large to fit in memory without running out of memory. This is achieved by loading only the dataset's metadata and not the data array, unless this is specifically requested.\n",
    "\n",
    "To determine whether your cube has lazy data:"
   ]
  },
  {
   "cell_type": "code",
   "execution_count": 25,
   "metadata": {},
   "outputs": [
    {
     "name": "stdout",
     "output_type": "stream",
     "text": [
      "True\n"
     ]
    }
   ],
   "source": [
    "fname = iris.sample_data_path('air_temp.pp')\n",
    "cube = iris.load_cube(fname)\n",
    "print(cube.has_lazy_data())"
   ]
  },
  {
   "cell_type": "markdown",
   "metadata": {},
   "source": [
    "Iris tries to maintain lazy data as much as possible. We refer to the operation of loading a cube's lazy data as 'realising' the cube's data. A cube's lazy data will only be loaded in a limited number of cases, including:\n",
    "\n",
    "* when the user directly requests the cube's data using `cube.data`,\n",
    "* when there is no lazy data processing algorithm available to perform the requested data processing, such as for peak finding, and\n",
    "* where actual data values are necessary, such as for cube plotting."
   ]
  },
  {
   "cell_type": "code",
   "execution_count": 26,
   "metadata": {},
   "outputs": [
    {
     "name": "stdout",
     "output_type": "stream",
     "text": [
      "False\n"
     ]
    }
   ],
   "source": [
    "cube.data\n",
    "print(cube.has_lazy_data())"
   ]
  },
  {
   "cell_type": "markdown",
   "metadata": {},
   "source": [
    "### Exercise 1\n",
    "\n",
    "1\\. Load the file in ``iris.sample_data_path('atlantic_profiles.nc')`` and print the cube list. Store these cubes in a variable called `cubes`."
   ]
  },
  {
   "cell_type": "code",
   "execution_count": 27,
   "metadata": {},
   "outputs": [
    {
     "name": "stderr",
     "output_type": "stream",
     "text": [
      "/opt/scitools/environments/experimental/current/lib/python3.6/site-packages/iris/fileformats/_pyke_rules/compiled_krb/fc_rules_cf_fc.py:2029: UserWarning: Gracefully filling 'depth' dimension coordinate masked points\n",
      "  warnings.warn(msg.format(str(cf_coord_var.cf_name)))\n",
      "/opt/scitools/environments/experimental/current/lib/python3.6/site-packages/iris/fileformats/_pyke_rules/compiled_krb/fc_rules_cf_fc.py:2029: UserWarning: Gracefully filling 'lat' dimension coordinate masked points\n",
      "  warnings.warn(msg.format(str(cf_coord_var.cf_name)))\n",
      "/opt/scitools/environments/experimental/current/lib/python3.6/site-packages/iris/fileformats/_pyke_rules/compiled_krb/fc_rules_cf_fc.py:2029: UserWarning: Gracefully filling 'lon' dimension coordinate masked points\n",
      "  warnings.warn(msg.format(str(cf_coord_var.cf_name)))\n",
      "/opt/scitools/environments/experimental/current/lib/python3.6/site-packages/iris/fileformats/_pyke_rules/compiled_krb/fc_rules_cf_fc.py:2029: UserWarning: Gracefully filling 'depth' dimension coordinate masked points\n",
      "  warnings.warn(msg.format(str(cf_coord_var.cf_name)))\n",
      "/opt/scitools/environments/experimental/current/lib/python3.6/site-packages/iris/fileformats/_pyke_rules/compiled_krb/fc_rules_cf_fc.py:2029: UserWarning: Gracefully filling 'lat' dimension coordinate masked points\n",
      "  warnings.warn(msg.format(str(cf_coord_var.cf_name)))\n",
      "/opt/scitools/environments/experimental/current/lib/python3.6/site-packages/iris/fileformats/_pyke_rules/compiled_krb/fc_rules_cf_fc.py:2029: UserWarning: Gracefully filling 'lon' dimension coordinate masked points\n",
      "  warnings.warn(msg.format(str(cf_coord_var.cf_name)))\n"
     ]
    }
   ],
   "source": [
    "fname_atlantic = iris.sample_data_path('atlantic_profiles.nc')\n",
    "cubes = iris.load(fname_atlantic)"
   ]
  },
  {
   "cell_type": "markdown",
   "metadata": {},
   "source": [
    "2\\. Loop through each of the cubes (e.g. ``for cube in cubes``) and print the standard name of each."
   ]
  },
  {
   "cell_type": "code",
   "execution_count": 28,
   "metadata": {},
   "outputs": [
    {
     "name": "stdout",
     "output_type": "stream",
     "text": [
      "sea_water_potential_temperature\n",
      "sea_water_practical_salinity\n"
     ]
    }
   ],
   "source": [
    "for cube in cubes:\n",
    "    print(cube.standard_name)"
   ]
  },
  {
   "cell_type": "markdown",
   "metadata": {},
   "source": [
    "3\\. Index `cubes` to retrieve the `sea_water_potential_temperature` cube. Does this cube have lazy data? Print the minimum, maximum, mean and standard deviation of the cube's data. Does the cube still have lazy data?"
   ]
  },
  {
   "cell_type": "code",
   "execution_count": 29,
   "metadata": {},
   "outputs": [
    {
     "data": {
      "text/plain": [
       "274.35056"
      ]
     },
     "execution_count": 29,
     "metadata": {},
     "output_type": "execute_result"
    }
   ],
   "source": [
    "cube1 = cubes[0]\n",
    "cube1.has_lazy_data()\n",
    "np.amin(cube1.data)"
   ]
  },
  {
   "cell_type": "code",
   "execution_count": 30,
   "metadata": {},
   "outputs": [
    {
     "data": {
      "text/plain": [
       "3"
      ]
     },
     "execution_count": 30,
     "metadata": {},
     "output_type": "execute_result"
    }
   ],
   "source": [
    "cube1.ndim"
   ]
  },
  {
   "cell_type": "code",
   "execution_count": 31,
   "metadata": {},
   "outputs": [
    {
     "data": {
      "text/plain": [
       "300.56137"
      ]
     },
     "execution_count": 31,
     "metadata": {},
     "output_type": "execute_result"
    }
   ],
   "source": [
    "np.amax(cube1.data)"
   ]
  },
  {
   "cell_type": "code",
   "execution_count": 32,
   "metadata": {},
   "outputs": [
    {
     "data": {
      "text/plain": [
       "286.32859697933225"
      ]
     },
     "execution_count": 32,
     "metadata": {},
     "output_type": "execute_result"
    }
   ],
   "source": [
    "np.mean(cube1.data)"
   ]
  },
  {
   "cell_type": "code",
   "execution_count": 33,
   "metadata": {},
   "outputs": [
    {
     "data": {
      "text/plain": [
       "8.186847346401617"
      ]
     },
     "execution_count": 33,
     "metadata": {},
     "output_type": "execute_result"
    }
   ],
   "source": [
    "np.std(cube1.data)"
   ]
  },
  {
   "cell_type": "code",
   "execution_count": 34,
   "metadata": {},
   "outputs": [
    {
     "data": {
      "text/plain": [
       "False"
      ]
     },
     "execution_count": 34,
     "metadata": {},
     "output_type": "execute_result"
    }
   ],
   "source": [
    "cube1.has_lazy_data()"
   ]
  },
  {
   "cell_type": "markdown",
   "metadata": {},
   "source": [
    "4\\. Get hold of the `latitude` coordinate on the `sea_water_potential_temperature` cube. Identify whether this coordinate has bounds. Print the minimum and maximum latitude points in the cube."
   ]
  },
  {
   "cell_type": "code",
   "execution_count": 35,
   "metadata": {},
   "outputs": [],
   "source": [
    "lat1 = cube1.coord('latitude')"
   ]
  },
  {
   "cell_type": "code",
   "execution_count": 36,
   "metadata": {},
   "outputs": [
    {
     "data": {
      "text/plain": [
       "iris.coords.DimCoord"
      ]
     },
     "execution_count": 36,
     "metadata": {},
     "output_type": "execute_result"
    }
   ],
   "source": [
    "type(lat1)"
   ]
  },
  {
   "cell_type": "code",
   "execution_count": 37,
   "metadata": {},
   "outputs": [
    {
     "name": "stdout",
     "output_type": "stream",
     "text": [
      "None\n"
     ]
    }
   ],
   "source": [
    "print(lat1.bounds)"
   ]
  },
  {
   "cell_type": "code",
   "execution_count": 38,
   "metadata": {},
   "outputs": [
    {
     "data": {
      "text/plain": [
       "-1.500525"
      ]
     },
     "execution_count": 38,
     "metadata": {},
     "output_type": "execute_result"
    }
   ],
   "source": [
    "lat1.points.max()"
   ]
  },
  {
   "cell_type": "code",
   "execution_count": 39,
   "metadata": {},
   "outputs": [
    {
     "data": {
      "text/plain": [
       "-9.833798"
      ]
     },
     "execution_count": 39,
     "metadata": {},
     "output_type": "execute_result"
    }
   ],
   "source": [
    "lat1.points.min()"
   ]
  },
  {
   "cell_type": "markdown",
   "metadata": {},
   "source": [
    "5\\. Go to the Iris reference documentation for ``iris.save``. What fileformats can Iris currently save to? What keywords are accepted to ``iris.save`` when saving a PP file?"
   ]
  },
  {
   "cell_type": "code",
   "execution_count": null,
   "metadata": {},
   "outputs": [],
   "source": []
  },
  {
   "cell_type": "markdown",
   "metadata": {},
   "source": [
    "## Cube control and subsetting\n",
    "\n",
    "**Learning outcome**: by the end of this section, you will be able to apply Iris functionality to take a useful subset of an Iris cube and to combine multiple Iris cubes into a new larger cube."
   ]
  },
  {
   "cell_type": "markdown",
   "metadata": {},
   "source": [
    "### Constraints and Extract\n",
    "\n",
    "We've already seen the basic ``load`` function, but we can also control which cubes are actually loaded with *constraints*. The simplest constraint is just a string, which filters cubes based on their name:"
   ]
  },
  {
   "cell_type": "code",
   "execution_count": 40,
   "metadata": {},
   "outputs": [
    {
     "name": "stdout",
     "output_type": "stream",
     "text": [
      "0: air_potential_temperature / (K)     (time: 3; model_level_number: 7; grid_latitude: 204; grid_longitude: 187)\n"
     ]
    }
   ],
   "source": [
    "fname = iris.sample_data_path('uk_hires.pp')\n",
    "print(iris.load(fname, 'air_potential_temperature'))"
   ]
  },
  {
   "cell_type": "code",
   "execution_count": null,
   "metadata": {},
   "outputs": [],
   "source": []
  },
  {
   "cell_type": "markdown",
   "metadata": {},
   "source": [
    "Iris's constraints mechanism provides a powerful way to filter a subset of data from a larger collection. We've already seen that constraints can be used at load time to return data of interest from a file, but we can also apply constraints to a single cube, or a list of cubes, using their respective ``extract`` methods:"
   ]
  },
  {
   "cell_type": "code",
   "execution_count": 41,
   "metadata": {},
   "outputs": [
    {
     "name": "stdout",
     "output_type": "stream",
     "text": [
      "0: air_potential_temperature / (K)     (time: 3; model_level_number: 7; grid_latitude: 204; grid_longitude: 187)\n"
     ]
    }
   ],
   "source": [
    "cubes = iris.load(fname)\n",
    "print(cubes.extract('air_potential_temperature'))"
   ]
  },
  {
   "cell_type": "markdown",
   "metadata": {},
   "source": [
    "The simplest constraint, namely a string that matches a cube's name, is conveniently converted into an actual ``iris.Constraint`` instance wherever needed. However, we could construct this constraint manually and compare with the previous result:"
   ]
  },
  {
   "cell_type": "code",
   "execution_count": 42,
   "metadata": {},
   "outputs": [
    {
     "name": "stdout",
     "output_type": "stream",
     "text": [
      "0: air_potential_temperature / (K)     (time: 3; model_level_number: 7; grid_latitude: 204; grid_longitude: 187)\n"
     ]
    }
   ],
   "source": [
    "pot_temperature_constraint = iris.Constraint('air_potential_temperature')\n",
    "print(cubes.extract(pot_temperature_constraint))"
   ]
  },
  {
   "cell_type": "markdown",
   "metadata": {},
   "source": [
    "The Constraint constructor also takes arbitrary keywords to constrain coordinate values. For example, to extract model level number 10 from the air potential temperature cube:"
   ]
  },
  {
   "cell_type": "code",
   "execution_count": 43,
   "metadata": {},
   "outputs": [],
   "source": [
    "pot_temperature_constraint = iris.Constraint('air_potential_temperature',\n",
    "                                             model_level_number=10)\n",
    "subset = (cubes.extract(pot_temperature_constraint))"
   ]
  },
  {
   "cell_type": "markdown",
   "metadata": {},
   "source": [
    "We can pass a list of possible values, and even combine two constraints with ``&``:"
   ]
  },
  {
   "cell_type": "code",
   "execution_count": 44,
   "metadata": {},
   "outputs": [
    {
     "name": "stdout",
     "output_type": "stream",
     "text": [
      "0: air_potential_temperature / (K)     (time: 3; model_level_number: 2; grid_latitude: 204; grid_longitude: 187)\n"
     ]
    }
   ],
   "source": [
    "print(cubes.extract('air_potential_temperature' & \n",
    "                    iris.Constraint(model_level_number=[4, 10])))"
   ]
  },
  {
   "cell_type": "markdown",
   "metadata": {},
   "source": [
    "We can define arbitrary functions that operate on each cell of a coordinate. This is a common thing to do for floating point coordinates, where exact equality is non-trivial."
   ]
  },
  {
   "cell_type": "code",
   "execution_count": 45,
   "metadata": {},
   "outputs": [
    {
     "name": "stdout",
     "output_type": "stream",
     "text": [
      "0: air_potential_temperature / (K)     (time: 3; model_level_number: 3; grid_latitude: 204; grid_longitude: 187)\n"
     ]
    }
   ],
   "source": [
    "def less_than_10(cell):\n",
    "    \"\"\"Return True for values that are less than 10.\"\"\"\n",
    "    return cell < 10\n",
    "\n",
    "print(cubes.extract(iris.Constraint('air_potential_temperature',\n",
    "                                    model_level_number=less_than_10)))"
   ]
  },
  {
   "cell_type": "markdown",
   "metadata": {},
   "source": [
    "### Time Constraints\n",
    "\n",
    "It is common to want to build a constraint for time. This can be achieved by comparing cells containing datetimes, which is available by default in Iris v2. If you are using Iris v1, please uncomment and run the code cell below to enable this functionality globally within the session:"
   ]
  },
  {
   "cell_type": "code",
   "execution_count": 46,
   "metadata": {},
   "outputs": [],
   "source": [
    "# iris.FUTURE.cell_datetime_objects = True"
   ]
  },
  {
   "cell_type": "markdown",
   "metadata": {},
   "source": [
    "There are a few different approaches for producing time constraints in Iris. We will focus here on one approach for constraining on time in Iris. \n",
    "\n",
    "This approach allows us to access individual components of cell datetime objects and run comparisons on those:"
   ]
  },
  {
   "cell_type": "code",
   "execution_count": 47,
   "metadata": {},
   "outputs": [
    {
     "name": "stdout",
     "output_type": "stream",
     "text": [
      "air_potential_temperature / (K)     (model_level_number: 7; grid_latitude: 204; grid_longitude: 187)\n"
     ]
    }
   ],
   "source": [
    "time_constraint = iris.Constraint(time=lambda cell: cell.point.hour == 11)\n",
    "print(air_pot_temp.extract(time_constraint).summary(True))"
   ]
  },
  {
   "cell_type": "markdown",
   "metadata": {},
   "source": [
    "### Exercise 2\n",
    "\n",
    "Cell methods are a part of cube metadata that record statistical operations that have been applied to a cube. For example, \"`mean: time (6hrs)`\" tells us that the cube has had a time mean over a 6hr interval applied.\n",
    "\n",
    "We can determine what, if any, cell methods a cube has with the attribute `cube.cell_methods`. The following function, then, tells us whether or not a cube has cell methods:\n",
    "\n",
    "```python\n",
    "def has_cell_methods(cube):\n",
    "    return len(cube.cell_methods) > 0\n",
    "```\n",
    "\n",
    "1\\. With the cubes loaded from ``[iris.sample_data_path('A1B_north_america.nc'), iris.sample_data_path('uk_hires.pp')]`` use the CubeList's **``extract``** method to filter only the cubes that have cell methods. (Hint: Look at the ``iris.Constraint`` documentation for the **cube_func** keyword). You should find that the 3 cubes are whittled down to just 1."
   ]
  },
  {
   "cell_type": "code",
   "execution_count": 48,
   "metadata": {},
   "outputs": [
    {
     "data": {
      "text/plain": [
       "[<iris 'Cube' of air_potential_temperature / (K) (time: 3; model_level_number: 7; grid_latitude: 204; grid_longitude: 187)>,\n",
       "<iris 'Cube' of surface_altitude / (m) (grid_latitude: 204; grid_longitude: 187)>]"
      ]
     },
     "execution_count": 48,
     "metadata": {},
     "output_type": "execute_result"
    }
   ],
   "source": [
    "cubes"
   ]
  },
  {
   "cell_type": "code",
   "execution_count": 49,
   "metadata": {},
   "outputs": [
    {
     "name": "stderr",
     "output_type": "stream",
     "text": [
      "/opt/scitools/environments/experimental/current/lib/python3.6/site-packages/iris/fileformats/_pyke_rules/compiled_krb/fc_rules_cf_fc.py:2029: UserWarning: Gracefully filling 'latitude' dimension coordinate masked points\n",
      "  warnings.warn(msg.format(str(cf_coord_var.cf_name)))\n",
      "/opt/scitools/environments/experimental/current/lib/python3.6/site-packages/iris/fileformats/_pyke_rules/compiled_krb/fc_rules_cf_fc.py:2029: UserWarning: Gracefully filling 'longitude' dimension coordinate masked points\n",
      "  warnings.warn(msg.format(str(cf_coord_var.cf_name)))\n",
      "/opt/scitools/environments/experimental/current/lib/python3.6/site-packages/iris/fileformats/_pyke_rules/compiled_krb/fc_rules_cf_fc.py:2029: UserWarning: Gracefully filling 'time' dimension coordinate masked points\n",
      "  warnings.warn(msg.format(str(cf_coord_var.cf_name)))\n",
      "/opt/scitools/environments/experimental/current/lib/python3.6/site-packages/iris/fileformats/_pyke_rules/compiled_krb/fc_rules_cf_fc.py:2036: UserWarning: Gracefully filling 'time' dimension coordinate masked bounds\n",
      "  warnings.warn(msg.format(str(cf_coord_var.cf_name)))\n"
     ]
    },
    {
     "data": {
      "text/plain": [
       "[<iris 'Cube' of air_temperature / (K) (time: 240; latitude: 37; longitude: 49)>]"
      ]
     },
     "execution_count": 49,
     "metadata": {},
     "output_type": "execute_result"
    }
   ],
   "source": [
    "fname = iris.sample_data_path('A1B_north_america.nc')\n",
    "cubes_america = iris.load(fname)\n",
    "cubes_america"
   ]
  },
  {
   "cell_type": "code",
   "execution_count": 50,
   "metadata": {},
   "outputs": [],
   "source": [
    "cubes_combined = [cubes, cubes_america]"
   ]
  },
  {
   "cell_type": "code",
   "execution_count": 51,
   "metadata": {},
   "outputs": [
    {
     "data": {
      "text/plain": [
       "[[<iris 'Cube' of air_potential_temperature / (K) (time: 3; model_level_number: 7; grid_latitude: 204; grid_longitude: 187)>,\n",
       " <iris 'Cube' of surface_altitude / (m) (grid_latitude: 204; grid_longitude: 187)>],\n",
       " [<iris 'Cube' of air_temperature / (K) (time: 240; latitude: 37; longitude: 49)>]]"
      ]
     },
     "execution_count": 51,
     "metadata": {},
     "output_type": "execute_result"
    }
   ],
   "source": [
    "cubes_combined"
   ]
  },
  {
   "cell_type": "code",
   "execution_count": 52,
   "metadata": {},
   "outputs": [],
   "source": [
    "def cell_methods(cube):\n",
    "    return cube.cell_methods"
   ]
  },
  {
   "cell_type": "code",
   "execution_count": 53,
   "metadata": {},
   "outputs": [
    {
     "name": "stdout",
     "output_type": "stream",
     "text": [
      "< No cubes >\n",
      "0: air_temperature / (K)               (time: 240; latitude: 37; longitude: 49)\n"
     ]
    }
   ],
   "source": [
    "for cube in cubes_combined:\n",
    "    print(cube.extract(iris.Constraint(cube_func=cell_methods)))"
   ]
  },
  {
   "cell_type": "markdown",
   "metadata": {},
   "source": [
    "2\\. Using the file found at ``iris.sample_data_path('A1B_north_america.nc')`` filter the cube, using constraints, such that only data between 1860 and 1980 remains (hint: This data has a 360-day calendar with yearly data from 1860 to 2100, so we will need to access the individual components of the cell point's datetime, to return a time dimension of length 120)."
   ]
  },
  {
   "cell_type": "code",
   "execution_count": 54,
   "metadata": {},
   "outputs": [],
   "source": [
    "cube_example = (cubes_america.extract(iris.Constraint(time=lambda cell: 1860 <= cell.point.year < 1980)))"
   ]
  },
  {
   "cell_type": "code",
   "execution_count": 55,
   "metadata": {},
   "outputs": [
    {
     "data": {
      "text/plain": [
       "iris.cube.CubeList"
      ]
     },
     "execution_count": 55,
     "metadata": {},
     "output_type": "execute_result"
    }
   ],
   "source": [
    "type(cube_example)"
   ]
  },
  {
   "cell_type": "markdown",
   "metadata": {},
   "source": [
    "### Indexing\n",
    "\n",
    "Cubes can be indexed in a familiar manner to that of NumPy arrays:"
   ]
  },
  {
   "cell_type": "code",
   "execution_count": 56,
   "metadata": {},
   "outputs": [
    {
     "name": "stdout",
     "output_type": "stream",
     "text": [
      "air_potential_temperature / (K)     (time: 3; model_level_number: 7; grid_latitude: 204; grid_longitude: 187)\n"
     ]
    }
   ],
   "source": [
    "fname = iris.sample_data_path('uk_hires.pp')\n",
    "cube = iris.load_cube(fname, 'air_potential_temperature')\n",
    "print(cube.summary(shorten=True))"
   ]
  },
  {
   "cell_type": "code",
   "execution_count": 57,
   "metadata": {},
   "outputs": [
    {
     "data": {
      "text/plain": [
       "'air_potential_temperature / (K)     (time: 3; model_level_number: 4; grid_latitude: 20; grid_longitude: 10)'"
      ]
     },
     "execution_count": 57,
     "metadata": {},
     "output_type": "execute_result"
    }
   ],
   "source": [
    "subcube = cube[..., ::2, 15:35, :10]\n",
    "subcube.summary(shorten=True)"
   ]
  },
  {
   "cell_type": "markdown",
   "metadata": {},
   "source": [
    "Note: the result of indexing a cube is *always* a copy and never a *view* on the original data."
   ]
  },
  {
   "cell_type": "markdown",
   "metadata": {},
   "source": [
    "### Iteration\n",
    "\n",
    "We can loop through all desired subcubes in a larger cube using the cube methods ``slices`` and ``slices_over``."
   ]
  },
  {
   "cell_type": "code",
   "execution_count": 58,
   "metadata": {},
   "outputs": [
    {
     "name": "stdout",
     "output_type": "stream",
     "text": [
      "air_potential_temperature / (K)     (time: 3; grid_latitude: 204; grid_longitude: 187)\n"
     ]
    }
   ],
   "source": [
    "fname = iris.sample_data_path('uk_hires.pp')\n",
    "cube = iris.load_cube(fname,\n",
    "                      iris.Constraint('air_potential_temperature',\n",
    "                                      model_level_number=1))\n",
    "print(cube.summary(True))"
   ]
  },
  {
   "cell_type": "markdown",
   "metadata": {},
   "source": [
    "The **``slices``** method returns all the slices of a cube on the dimensions specified by the coordinates passed to the slices method.\n",
    "\n",
    "So in this example, each `grid_latitude` / `grid_longitude` slice of the cube is returned:"
   ]
  },
  {
   "cell_type": "code",
   "execution_count": 59,
   "metadata": {},
   "outputs": [
    {
     "name": "stdout",
     "output_type": "stream",
     "text": [
      "air_potential_temperature / (K)     (grid_latitude: 204; grid_longitude: 187)\n",
      "air_potential_temperature / (K)     (grid_latitude: 204; grid_longitude: 187)\n",
      "air_potential_temperature / (K)     (grid_latitude: 204; grid_longitude: 187)\n"
     ]
    }
   ],
   "source": [
    "for subcube in cube.slices(['grid_latitude', 'grid_longitude']):\n",
    "    print(subcube.summary(shorten=True))"
   ]
  },
  {
   "cell_type": "markdown",
   "metadata": {},
   "source": [
    "We can use **``slices_over``** to return one subcube for each coordinate value in a specified coordinate. This helps us when trying to retrieve all the slices along a given cube dimension.\n",
    "\n",
    "For example, let's consider retrieving all the slices over the time dimension (i.e. each time step in its own cube with a scalar time coordinate) using ``slices``. As per the above example, to achieve this using ``slices`` we would have to specify all the cube's dimensions _except_ the time dimension.\n",
    "\n",
    "Let's take a look at ``slices_over`` providing this functionality:"
   ]
  },
  {
   "cell_type": "code",
   "execution_count": 60,
   "metadata": {},
   "outputs": [
    {
     "name": "stdout",
     "output_type": "stream",
     "text": [
      "air_potential_temperature / (K)     (time: 3; grid_latitude: 204; grid_longitude: 187)\n",
      "air_potential_temperature / (K)     (time: 3; grid_latitude: 204; grid_longitude: 187)\n",
      "air_potential_temperature / (K)     (time: 3; grid_latitude: 204; grid_longitude: 187)\n",
      "air_potential_temperature / (K)     (time: 3; grid_latitude: 204; grid_longitude: 187)\n",
      "air_potential_temperature / (K)     (time: 3; grid_latitude: 204; grid_longitude: 187)\n",
      "air_potential_temperature / (K)     (time: 3; grid_latitude: 204; grid_longitude: 187)\n",
      "air_potential_temperature / (K)     (time: 3; grid_latitude: 204; grid_longitude: 187)\n"
     ]
    }
   ],
   "source": [
    "fname = iris.sample_data_path('uk_hires.pp')\n",
    "cube = iris.load_cube(fname, 'air_potential_temperature')\n",
    "for subcube in cube.slices_over('model_level_number'):\n",
    "    print(subcube.summary(shorten=True))"
   ]
  },
  {
   "cell_type": "markdown",
   "metadata": {},
   "source": [
    "### Discussion: Indexing and slicing\n",
    "\n",
    "* What are the similarities between indexing and slicing?\n",
    "* What are the differences?\n",
    "* Which cube slicing method would be easiest to use to return all subcubes along the realization dimension?\n",
    "* Which cube slicing method would be easiest to use to return all horizontal 2D slices in a 4D cube?\n",
    "* In what situations would indexing be the best way to subset a cube? What about slicing?"
   ]
  },
  {
   "cell_type": "markdown",
   "metadata": {},
   "source": [
    "### Merge\n",
    "\n",
    "When Iris loads data it tries to reduce the number of cubes returned by collecting together multiple fields with\n",
    "shared metadata into a single multidimensional cube. In Iris, this is known as merging.\n",
    "\n",
    "In order to merge two cubes, they must be identical in everything but a scalar dimension, which goes on to become a new data dimension.\n",
    "\n",
    "The ``iris.load_raw`` function can be used as a diagnostic tool to identify the individual \"fields\" that Iris identifies in a given set of filenames before any merge takes place:"
   ]
  },
  {
   "cell_type": "code",
   "execution_count": 61,
   "metadata": {},
   "outputs": [
    {
     "name": "stdout",
     "output_type": "stream",
     "text": [
      "6\n"
     ]
    }
   ],
   "source": [
    "fname = iris.sample_data_path('GloSea4', 'ensemble_008.pp')\n",
    "raw_cubes = iris.load_raw(fname)\n",
    "\n",
    "print(len(raw_cubes))"
   ]
  },
  {
   "cell_type": "code",
   "execution_count": 62,
   "metadata": {},
   "outputs": [
    {
     "data": {
      "text/plain": [
       "[<iris 'Cube' of surface_temperature / (K) (latitude: 145; longitude: 192)>,\n",
       "<iris 'Cube' of surface_temperature / (K) (latitude: 145; longitude: 192)>,\n",
       "<iris 'Cube' of surface_temperature / (K) (latitude: 145; longitude: 192)>,\n",
       "<iris 'Cube' of surface_temperature / (K) (latitude: 145; longitude: 192)>,\n",
       "<iris 'Cube' of surface_temperature / (K) (latitude: 145; longitude: 192)>,\n",
       "<iris 'Cube' of surface_temperature / (K) (latitude: 145; longitude: 192)>]"
      ]
     },
     "execution_count": 62,
     "metadata": {},
     "output_type": "execute_result"
    }
   ],
   "source": [
    "raw_cubes"
   ]
  },
  {
   "cell_type": "markdown",
   "metadata": {},
   "source": [
    "When we look in detail at these cubes, we find that they are identical in every coordinate except for the scalar forecast_period and time coordinates:"
   ]
  },
  {
   "cell_type": "code",
   "execution_count": 63,
   "metadata": {},
   "outputs": [
    {
     "name": "stdout",
     "output_type": "stream",
     "text": [
      "surface_temperature / (K)           (latitude: 145; longitude: 192)\n",
      "     Dimension coordinates:\n",
      "          latitude                           x               -\n",
      "          longitude                          -               x\n",
      "     Scalar coordinates:\n",
      "          forecast_period: 612.0 hours, bound=(240.0, 984.0) hours\n",
      "          forecast_reference_time: 2011-07-22 00:00:00\n",
      "          realization: 8\n",
      "          time: 2011-08-16 12:00:00, bound=(2011-08-01 00:00:00, 2011-09-01 00:00:00)\n",
      "     Attributes:\n",
      "          STASH: m01s00i024\n",
      "          source: Data from Met Office Unified Model\n",
      "          um_version: 7.6\n",
      "     Cell methods:\n",
      "          mean: time (1 hour)\n",
      "----------------------------------------------------------------------------------------------------\n",
      "surface_temperature / (K)           (latitude: 145; longitude: 192)\n",
      "     Dimension coordinates:\n",
      "          latitude                           x               -\n",
      "          longitude                          -               x\n",
      "     Scalar coordinates:\n",
      "          forecast_period: 1344.0 hours, bound=(984.0, 1704.0) hours\n",
      "          forecast_reference_time: 2011-07-22 00:00:00\n",
      "          realization: 8\n",
      "          time: 2011-09-16 00:00:00, bound=(2011-09-01 00:00:00, 2011-10-01 00:00:00)\n",
      "     Attributes:\n",
      "          STASH: m01s00i024\n",
      "          source: Data from Met Office Unified Model\n",
      "          um_version: 7.6\n",
      "     Cell methods:\n",
      "          mean: time (1 hour)\n"
     ]
    }
   ],
   "source": [
    "print(raw_cubes[0])\n",
    "print('--' * 50)\n",
    "print(raw_cubes[1])"
   ]
  },
  {
   "cell_type": "markdown",
   "metadata": {},
   "source": [
    "Any CubeList can be merged with the ``merge`` method, and the resulting CubeList from load_raw is no different.\n",
    "The ``merge`` method *always* returns another CubeList:"
   ]
  },
  {
   "cell_type": "code",
   "execution_count": 64,
   "metadata": {},
   "outputs": [
    {
     "name": "stdout",
     "output_type": "stream",
     "text": [
      "surface_temperature / (K)           (time: 6; latitude: 145; longitude: 192)\n",
      "     Dimension coordinates:\n",
      "          time                           x            -               -\n",
      "          latitude                       -            x               -\n",
      "          longitude                      -            -               x\n",
      "     Auxiliary coordinates:\n",
      "          forecast_period                x            -               -\n",
      "     Scalar coordinates:\n",
      "          forecast_reference_time: 2011-07-22 00:00:00\n",
      "          realization: 8\n",
      "     Attributes:\n",
      "          STASH: m01s00i024\n",
      "          source: Data from Met Office Unified Model\n",
      "          um_version: 7.6\n",
      "     Cell methods:\n",
      "          mean: time (1 hour)\n"
     ]
    }
   ],
   "source": [
    "merged_cube, = raw_cubes.merge()\n",
    "print(merged_cube)"
   ]
  },
  {
   "cell_type": "markdown",
   "metadata": {},
   "source": [
    "When we look in more detail, we can see that the time coordinate has become a new dimension, as well as gaining another forecast_period auxiliary coordinate:"
   ]
  },
  {
   "cell_type": "code",
   "execution_count": 65,
   "metadata": {},
   "outputs": [
    {
     "name": "stdout",
     "output_type": "stream",
     "text": [
      "DimCoord([2011-08-16 12:00:00, 2011-09-16 00:00:00, 2011-10-16 12:00:00,\n",
      "       2011-11-16 00:00:00, 2011-12-16 12:00:00, 2012-01-16 12:00:00], bounds=[[2011-08-01 00:00:00, 2011-09-01 00:00:00],\n",
      "       [2011-09-01 00:00:00, 2011-10-01 00:00:00],\n",
      "       [2011-10-01 00:00:00, 2011-11-01 00:00:00],\n",
      "       [2011-11-01 00:00:00, 2011-12-01 00:00:00],\n",
      "       [2011-12-01 00:00:00, 2012-01-01 00:00:00],\n",
      "       [2012-01-01 00:00:00, 2012-02-01 00:00:00]], standard_name='time', calendar='gregorian')\n",
      "DimCoord(array([ 612., 1344., 2076., 2808., 3540., 4284.]), bounds=array([[ 240.,  984.],\n",
      "       [ 984., 1704.],\n",
      "       [1704., 2448.],\n",
      "       [2448., 3168.],\n",
      "       [3168., 3912.],\n",
      "       [3912., 4656.]]), standard_name='forecast_period', units=Unit('hours'))\n"
     ]
    }
   ],
   "source": [
    "print(merged_cube.coord('time'))\n",
    "print(merged_cube.coord('forecast_period'))"
   ]
  },
  {
   "cell_type": "markdown",
   "metadata": {},
   "source": [
    "### Identifying merge problems\n",
    "\n",
    "In order to avoid the Iris merge functionality making often inappropriate assumptions about incoming data, merge is strict with regards to the uniformity of the incoming cubes.\n",
    "\n",
    "For example, if we load the fields from two ensemble members from the GloSea4 model sample data, we see we have 12 fields before any merge takes place:"
   ]
  },
  {
   "cell_type": "code",
   "execution_count": 66,
   "metadata": {},
   "outputs": [
    {
     "name": "stdout",
     "output_type": "stream",
     "text": [
      "12\n"
     ]
    }
   ],
   "source": [
    "fname = iris.sample_data_path('GloSea4', 'ensemble_00[34].pp')\n",
    "cubes = iris.load_raw(fname, 'surface_temperature')\n",
    "print(len(cubes))"
   ]
  },
  {
   "cell_type": "markdown",
   "metadata": {},
   "source": [
    "If we try to merge these 12 cubes we get 2 cubes rather than one:"
   ]
  },
  {
   "cell_type": "code",
   "execution_count": 67,
   "metadata": {},
   "outputs": [
    {
     "name": "stdout",
     "output_type": "stream",
     "text": [
      "0: surface_temperature / (K)           (time: 6; latitude: 145; longitude: 192)\n",
      "1: surface_temperature / (K)           (time: 6; latitude: 145; longitude: 192)\n"
     ]
    }
   ],
   "source": [
    "incomplete_cubes = cubes.merge(unique=False)\n",
    "print(incomplete_cubes)"
   ]
  },
  {
   "cell_type": "markdown",
   "metadata": {},
   "source": [
    "When we look in more detail at these two cubes, what is different between the two? (Hint: One value changes, another is completely missing)"
   ]
  },
  {
   "cell_type": "code",
   "execution_count": 68,
   "metadata": {},
   "outputs": [
    {
     "name": "stdout",
     "output_type": "stream",
     "text": [
      "surface_temperature / (K)           (time: 6; latitude: 145; longitude: 192)\n",
      "     Dimension coordinates:\n",
      "          time                           x            -               -\n",
      "          latitude                       -            x               -\n",
      "          longitude                      -            -               x\n",
      "     Auxiliary coordinates:\n",
      "          forecast_period                x            -               -\n",
      "     Scalar coordinates:\n",
      "          forecast_reference_time: 2011-07-19 00:00:00\n",
      "     Attributes:\n",
      "          STASH: m01s00i024\n",
      "          source: Data from Met Office Unified Model\n",
      "          um_version: 7.6\n",
      "     Cell methods:\n",
      "          mean: time (1 hour)\n",
      "----------------------------------------------------------------------------------------------------\n",
      "surface_temperature / (K)           (time: 6; latitude: 145; longitude: 192)\n",
      "     Dimension coordinates:\n",
      "          time                           x            -               -\n",
      "          latitude                       -            x               -\n",
      "          longitude                      -            -               x\n",
      "     Auxiliary coordinates:\n",
      "          forecast_period                x            -               -\n",
      "     Scalar coordinates:\n",
      "          forecast_reference_time: 2011-07-20 00:00:00\n",
      "          realization: 4\n",
      "     Attributes:\n",
      "          STASH: m01s00i024\n",
      "          source: Data from Met Office Unified Model\n",
      "          um_version: 7.6\n",
      "     Cell methods:\n",
      "          mean: time (1 hour)\n"
     ]
    }
   ],
   "source": [
    "print(incomplete_cubes[0])\n",
    "print('--' * 50)\n",
    "print(incomplete_cubes[1])"
   ]
  },
  {
   "cell_type": "markdown",
   "metadata": {},
   "source": [
    "By adding the missing coordinate, we can trigger a merge of the 12 cubes into a single cube, as expected:"
   ]
  },
  {
   "cell_type": "code",
   "execution_count": 69,
   "metadata": {},
   "outputs": [
    {
     "name": "stdout",
     "output_type": "stream",
     "text": [
      "0: surface_temperature / (K)           (time: 6; forecast_reference_time: 2; latitude: 145; longitude: 192)\n"
     ]
    }
   ],
   "source": [
    "for cube in cubes:\n",
    "    if not cube.coords('realization'):\n",
    "        cube.add_aux_coord(iris.coords.DimCoord(np.int32(3),\n",
    "                                                'realization'))\n",
    "\n",
    "merged_cubes = cubes.merge()\n",
    "print(merged_cubes)"
   ]
  },
  {
   "cell_type": "code",
   "execution_count": 70,
   "metadata": {},
   "outputs": [
    {
     "data": {
      "text/html": [
       "\n",
       "<style>\n",
       "  a.iris {\n",
       "      text-decoration: none !important;\n",
       "  }\n",
       "  table.iris {\n",
       "      white-space: pre;\n",
       "      border: 1px solid;\n",
       "      border-color: #9c9c9c;\n",
       "      font-family: monaco, monospace;\n",
       "  }\n",
       "  th.iris {\n",
       "      background: #303f3f;\n",
       "      color: #e0e0e0;\n",
       "      border-left: 1px solid;\n",
       "      border-color: #9c9c9c;\n",
       "      font-size: 1.05em;\n",
       "      min-width: 50px;\n",
       "      max-width: 125px;\n",
       "  }\n",
       "  tr.iris :first-child {\n",
       "      border-right: 1px solid #9c9c9c !important;\n",
       "  }\n",
       "  td.iris-title {\n",
       "      background: #d5dcdf;\n",
       "      border-top: 1px solid #9c9c9c;\n",
       "      font-weight: bold;\n",
       "  }\n",
       "  .iris-word-cell {\n",
       "      text-align: left !important;\n",
       "      white-space: pre;\n",
       "  }\n",
       "  .iris-subheading-cell {\n",
       "      padding-left: 2em !important;\n",
       "  }\n",
       "  .iris-inclusion-cell {\n",
       "      padding-right: 1em !important;\n",
       "  }\n",
       "  .iris-panel-body {\n",
       "      padding-top: 0px;\n",
       "  }\n",
       "  .iris-panel-title {\n",
       "      padding-left: 3em;\n",
       "  }\n",
       "  .iris-panel-title {\n",
       "      margin-top: 7px;\n",
       "  }\n",
       "</style>\n",
       "<table class=\"iris\" id=\"140342495848376\">\n",
       "    <tr class=\"iris\">\n",
       "<th class=\"iris iris-word-cell\">Surface Temperature (K)</th>\n",
       "<th class=\"iris iris-word-cell\">time</th>\n",
       "<th class=\"iris iris-word-cell\">forecast_reference_time</th>\n",
       "<th class=\"iris iris-word-cell\">latitude</th>\n",
       "<th class=\"iris iris-word-cell\">longitude</th>\n",
       "</tr>\n",
       "    <tr class=\"iris\">\n",
       "<td class=\"iris-word-cell iris-subheading-cell\">Shape</td>\n",
       "<td class=\"iris iris-inclusion-cell\">6</td>\n",
       "<td class=\"iris iris-inclusion-cell\">2</td>\n",
       "<td class=\"iris iris-inclusion-cell\">145</td>\n",
       "<td class=\"iris iris-inclusion-cell\">192</td>\n",
       "</td>\n",
       "    <tr class=\"iris\">\n",
       "    <td class=\"iris-title iris-word-cell\">Dimension coordinates</td>\n",
       "    <td class=\"iris-title\"></td>\n",
       "    <td class=\"iris-title\"></td>\n",
       "    <td class=\"iris-title\"></td>\n",
       "    <td class=\"iris-title\"></td>\n",
       "</tr>\n",
       "<tr class=\"iris\">\n",
       "    <td class=\"iris-word-cell iris-subheading-cell\">\ttime</td>\n",
       "    <td class=\"iris-inclusion-cell\">x</td>\n",
       "    <td class=\"iris-inclusion-cell\">-</td>\n",
       "    <td class=\"iris-inclusion-cell\">-</td>\n",
       "    <td class=\"iris-inclusion-cell\">-</td>\n",
       "</tr>\n",
       "<tr class=\"iris\">\n",
       "    <td class=\"iris-word-cell iris-subheading-cell\">\tforecast_reference_time</td>\n",
       "    <td class=\"iris-inclusion-cell\">-</td>\n",
       "    <td class=\"iris-inclusion-cell\">x</td>\n",
       "    <td class=\"iris-inclusion-cell\">-</td>\n",
       "    <td class=\"iris-inclusion-cell\">-</td>\n",
       "</tr>\n",
       "<tr class=\"iris\">\n",
       "    <td class=\"iris-word-cell iris-subheading-cell\">\tlatitude</td>\n",
       "    <td class=\"iris-inclusion-cell\">-</td>\n",
       "    <td class=\"iris-inclusion-cell\">-</td>\n",
       "    <td class=\"iris-inclusion-cell\">x</td>\n",
       "    <td class=\"iris-inclusion-cell\">-</td>\n",
       "</tr>\n",
       "<tr class=\"iris\">\n",
       "    <td class=\"iris-word-cell iris-subheading-cell\">\tlongitude</td>\n",
       "    <td class=\"iris-inclusion-cell\">-</td>\n",
       "    <td class=\"iris-inclusion-cell\">-</td>\n",
       "    <td class=\"iris-inclusion-cell\">-</td>\n",
       "    <td class=\"iris-inclusion-cell\">x</td>\n",
       "</tr>\n",
       "<tr class=\"iris\">\n",
       "    <td class=\"iris-title iris-word-cell\">Auxiliary coordinates</td>\n",
       "    <td class=\"iris-title\"></td>\n",
       "    <td class=\"iris-title\"></td>\n",
       "    <td class=\"iris-title\"></td>\n",
       "    <td class=\"iris-title\"></td>\n",
       "</tr>\n",
       "<tr class=\"iris\">\n",
       "    <td class=\"iris-word-cell iris-subheading-cell\">\tforecast_period</td>\n",
       "    <td class=\"iris-inclusion-cell\">x</td>\n",
       "    <td class=\"iris-inclusion-cell\">x</td>\n",
       "    <td class=\"iris-inclusion-cell\">-</td>\n",
       "    <td class=\"iris-inclusion-cell\">-</td>\n",
       "</tr>\n",
       "<tr class=\"iris\">\n",
       "    <td class=\"iris-word-cell iris-subheading-cell\">\trealization</td>\n",
       "    <td class=\"iris-inclusion-cell\">x</td>\n",
       "    <td class=\"iris-inclusion-cell\">x</td>\n",
       "    <td class=\"iris-inclusion-cell\">-</td>\n",
       "    <td class=\"iris-inclusion-cell\">-</td>\n",
       "</tr>\n",
       "<tr class=\"iris\">\n",
       "    <td class=\"iris-title iris-word-cell\">Attributes</td>\n",
       "    <td class=\"iris-title\"></td>\n",
       "    <td class=\"iris-title\"></td>\n",
       "    <td class=\"iris-title\"></td>\n",
       "    <td class=\"iris-title\"></td>\n",
       "</tr>\n",
       "<tr class=\"iris\">\n",
       "    <td class=\"iris-word-cell iris-subheading-cell\">\tSTASH</td>\n",
       "    <td class=\"iris-word-cell\" colspan=\"4\">m01s00i024</td>\n",
       "</tr>\n",
       "<tr class=\"iris\">\n",
       "    <td class=\"iris-word-cell iris-subheading-cell\">\tsource</td>\n",
       "    <td class=\"iris-word-cell\" colspan=\"4\">Data from Met Office Unified Model</td>\n",
       "</tr>\n",
       "<tr class=\"iris\">\n",
       "    <td class=\"iris-word-cell iris-subheading-cell\">\tum_version</td>\n",
       "    <td class=\"iris-word-cell\" colspan=\"4\">7.6</td>\n",
       "</tr>\n",
       "<tr class=\"iris\">\n",
       "    <td class=\"iris-title iris-word-cell\">Cell methods</td>\n",
       "    <td class=\"iris-title\"></td>\n",
       "    <td class=\"iris-title\"></td>\n",
       "    <td class=\"iris-title\"></td>\n",
       "    <td class=\"iris-title\"></td>\n",
       "</tr>\n",
       "<tr class=\"iris\">\n",
       "    <td class=\"iris-word-cell iris-subheading-cell\">\tmean</td>\n",
       "    <td class=\"iris-word-cell\" colspan=\"4\">time (1 hour)</td>\n",
       "</tr>\n",
       "</table>\n",
       "        "
      ],
      "text/plain": [
       "<iris 'Cube' of surface_temperature / (K) (time: 6; forecast_reference_time: 2; latitude: 145; longitude: 192)>"
      ]
     },
     "execution_count": 70,
     "metadata": {},
     "output_type": "execute_result"
    }
   ],
   "source": [
    "merged_cubes[0]"
   ]
  },
  {
   "cell_type": "markdown",
   "metadata": {},
   "source": [
    "Iris includes functionality to simplify the identification process for causes of failed merges. The ``merge_cube`` method of a CubeList expects the list of cubes to contain only cubes that can be merged to produce a single cube. If they do not merge to a single cube, a descriptive exception will be raised. For instance:\n",
    "\n",
    "```\n",
    "   >>> cubes.merge_cube()\n",
    "   Traceback (most recent call last):\n",
    "     File \"<stdin>\", line 1, in <module>\n",
    "     ...\n",
    "   iris.exceptions.MergeError: failed to merge into a single cube.\n",
    "     Coordinates in cube.aux_coords (scalar) differ: realization.\n",
    "```"
   ]
  },
  {
   "cell_type": "markdown",
   "metadata": {},
   "source": [
    "### Concatenate ###\n",
    "\n",
    "We have seen that merge combines a list of cubes with a common scalar coordinate to produce a single cube with a new dimension created from these scalar values.\n",
    "\n",
    "But what happens if you try to combine cubes along a common dimension?"
   ]
  },
  {
   "cell_type": "code",
   "execution_count": 71,
   "metadata": {},
   "outputs": [
    {
     "name": "stdout",
     "output_type": "stream",
     "text": [
      "0: air_temperature / (K)               (time: 10; latitude: 37; longitude: 49)\n",
      "1: air_temperature / (K)               (time: 10; latitude: 37; longitude: 49)\n"
     ]
    },
    {
     "name": "stderr",
     "output_type": "stream",
     "text": [
      "/opt/scitools/environments/experimental/current/lib/python3.6/site-packages/iris/fileformats/_pyke_rules/compiled_krb/fc_rules_cf_fc.py:2029: UserWarning: Gracefully filling 'latitude' dimension coordinate masked points\n",
      "  warnings.warn(msg.format(str(cf_coord_var.cf_name)))\n",
      "/opt/scitools/environments/experimental/current/lib/python3.6/site-packages/iris/fileformats/_pyke_rules/compiled_krb/fc_rules_cf_fc.py:2029: UserWarning: Gracefully filling 'longitude' dimension coordinate masked points\n",
      "  warnings.warn(msg.format(str(cf_coord_var.cf_name)))\n",
      "/opt/scitools/environments/experimental/current/lib/python3.6/site-packages/iris/fileformats/_pyke_rules/compiled_krb/fc_rules_cf_fc.py:2029: UserWarning: Gracefully filling 'time' dimension coordinate masked points\n",
      "  warnings.warn(msg.format(str(cf_coord_var.cf_name)))\n",
      "/opt/scitools/environments/experimental/current/lib/python3.6/site-packages/iris/fileformats/_pyke_rules/compiled_krb/fc_rules_cf_fc.py:2036: UserWarning: Gracefully filling 'time' dimension coordinate masked bounds\n",
      "  warnings.warn(msg.format(str(cf_coord_var.cf_name)))\n"
     ]
    }
   ],
   "source": [
    "fname = iris.sample_data_path('A1B_north_america.nc')\n",
    "cube = iris.load_cube(fname)\n",
    "\n",
    "cube_1 = cube[:10]\n",
    "cube_2 = cube[10:20]\n",
    "cubes = iris.cube.CubeList([cube_1, cube_2])\n",
    "print(cubes)"
   ]
  },
  {
   "cell_type": "markdown",
   "metadata": {},
   "source": [
    "These cubes should be able to be merged; after all, they have both come from the same original cube!"
   ]
  },
  {
   "cell_type": "code",
   "execution_count": 72,
   "metadata": {},
   "outputs": [
    {
     "name": "stdout",
     "output_type": "stream",
     "text": [
      "0: air_temperature / (K)               (time: 10; latitude: 37; longitude: 49)\n",
      "1: air_temperature / (K)               (time: 10; latitude: 37; longitude: 49)\n"
     ]
    }
   ],
   "source": [
    "print(cubes.merge())"
   ]
  },
  {
   "cell_type": "markdown",
   "metadata": {},
   "source": [
    "Merge cannot be used to combine common non-scalar coordinates. Instead we must use concatenate, which joins together (\"concatenates\") common non-scalar coordinates to produce a single cube with the common dimension extended:"
   ]
  },
  {
   "cell_type": "code",
   "execution_count": 73,
   "metadata": {},
   "outputs": [
    {
     "name": "stdout",
     "output_type": "stream",
     "text": [
      "0: air_temperature / (K)               (time: 20; latitude: 37; longitude: 49)\n"
     ]
    }
   ],
   "source": [
    "print(cubes.concatenate())"
   ]
  },
  {
   "cell_type": "markdown",
   "metadata": {},
   "source": [
    "As with merge, Iris contains functionality to simplify the identification process for causes of failed concatenations. The ``concatenate_cube`` method of a CubeList expects the list of cubes to contain only cubes that can be concatenated to produce a single cube. If they do not concatenate to a single cube, a descriptive error will be raised. For instance:\n",
    "\n",
    "```\n",
    "    >>> print cubes.concatenate_cube()\n",
    "    Traceback (most recent call last):\n",
    "      ...\n",
    "    iris.exceptions.ConcatenateError: failed to concatenate into a single cube.\n",
    "      Scalar coordinates differ: forecast_reference_time, height != forecast_reference_time\n",
    "```"
   ]
  },
  {
   "cell_type": "markdown",
   "metadata": {},
   "source": [
    "### Group Exercise 3\n",
    "\n",
    "The following exercise is designed to give you experience of solving issues that prevent a merge from taking place.\n",
    "The output from ``merge_cube`` is included to help with identification, and once a fix has been identified, ``raw_cubes.merge()`` should result in a CubeList containing a single cube:\n",
    "\n",
    "The first exercise is completed below:"
   ]
  },
  {
   "cell_type": "markdown",
   "metadata": {},
   "source": [
    "1\\. Identify and resolve the issue preventing the merge of ``air_potential_temperature`` cubes from ``resources/merge_exercise.1.*.nc``.\n",
    "\n",
    "    >>> raw_cubes = iris.load_raw('../resources/merge_exercise.1.*.nc', 'air_potential_temperature')\n",
    "    >>> raw_cubes.merge_cube()\n",
    "    Traceback (most recent call last):\n",
    "    ...\n",
    "    iris.exceptions.MergeError: failed to merge into a single cube.\n",
    "      cube.attributes keys differ: 'History'\n"
   ]
  },
  {
   "cell_type": "code",
   "execution_count": 87,
   "metadata": {},
   "outputs": [
    {
     "name": "stdout",
     "output_type": "stream",
     "text": [
      "{'History': 'unknown', 'source': 'Iris test case', 'Conventions': 'CF-1.5'}\n",
      "{'source': 'Iris test case', 'Conventions': 'CF-1.5'}\n",
      "----------------------------------------------------------------------------------------------------\n",
      "0: air_potential_temperature / (K)     (time: 2; grid_latitude: 100; grid_longitude: 100)\n"
     ]
    },
    {
     "name": "stderr",
     "output_type": "stream",
     "text": [
      "/opt/scitools/environments/experimental/current/lib/python3.6/site-packages/iris/fileformats/_pyke_rules/compiled_krb/fc_rules_cf_fc.py:2029: UserWarning: Gracefully filling 'grid_latitude' dimension coordinate masked points\n",
      "  warnings.warn(msg.format(str(cf_coord_var.cf_name)))\n",
      "/opt/scitools/environments/experimental/current/lib/python3.6/site-packages/iris/fileformats/_pyke_rules/compiled_krb/fc_rules_cf_fc.py:2036: UserWarning: Gracefully filling 'grid_latitude' dimension coordinate masked bounds\n",
      "  warnings.warn(msg.format(str(cf_coord_var.cf_name)))\n",
      "/opt/scitools/environments/experimental/current/lib/python3.6/site-packages/iris/fileformats/_pyke_rules/compiled_krb/fc_rules_cf_fc.py:2029: UserWarning: Gracefully filling 'grid_longitude' dimension coordinate masked points\n",
      "  warnings.warn(msg.format(str(cf_coord_var.cf_name)))\n",
      "/opt/scitools/environments/experimental/current/lib/python3.6/site-packages/iris/fileformats/_pyke_rules/compiled_krb/fc_rules_cf_fc.py:2036: UserWarning: Gracefully filling 'grid_longitude' dimension coordinate masked bounds\n",
      "  warnings.warn(msg.format(str(cf_coord_var.cf_name)))\n",
      "/opt/scitools/environments/experimental/current/lib/python3.6/site-packages/iris/fileformats/_pyke_rules/compiled_krb/fc_rules_cf_fc.py:2029: UserWarning: Gracefully filling 'grid_latitude' dimension coordinate masked points\n",
      "  warnings.warn(msg.format(str(cf_coord_var.cf_name)))\n",
      "/opt/scitools/environments/experimental/current/lib/python3.6/site-packages/iris/fileformats/_pyke_rules/compiled_krb/fc_rules_cf_fc.py:2036: UserWarning: Gracefully filling 'grid_latitude' dimension coordinate masked bounds\n",
      "  warnings.warn(msg.format(str(cf_coord_var.cf_name)))\n",
      "/opt/scitools/environments/experimental/current/lib/python3.6/site-packages/iris/fileformats/_pyke_rules/compiled_krb/fc_rules_cf_fc.py:2029: UserWarning: Gracefully filling 'grid_longitude' dimension coordinate masked points\n",
      "  warnings.warn(msg.format(str(cf_coord_var.cf_name)))\n",
      "/opt/scitools/environments/experimental/current/lib/python3.6/site-packages/iris/fileformats/_pyke_rules/compiled_krb/fc_rules_cf_fc.py:2036: UserWarning: Gracefully filling 'grid_longitude' dimension coordinate masked bounds\n",
      "  warnings.warn(msg.format(str(cf_coord_var.cf_name)))\n",
      "/opt/scitools/environments/experimental/current/lib/python3.6/site-packages/iris/fileformats/_pyke_rules/compiled_krb/fc_rules_cf_fc.py:2029: UserWarning: Gracefully filling 'grid_latitude' dimension coordinate masked points\n",
      "  warnings.warn(msg.format(str(cf_coord_var.cf_name)))\n",
      "/opt/scitools/environments/experimental/current/lib/python3.6/site-packages/iris/fileformats/_pyke_rules/compiled_krb/fc_rules_cf_fc.py:2036: UserWarning: Gracefully filling 'grid_latitude' dimension coordinate masked bounds\n",
      "  warnings.warn(msg.format(str(cf_coord_var.cf_name)))\n",
      "/opt/scitools/environments/experimental/current/lib/python3.6/site-packages/iris/fileformats/_pyke_rules/compiled_krb/fc_rules_cf_fc.py:2029: UserWarning: Gracefully filling 'grid_longitude' dimension coordinate masked points\n",
      "  warnings.warn(msg.format(str(cf_coord_var.cf_name)))\n",
      "/opt/scitools/environments/experimental/current/lib/python3.6/site-packages/iris/fileformats/_pyke_rules/compiled_krb/fc_rules_cf_fc.py:2036: UserWarning: Gracefully filling 'grid_longitude' dimension coordinate masked bounds\n",
      "  warnings.warn(msg.format(str(cf_coord_var.cf_name)))\n",
      "/opt/scitools/environments/experimental/current/lib/python3.6/site-packages/iris/fileformats/_pyke_rules/compiled_krb/fc_rules_cf_fc.py:2029: UserWarning: Gracefully filling 'grid_latitude' dimension coordinate masked points\n",
      "  warnings.warn(msg.format(str(cf_coord_var.cf_name)))\n",
      "/opt/scitools/environments/experimental/current/lib/python3.6/site-packages/iris/fileformats/_pyke_rules/compiled_krb/fc_rules_cf_fc.py:2036: UserWarning: Gracefully filling 'grid_latitude' dimension coordinate masked bounds\n",
      "  warnings.warn(msg.format(str(cf_coord_var.cf_name)))\n",
      "/opt/scitools/environments/experimental/current/lib/python3.6/site-packages/iris/fileformats/_pyke_rules/compiled_krb/fc_rules_cf_fc.py:2029: UserWarning: Gracefully filling 'grid_longitude' dimension coordinate masked points\n",
      "  warnings.warn(msg.format(str(cf_coord_var.cf_name)))\n",
      "/opt/scitools/environments/experimental/current/lib/python3.6/site-packages/iris/fileformats/_pyke_rules/compiled_krb/fc_rules_cf_fc.py:2036: UserWarning: Gracefully filling 'grid_longitude' dimension coordinate masked bounds\n",
      "  warnings.warn(msg.format(str(cf_coord_var.cf_name)))\n"
     ]
    }
   ],
   "source": [
    "raw_cubes = iris.load_raw('../resources/merge_exercise.1.*.nc', 'air_potential_temperature')\n",
    "\n",
    "# Print the attributes, clearly one is different.\n",
    "for cube in raw_cubes:\n",
    "    print(cube.attributes)\n",
    "\n",
    "# Remove the history attribute from the first cube.\n",
    "del raw_cubes[0].attributes['History']\n",
    "\n",
    "#iris.experimental.equalise_cubes(raw_cubes)\n",
    "\n",
    "# Check that this has meant that a merge now results in a single cube.\n",
    "print('--' * 50)\n",
    "print(raw_cubes.merge())"
   ]
  },
  {
   "cell_type": "markdown",
   "metadata": {},
   "source": [
    "2\\. Identify and resolve the issue preventing the merge of ``air_potential_temperature`` cubes from ``resources/merge_exercise.5.*.nc`` (hint: can these cubes be merged?).\n",
    "\n",
    "    >>> raw_cubes = iris.load_raw('../resources/merge_exercise.5.*.nc', 'air_potential_temperature')\n",
    "    >>> raw_cubes.merge_cube()\n",
    "    Traceback (most recent call last):\n",
    "    ...\n",
    "    iris.exceptions.MergeError: failed to merge into a single cube.\n",
    "      Coordinates in cube.dim_coords differ: time."
   ]
  },
  {
   "cell_type": "code",
   "execution_count": 98,
   "metadata": {
    "scrolled": true
   },
   "outputs": [
    {
     "data": {
      "text/html": [
       "\n",
       "<style>\n",
       "  a.iris {\n",
       "      text-decoration: none !important;\n",
       "  }\n",
       "  table.iris {\n",
       "      white-space: pre;\n",
       "      border: 1px solid;\n",
       "      border-color: #9c9c9c;\n",
       "      font-family: monaco, monospace;\n",
       "  }\n",
       "  th.iris {\n",
       "      background: #303f3f;\n",
       "      color: #e0e0e0;\n",
       "      border-left: 1px solid;\n",
       "      border-color: #9c9c9c;\n",
       "      font-size: 1.05em;\n",
       "      min-width: 50px;\n",
       "      max-width: 125px;\n",
       "  }\n",
       "  tr.iris :first-child {\n",
       "      border-right: 1px solid #9c9c9c !important;\n",
       "  }\n",
       "  td.iris-title {\n",
       "      background: #d5dcdf;\n",
       "      border-top: 1px solid #9c9c9c;\n",
       "      font-weight: bold;\n",
       "  }\n",
       "  .iris-word-cell {\n",
       "      text-align: left !important;\n",
       "      white-space: pre;\n",
       "  }\n",
       "  .iris-subheading-cell {\n",
       "      padding-left: 2em !important;\n",
       "  }\n",
       "  .iris-inclusion-cell {\n",
       "      padding-right: 1em !important;\n",
       "  }\n",
       "  .iris-panel-body {\n",
       "      padding-top: 0px;\n",
       "  }\n",
       "  .iris-panel-title {\n",
       "      padding-left: 3em;\n",
       "  }\n",
       "  .iris-panel-title {\n",
       "      margin-top: 7px;\n",
       "  }\n",
       "</style>\n",
       "<table class=\"iris\" id=\"140342426319336\">\n",
       "    <tr class=\"iris\">\n",
       "<th class=\"iris iris-word-cell\">Air Potential Temperature (K)</th>\n",
       "<th class=\"iris iris-word-cell\">time</th>\n",
       "<th class=\"iris iris-word-cell\">grid_latitude</th>\n",
       "<th class=\"iris iris-word-cell\">grid_longitude</th>\n",
       "</tr>\n",
       "    <tr class=\"iris\">\n",
       "<td class=\"iris-word-cell iris-subheading-cell\">Shape</td>\n",
       "<td class=\"iris iris-inclusion-cell\">2</td>\n",
       "<td class=\"iris iris-inclusion-cell\">100</td>\n",
       "<td class=\"iris iris-inclusion-cell\">100</td>\n",
       "</td>\n",
       "    <tr class=\"iris\">\n",
       "    <td class=\"iris-title iris-word-cell\">Dimension coordinates</td>\n",
       "    <td class=\"iris-title\"></td>\n",
       "    <td class=\"iris-title\"></td>\n",
       "    <td class=\"iris-title\"></td>\n",
       "</tr>\n",
       "<tr class=\"iris\">\n",
       "    <td class=\"iris-word-cell iris-subheading-cell\">\ttime</td>\n",
       "    <td class=\"iris-inclusion-cell\">x</td>\n",
       "    <td class=\"iris-inclusion-cell\">-</td>\n",
       "    <td class=\"iris-inclusion-cell\">-</td>\n",
       "</tr>\n",
       "<tr class=\"iris\">\n",
       "    <td class=\"iris-word-cell iris-subheading-cell\">\tgrid_latitude</td>\n",
       "    <td class=\"iris-inclusion-cell\">-</td>\n",
       "    <td class=\"iris-inclusion-cell\">x</td>\n",
       "    <td class=\"iris-inclusion-cell\">-</td>\n",
       "</tr>\n",
       "<tr class=\"iris\">\n",
       "    <td class=\"iris-word-cell iris-subheading-cell\">\tgrid_longitude</td>\n",
       "    <td class=\"iris-inclusion-cell\">-</td>\n",
       "    <td class=\"iris-inclusion-cell\">-</td>\n",
       "    <td class=\"iris-inclusion-cell\">x</td>\n",
       "</tr>\n",
       "<tr class=\"iris\">\n",
       "    <td class=\"iris-title iris-word-cell\">Auxiliary coordinates</td>\n",
       "    <td class=\"iris-title\"></td>\n",
       "    <td class=\"iris-title\"></td>\n",
       "    <td class=\"iris-title\"></td>\n",
       "</tr>\n",
       "<tr class=\"iris\">\n",
       "    <td class=\"iris-word-cell iris-subheading-cell\">\tsurface_altitude</td>\n",
       "    <td class=\"iris-inclusion-cell\">-</td>\n",
       "    <td class=\"iris-inclusion-cell\">x</td>\n",
       "    <td class=\"iris-inclusion-cell\">x</td>\n",
       "</tr>\n",
       "<tr class=\"iris\">\n",
       "    <td class=\"iris-title iris-word-cell\">Derived coordinates</td>\n",
       "    <td class=\"iris-title\"></td>\n",
       "    <td class=\"iris-title\"></td>\n",
       "    <td class=\"iris-title\"></td>\n",
       "</tr>\n",
       "<tr class=\"iris\">\n",
       "    <td class=\"iris-word-cell iris-subheading-cell\">\taltitude</td>\n",
       "    <td class=\"iris-inclusion-cell\">-</td>\n",
       "    <td class=\"iris-inclusion-cell\">x</td>\n",
       "    <td class=\"iris-inclusion-cell\">x</td>\n",
       "</tr>\n",
       "<tr class=\"iris\">\n",
       "    <td class=\"iris-title iris-word-cell\">Scalar coordinates</td>\n",
       "    <td class=\"iris-title\"></td>\n",
       "    <td class=\"iris-title\"></td>\n",
       "    <td class=\"iris-title\"></td>\n",
       "</tr>\n",
       "<tr class=\"iris\">\n",
       "    <td class=\"iris-word-cell iris-subheading-cell\">\tatmosphere_hybrid_height_coordinate</td>\n",
       "    <td class=\"iris-word-cell\" colspan=\"3\">5.0 m, bound=(0.0, 13.333332) m</td>\n",
       "</tr>\n",
       "<tr class=\"iris\">\n",
       "    <td class=\"iris-word-cell iris-subheading-cell\">\tforecast_period</td>\n",
       "    <td class=\"iris-word-cell\" colspan=\"3\">0.0 hours</td>\n",
       "</tr>\n",
       "<tr class=\"iris\">\n",
       "    <td class=\"iris-word-cell iris-subheading-cell\">\tmodel_level_number</td>\n",
       "    <td class=\"iris-word-cell\" colspan=\"3\">1</td>\n",
       "</tr>\n",
       "<tr class=\"iris\">\n",
       "    <td class=\"iris-word-cell iris-subheading-cell\">\tsigma</td>\n",
       "    <td class=\"iris-word-cell\" colspan=\"3\">0.9994238, bound=(1.0, 0.99846387)</td>\n",
       "</tr>\n",
       "<tr class=\"iris\">\n",
       "    <td class=\"iris-title iris-word-cell\">Attributes</td>\n",
       "    <td class=\"iris-title\"></td>\n",
       "    <td class=\"iris-title\"></td>\n",
       "    <td class=\"iris-title\"></td>\n",
       "</tr>\n",
       "<tr class=\"iris\">\n",
       "    <td class=\"iris-word-cell iris-subheading-cell\">\tConventions</td>\n",
       "    <td class=\"iris-word-cell\" colspan=\"3\">CF-1.5</td>\n",
       "</tr>\n",
       "<tr class=\"iris\">\n",
       "    <td class=\"iris-word-cell iris-subheading-cell\">\tsource</td>\n",
       "    <td class=\"iris-word-cell\" colspan=\"3\">Iris test case</td>\n",
       "</tr>\n",
       "</table>\n",
       "        "
      ],
      "text/plain": [
       "<iris 'Cube' of air_potential_temperature / (K) (time: 2; grid_latitude: 100; grid_longitude: 100)>"
      ]
     },
     "execution_count": 98,
     "metadata": {},
     "output_type": "execute_result"
    }
   ],
   "source": [
    "raw_cubes = iris.load_raw('../resources/merge_exercise.5.*.nc', 'air_potential_temperature')\n",
    "new_cubes = [cube[0] for cube in raw_cubes]\n",
    "iris.cube.CubeList(new_cubes).merge_cube()"
   ]
  },
  {
   "cell_type": "code",
   "execution_count": 100,
   "metadata": {},
   "outputs": [
    {
     "data": {
      "text/plain": [
       "[<iris 'Cube' of air_potential_temperature / (K) (grid_latitude: 100; grid_longitude: 100)>,\n",
       " <iris 'Cube' of air_potential_temperature / (K) (grid_latitude: 100; grid_longitude: 100)>]"
      ]
     },
     "execution_count": 100,
     "metadata": {},
     "output_type": "execute_result"
    }
   ],
   "source": [
    "new_cubes = []\n",
    "for cube in raw_cubes:\n",
    "    new_cubes.extend(cube.slices_over('time'))\n",
    "new_cubes"
   ]
  },
  {
   "cell_type": "code",
   "execution_count": 102,
   "metadata": {},
   "outputs": [
    {
     "data": {
      "text/html": [
       "\n",
       "<style>\n",
       "  a.iris {\n",
       "      text-decoration: none !important;\n",
       "  }\n",
       "  table.iris {\n",
       "      white-space: pre;\n",
       "      border: 1px solid;\n",
       "      border-color: #9c9c9c;\n",
       "      font-family: monaco, monospace;\n",
       "  }\n",
       "  th.iris {\n",
       "      background: #303f3f;\n",
       "      color: #e0e0e0;\n",
       "      border-left: 1px solid;\n",
       "      border-color: #9c9c9c;\n",
       "      font-size: 1.05em;\n",
       "      min-width: 50px;\n",
       "      max-width: 125px;\n",
       "  }\n",
       "  tr.iris :first-child {\n",
       "      border-right: 1px solid #9c9c9c !important;\n",
       "  }\n",
       "  td.iris-title {\n",
       "      background: #d5dcdf;\n",
       "      border-top: 1px solid #9c9c9c;\n",
       "      font-weight: bold;\n",
       "  }\n",
       "  .iris-word-cell {\n",
       "      text-align: left !important;\n",
       "      white-space: pre;\n",
       "  }\n",
       "  .iris-subheading-cell {\n",
       "      padding-left: 2em !important;\n",
       "  }\n",
       "  .iris-inclusion-cell {\n",
       "      padding-right: 1em !important;\n",
       "  }\n",
       "  .iris-panel-body {\n",
       "      padding-top: 0px;\n",
       "  }\n",
       "  .iris-panel-title {\n",
       "      padding-left: 3em;\n",
       "  }\n",
       "  .iris-panel-title {\n",
       "      margin-top: 7px;\n",
       "  }\n",
       "</style>\n",
       "<table class=\"iris\" id=\"140342459167520\">\n",
       "    <tr class=\"iris\">\n",
       "<th class=\"iris iris-word-cell\">Air Potential Temperature (K)</th>\n",
       "<th class=\"iris iris-word-cell\">time</th>\n",
       "<th class=\"iris iris-word-cell\">grid_latitude</th>\n",
       "<th class=\"iris iris-word-cell\">grid_longitude</th>\n",
       "</tr>\n",
       "    <tr class=\"iris\">\n",
       "<td class=\"iris-word-cell iris-subheading-cell\">Shape</td>\n",
       "<td class=\"iris iris-inclusion-cell\">2</td>\n",
       "<td class=\"iris iris-inclusion-cell\">100</td>\n",
       "<td class=\"iris iris-inclusion-cell\">100</td>\n",
       "</td>\n",
       "    <tr class=\"iris\">\n",
       "    <td class=\"iris-title iris-word-cell\">Dimension coordinates</td>\n",
       "    <td class=\"iris-title\"></td>\n",
       "    <td class=\"iris-title\"></td>\n",
       "    <td class=\"iris-title\"></td>\n",
       "</tr>\n",
       "<tr class=\"iris\">\n",
       "    <td class=\"iris-word-cell iris-subheading-cell\">\ttime</td>\n",
       "    <td class=\"iris-inclusion-cell\">x</td>\n",
       "    <td class=\"iris-inclusion-cell\">-</td>\n",
       "    <td class=\"iris-inclusion-cell\">-</td>\n",
       "</tr>\n",
       "<tr class=\"iris\">\n",
       "    <td class=\"iris-word-cell iris-subheading-cell\">\tgrid_latitude</td>\n",
       "    <td class=\"iris-inclusion-cell\">-</td>\n",
       "    <td class=\"iris-inclusion-cell\">x</td>\n",
       "    <td class=\"iris-inclusion-cell\">-</td>\n",
       "</tr>\n",
       "<tr class=\"iris\">\n",
       "    <td class=\"iris-word-cell iris-subheading-cell\">\tgrid_longitude</td>\n",
       "    <td class=\"iris-inclusion-cell\">-</td>\n",
       "    <td class=\"iris-inclusion-cell\">-</td>\n",
       "    <td class=\"iris-inclusion-cell\">x</td>\n",
       "</tr>\n",
       "<tr class=\"iris\">\n",
       "    <td class=\"iris-title iris-word-cell\">Auxiliary coordinates</td>\n",
       "    <td class=\"iris-title\"></td>\n",
       "    <td class=\"iris-title\"></td>\n",
       "    <td class=\"iris-title\"></td>\n",
       "</tr>\n",
       "<tr class=\"iris\">\n",
       "    <td class=\"iris-word-cell iris-subheading-cell\">\tsurface_altitude</td>\n",
       "    <td class=\"iris-inclusion-cell\">-</td>\n",
       "    <td class=\"iris-inclusion-cell\">x</td>\n",
       "    <td class=\"iris-inclusion-cell\">x</td>\n",
       "</tr>\n",
       "<tr class=\"iris\">\n",
       "    <td class=\"iris-title iris-word-cell\">Derived coordinates</td>\n",
       "    <td class=\"iris-title\"></td>\n",
       "    <td class=\"iris-title\"></td>\n",
       "    <td class=\"iris-title\"></td>\n",
       "</tr>\n",
       "<tr class=\"iris\">\n",
       "    <td class=\"iris-word-cell iris-subheading-cell\">\taltitude</td>\n",
       "    <td class=\"iris-inclusion-cell\">-</td>\n",
       "    <td class=\"iris-inclusion-cell\">x</td>\n",
       "    <td class=\"iris-inclusion-cell\">x</td>\n",
       "</tr>\n",
       "<tr class=\"iris\">\n",
       "    <td class=\"iris-title iris-word-cell\">Scalar coordinates</td>\n",
       "    <td class=\"iris-title\"></td>\n",
       "    <td class=\"iris-title\"></td>\n",
       "    <td class=\"iris-title\"></td>\n",
       "</tr>\n",
       "<tr class=\"iris\">\n",
       "    <td class=\"iris-word-cell iris-subheading-cell\">\tatmosphere_hybrid_height_coordinate</td>\n",
       "    <td class=\"iris-word-cell\" colspan=\"3\">5.0 m, bound=(0.0, 13.333332) m</td>\n",
       "</tr>\n",
       "<tr class=\"iris\">\n",
       "    <td class=\"iris-word-cell iris-subheading-cell\">\tforecast_period</td>\n",
       "    <td class=\"iris-word-cell\" colspan=\"3\">0.0 hours</td>\n",
       "</tr>\n",
       "<tr class=\"iris\">\n",
       "    <td class=\"iris-word-cell iris-subheading-cell\">\tmodel_level_number</td>\n",
       "    <td class=\"iris-word-cell\" colspan=\"3\">1</td>\n",
       "</tr>\n",
       "<tr class=\"iris\">\n",
       "    <td class=\"iris-word-cell iris-subheading-cell\">\tsigma</td>\n",
       "    <td class=\"iris-word-cell\" colspan=\"3\">0.9994238, bound=(1.0, 0.99846387)</td>\n",
       "</tr>\n",
       "<tr class=\"iris\">\n",
       "    <td class=\"iris-title iris-word-cell\">Attributes</td>\n",
       "    <td class=\"iris-title\"></td>\n",
       "    <td class=\"iris-title\"></td>\n",
       "    <td class=\"iris-title\"></td>\n",
       "</tr>\n",
       "<tr class=\"iris\">\n",
       "    <td class=\"iris-word-cell iris-subheading-cell\">\tConventions</td>\n",
       "    <td class=\"iris-word-cell\" colspan=\"3\">CF-1.5</td>\n",
       "</tr>\n",
       "<tr class=\"iris\">\n",
       "    <td class=\"iris-word-cell iris-subheading-cell\">\tsource</td>\n",
       "    <td class=\"iris-word-cell\" colspan=\"3\">Iris test case</td>\n",
       "</tr>\n",
       "</table>\n",
       "        "
      ],
      "text/plain": [
       "<iris 'Cube' of air_potential_temperature / (K) (time: 2; grid_latitude: 100; grid_longitude: 100)>"
      ]
     },
     "execution_count": 102,
     "metadata": {},
     "output_type": "execute_result"
    }
   ],
   "source": [
    "iris.cube.CubeList(new_cubes).merge_cube()"
   ]
  },
  {
   "cell_type": "code",
   "execution_count": 94,
   "metadata": {},
   "outputs": [],
   "source": [
    "import warnings"
   ]
  },
  {
   "cell_type": "code",
   "execution_count": 95,
   "metadata": {},
   "outputs": [],
   "source": [
    "warnings.filterwarnings('ignore')"
   ]
  },
  {
   "cell_type": "markdown",
   "metadata": {},
   "source": [
    "## Data Processing\n",
    "\n",
    "**Learning outcome**: by the end of this section, you will be able to use Iris to analyse and visualise weather and climate datasets."
   ]
  },
  {
   "cell_type": "markdown",
   "metadata": {},
   "source": [
    "### Plotting\n",
    "\n",
    "Iris comes with two plotting modules called ``iris.plot`` and ``iris.quickplot`` that wrap some of the common matplotlib plotting functions such that cubes can be passed as input rather than the usual NumPy arrays. The two modules are very similar, with the primary difference being that ``quickplot`` will add extra information to the axes, such as:\n",
    "\n",
    " * a colorbar,\n",
    " * labels for the x and y axes, and\n",
    " * a title where possible."
   ]
  },
  {
   "cell_type": "code",
   "execution_count": 103,
   "metadata": {},
   "outputs": [],
   "source": [
    "import iris.plot as iplt\n",
    "import iris.quickplot as qplt\n",
    "import matplotlib.pyplot as plt"
   ]
  },
  {
   "cell_type": "code",
   "execution_count": 107,
   "metadata": {},
   "outputs": [
    {
     "name": "stdout",
     "output_type": "stream",
     "text": [
      "air_temperature / (K)               (longitude: 49)\n",
      "     Dimension coordinates:\n",
      "          longitude                           x\n",
      "     Scalar coordinates:\n",
      "          forecast_period: 2075754 hours\n",
      "          forecast_reference_time: 1859-09-01 06:00:00\n",
      "          height: 1.5 m\n",
      "          latitude: 40.0 degrees\n",
      "          time: 2099-06-01 00:00:00, bound=(2098-12-01 00:00:00, 2099-12-01 00:00:00)\n",
      "     Attributes:\n",
      "          Conventions: CF-1.5\n",
      "          Model scenario: A1B\n",
      "          STASH: m01s03i236\n",
      "          source: Data from Met Office Unified Model 6.05\n",
      "     Cell methods:\n",
      "          mean: time (6 hour)\n"
     ]
    }
   ],
   "source": [
    "cube = iris.load_cube(iris.sample_data_path('A1B_north_america.nc'))\n",
    "ts = cube[-1, 20, ...]\n",
    "print(ts)"
   ]
  },
  {
   "cell_type": "code",
   "execution_count": 108,
   "metadata": {},
   "outputs": [
    {
     "data": {
      "image/png": "[encoded data removed]",
      "text/plain": [
       "<Figure size 432x288 with 1 Axes>"
      ]
     },
     "metadata": {
      "needs_background": "light"
     },
     "output_type": "display_data"
    }
   ],
   "source": [
    "iplt.plot(ts)\n",
    "plt.show()"
   ]
  },
  {
   "cell_type": "markdown",
   "metadata": {},
   "source": [
    "For comparison, lets plot the result of ``iplt.plot`` next to ``qplt.plot``:"
   ]
  },
  {
   "cell_type": "code",
   "execution_count": 109,
   "metadata": {},
   "outputs": [
    {
     "data": {
      "image/png": "[encoded data removed]",
      "text/plain": [
       "<Figure size 432x288 with 2 Axes>"
      ]
     },
     "metadata": {
      "needs_background": "light"
     },
     "output_type": "display_data"
    }
   ],
   "source": [
    "plt.subplot(2, 1, 1)\n",
    "iplt.plot(ts)\n",
    "\n",
    "plt.subplot(2, 1, 2)\n",
    "qplt.plot(ts)\n",
    "\n",
    "plt.subplots_adjust(hspace=0.5)\n",
    "plt.show()"
   ]
  },
  {
   "cell_type": "markdown",
   "metadata": {},
   "source": [
    "Notice how the result of qplt has axis labels and a title; everything else about the axes is identical."
   ]
  },
  {
   "cell_type": "markdown",
   "metadata": {},
   "source": [
    "The plotting functions in Iris have strict rules on the dimensionality of the inputted cubes. For example, a 2d cube is needed in order to create a contour plot:"
   ]
  },
  {
   "cell_type": "code",
   "execution_count": 110,
   "metadata": {},
   "outputs": [
    {
     "data": {
      "image/png": "[encoded data removed]",
      "text/plain": [
       "<Figure size 432x288 with 2 Axes>"
      ]
     },
     "metadata": {
      "needs_background": "light"
     },
     "output_type": "display_data"
    }
   ],
   "source": [
    "qplt.contourf(cube[:, 0, :])\n",
    "plt.show()"
   ]
  },
  {
   "cell_type": "code",
   "execution_count": 111,
   "metadata": {},
   "outputs": [
    {
     "data": {
      "text/html": [
       "\n",
       "<style>\n",
       "  a.iris {\n",
       "      text-decoration: none !important;\n",
       "  }\n",
       "  table.iris {\n",
       "      white-space: pre;\n",
       "      border: 1px solid;\n",
       "      border-color: #9c9c9c;\n",
       "      font-family: monaco, monospace;\n",
       "  }\n",
       "  th.iris {\n",
       "      background: #303f3f;\n",
       "      color: #e0e0e0;\n",
       "      border-left: 1px solid;\n",
       "      border-color: #9c9c9c;\n",
       "      font-size: 1.05em;\n",
       "      min-width: 50px;\n",
       "      max-width: 125px;\n",
       "  }\n",
       "  tr.iris :first-child {\n",
       "      border-right: 1px solid #9c9c9c !important;\n",
       "  }\n",
       "  td.iris-title {\n",
       "      background: #d5dcdf;\n",
       "      border-top: 1px solid #9c9c9c;\n",
       "      font-weight: bold;\n",
       "  }\n",
       "  .iris-word-cell {\n",
       "      text-align: left !important;\n",
       "      white-space: pre;\n",
       "  }\n",
       "  .iris-subheading-cell {\n",
       "      padding-left: 2em !important;\n",
       "  }\n",
       "  .iris-inclusion-cell {\n",
       "      padding-right: 1em !important;\n",
       "  }\n",
       "  .iris-panel-body {\n",
       "      padding-top: 0px;\n",
       "  }\n",
       "  .iris-panel-title {\n",
       "      padding-left: 3em;\n",
       "  }\n",
       "  .iris-panel-title {\n",
       "      margin-top: 7px;\n",
       "  }\n",
       "</style>\n",
       "<table class=\"iris\" id=\"140342424629376\">\n",
       "    <tr class=\"iris\">\n",
       "<th class=\"iris iris-word-cell\">Air Temperature (K)</th>\n",
       "<th class=\"iris iris-word-cell\">time</th>\n",
       "<th class=\"iris iris-word-cell\">latitude</th>\n",
       "<th class=\"iris iris-word-cell\">longitude</th>\n",
       "</tr>\n",
       "    <tr class=\"iris\">\n",
       "<td class=\"iris-word-cell iris-subheading-cell\">Shape</td>\n",
       "<td class=\"iris iris-inclusion-cell\">240</td>\n",
       "<td class=\"iris iris-inclusion-cell\">37</td>\n",
       "<td class=\"iris iris-inclusion-cell\">49</td>\n",
       "</td>\n",
       "    <tr class=\"iris\">\n",
       "    <td class=\"iris-title iris-word-cell\">Dimension coordinates</td>\n",
       "    <td class=\"iris-title\"></td>\n",
       "    <td class=\"iris-title\"></td>\n",
       "    <td class=\"iris-title\"></td>\n",
       "</tr>\n",
       "<tr class=\"iris\">\n",
       "    <td class=\"iris-word-cell iris-subheading-cell\">\ttime</td>\n",
       "    <td class=\"iris-inclusion-cell\">x</td>\n",
       "    <td class=\"iris-inclusion-cell\">-</td>\n",
       "    <td class=\"iris-inclusion-cell\">-</td>\n",
       "</tr>\n",
       "<tr class=\"iris\">\n",
       "    <td class=\"iris-word-cell iris-subheading-cell\">\tlatitude</td>\n",
       "    <td class=\"iris-inclusion-cell\">-</td>\n",
       "    <td class=\"iris-inclusion-cell\">x</td>\n",
       "    <td class=\"iris-inclusion-cell\">-</td>\n",
       "</tr>\n",
       "<tr class=\"iris\">\n",
       "    <td class=\"iris-word-cell iris-subheading-cell\">\tlongitude</td>\n",
       "    <td class=\"iris-inclusion-cell\">-</td>\n",
       "    <td class=\"iris-inclusion-cell\">-</td>\n",
       "    <td class=\"iris-inclusion-cell\">x</td>\n",
       "</tr>\n",
       "<tr class=\"iris\">\n",
       "    <td class=\"iris-title iris-word-cell\">Auxiliary coordinates</td>\n",
       "    <td class=\"iris-title\"></td>\n",
       "    <td class=\"iris-title\"></td>\n",
       "    <td class=\"iris-title\"></td>\n",
       "</tr>\n",
       "<tr class=\"iris\">\n",
       "    <td class=\"iris-word-cell iris-subheading-cell\">\tforecast_period</td>\n",
       "    <td class=\"iris-inclusion-cell\">x</td>\n",
       "    <td class=\"iris-inclusion-cell\">-</td>\n",
       "    <td class=\"iris-inclusion-cell\">-</td>\n",
       "</tr>\n",
       "<tr class=\"iris\">\n",
       "    <td class=\"iris-title iris-word-cell\">Scalar coordinates</td>\n",
       "    <td class=\"iris-title\"></td>\n",
       "    <td class=\"iris-title\"></td>\n",
       "    <td class=\"iris-title\"></td>\n",
       "</tr>\n",
       "<tr class=\"iris\">\n",
       "    <td class=\"iris-word-cell iris-subheading-cell\">\tforecast_reference_time</td>\n",
       "    <td class=\"iris-word-cell\" colspan=\"3\">1859-09-01 06:00:00</td>\n",
       "</tr>\n",
       "<tr class=\"iris\">\n",
       "    <td class=\"iris-word-cell iris-subheading-cell\">\theight</td>\n",
       "    <td class=\"iris-word-cell\" colspan=\"3\">1.5 m</td>\n",
       "</tr>\n",
       "<tr class=\"iris\">\n",
       "    <td class=\"iris-title iris-word-cell\">Attributes</td>\n",
       "    <td class=\"iris-title\"></td>\n",
       "    <td class=\"iris-title\"></td>\n",
       "    <td class=\"iris-title\"></td>\n",
       "</tr>\n",
       "<tr class=\"iris\">\n",
       "    <td class=\"iris-word-cell iris-subheading-cell\">\tConventions</td>\n",
       "    <td class=\"iris-word-cell\" colspan=\"3\">CF-1.5</td>\n",
       "</tr>\n",
       "<tr class=\"iris\">\n",
       "    <td class=\"iris-word-cell iris-subheading-cell\">\tModel scenario</td>\n",
       "    <td class=\"iris-word-cell\" colspan=\"3\">A1B</td>\n",
       "</tr>\n",
       "<tr class=\"iris\">\n",
       "    <td class=\"iris-word-cell iris-subheading-cell\">\tSTASH</td>\n",
       "    <td class=\"iris-word-cell\" colspan=\"3\">m01s03i236</td>\n",
       "</tr>\n",
       "<tr class=\"iris\">\n",
       "    <td class=\"iris-word-cell iris-subheading-cell\">\tsource</td>\n",
       "    <td class=\"iris-word-cell\" colspan=\"3\">Data from Met Office Unified Model 6.05</td>\n",
       "</tr>\n",
       "<tr class=\"iris\">\n",
       "    <td class=\"iris-title iris-word-cell\">Cell methods</td>\n",
       "    <td class=\"iris-title\"></td>\n",
       "    <td class=\"iris-title\"></td>\n",
       "    <td class=\"iris-title\"></td>\n",
       "</tr>\n",
       "<tr class=\"iris\">\n",
       "    <td class=\"iris-word-cell iris-subheading-cell\">\tmean</td>\n",
       "    <td class=\"iris-word-cell\" colspan=\"3\">time (6 hour)</td>\n",
       "</tr>\n",
       "</table>\n",
       "        "
      ],
      "text/plain": [
       "<iris 'Cube' of air_temperature / (K) (time: 240; latitude: 37; longitude: 49)>"
      ]
     },
     "execution_count": 111,
     "metadata": {},
     "output_type": "execute_result"
    }
   ],
   "source": [
    "cube"
   ]
  },
  {
   "cell_type": "markdown",
   "metadata": {},
   "source": [
    "### Maps with cartopy\n",
    "\n",
    "When the result of a plot operation is a map, Iris will automatically create an appropriate cartopy axes if one doesn't already exist.\n",
    "\n",
    "We can use matplotlib's `gca()` function to get hold of the automatically created cartopy axes:"
   ]
  },
  {
   "cell_type": "code",
   "execution_count": 112,
   "metadata": {},
   "outputs": [
    {
     "data": {
      "image/png": "[encoded data removed]",
      "text/plain": [
       "<Figure size 864x576 with 4 Axes>"
      ]
     },
     "metadata": {
      "needs_background": "light"
     },
     "output_type": "display_data"
    }
   ],
   "source": [
    "import cartopy.crs as ccrs\n",
    "\n",
    "plt.figure(figsize=(12, 8))\n",
    "\n",
    "plt.subplot(1, 2, 1)\n",
    "qplt.contourf(cube[0, ...], 25)\n",
    "ax = plt.gca()\n",
    "ax.coastlines()\n",
    "\n",
    "ax = plt.subplot(1, 2, 2, projection=ccrs.RotatedPole(100, 37))\n",
    "qplt.contourf(cube[0, ...], 25)\n",
    "ax.coastlines()\n",
    "\n",
    "plt.show()"
   ]
  },
  {
   "cell_type": "markdown",
   "metadata": {},
   "source": [
    "### Exercise 4\n",
    "\n",
    "Use the above cube, with appropriate indexing, to produce the following:\n",
    "\n",
    "1\\. a **contourf** map on a LambertConformal projection (with coastlines)"
   ]
  },
  {
   "cell_type": "code",
   "execution_count": 139,
   "metadata": {},
   "outputs": [
    {
     "data": {
      "image/png": "[encoded data removed]",
      "text/plain": [
       "<Figure size 432x288 with 2 Axes>"
      ]
     },
     "metadata": {
      "needs_background": "light"
     },
     "output_type": "display_data"
    }
   ],
   "source": [
    "ax = plt.axes(projection=ccrs.LambertConformal())\n",
    "qplt.contourf(cube[0,...], 200)\n",
    "ax.coastlines()\n",
    "plt.show()"
   ]
  },
  {
   "cell_type": "markdown",
   "metadata": {},
   "source": [
    "2\\. a block plot (**pcolormesh**) map in its native projection  (with coastlines)"
   ]
  },
  {
   "cell_type": "code",
   "execution_count": 141,
   "metadata": {},
   "outputs": [
    {
     "data": {
      "image/png": "[encoded data removed]",
      "text/plain": [
       "<Figure size 432x288 with 2 Axes>"
      ]
     },
     "metadata": {
      "needs_background": "light"
     },
     "output_type": "display_data"
    }
   ],
   "source": [
    "qplt.pcolormesh(cube[0,...])\n",
    "ax = plt.gca()\n",
    "ax.coastlines()\n",
    "plt.show()"
   ]
  },
  {
   "cell_type": "markdown",
   "metadata": {},
   "source": [
    "3\\. a **scatter** plot showing *air_temperature* vs *longitude* (hint: the inputs to scatter can be a combination of coordinates or 1D cubes)"
   ]
  },
  {
   "cell_type": "code",
   "execution_count": 143,
   "metadata": {},
   "outputs": [
    {
     "data": {
      "text/plain": [
       "<matplotlib.collections.PathCollection at 0x7fa4076ccbe0>"
      ]
     },
     "execution_count": 143,
     "metadata": {},
     "output_type": "execute_result"
    },
    {
     "data": {
      "image/png": "[encoded data removed]",
      "text/plain": [
       "<Figure size 432x288 with 1 Axes>"
      ]
     },
     "metadata": {
      "needs_background": "light"
     },
     "output_type": "display_data"
    }
   ],
   "source": [
    "y = cube[0, 0, ...]\n",
    "constr = iris.Constraint(latitude=27.5)\n",
    "y1 = cube.extract(constr)[0]\n",
    "x = cube.coord('longitude')\n",
    "qplt.scatter(x, y1)"
   ]
  },
  {
   "cell_type": "code",
   "execution_count": 144,
   "metadata": {},
   "outputs": [
    {
     "name": "stdout",
     "output_type": "stream",
     "text": [
      "DimCoord(array([225.   , 226.875, 228.75 , 230.625, 232.5  , 234.375, 236.25 ,\n",
      "       238.125, 240.   , 241.875, 243.75 , 245.625, 247.5  , 249.375,\n",
      "       251.25 , 253.125, 255.   , 256.875, 258.75 , 260.625, 262.5  ,\n",
      "       264.375, 266.25 , 268.125, 270.   , 271.875, 273.75 , 275.625,\n",
      "       277.5  , 279.375, 281.25 , 283.125, 285.   , 286.875, 288.75 ,\n",
      "       290.625, 292.5  , 294.375, 296.25 , 298.125, 300.   , 301.875,\n",
      "       303.75 , 305.625, 307.5  , 309.375, 311.25 , 313.125, 315.   ],\n",
      "      dtype=float32), standard_name='longitude', units=Unit('degrees'), var_name='longitude', coord_system=GeogCS(6371229.0))\n"
     ]
    }
   ],
   "source": [
    "print(cube.coord('longitude'))"
   ]
  },
  {
   "cell_type": "markdown",
   "metadata": {},
   "source": [
    "### Cube maths\n",
    "\n",
    "Basic mathematical operators exist on the cube to allow one to add, subtract, divide, multiply and perform other mathematical operations on cubes of a similar shape to one another:"
   ]
  },
  {
   "cell_type": "code",
   "execution_count": 145,
   "metadata": {},
   "outputs": [
    {
     "name": "stdout",
     "output_type": "stream",
     "text": [
      "air_temperature / (K)               (time: 240; latitude: 37; longitude: 49)\n",
      "air_temperature / (K)               (time: 240; latitude: 37; longitude: 49)\n",
      "     Dimension coordinates:\n",
      "          time                           x              -              -\n",
      "          latitude                       -              x              -\n",
      "          longitude                      -              -              x\n",
      "     Auxiliary coordinates:\n",
      "          forecast_period                x              -              -\n",
      "     Scalar coordinates:\n",
      "          forecast_reference_time: 1859-09-01 06:00:00\n",
      "          height: 1.5 m\n",
      "     Attributes:\n",
      "          Conventions: CF-1.5\n",
      "          Model scenario: A1B\n",
      "          STASH: m01s03i236\n",
      "          source: Data from Met Office Unified Model 6.05\n",
      "     Cell methods:\n",
      "          mean: time (6 hour)\n"
     ]
    }
   ],
   "source": [
    "a1b = iris.load_cube(iris.sample_data_path('A1B_north_america.nc'))\n",
    "e1 = iris.load_cube(iris.sample_data_path('E1_north_america.nc'))\n",
    "\n",
    "print(e1.summary(True))\n",
    "print(a1b)"
   ]
  },
  {
   "cell_type": "code",
   "execution_count": 149,
   "metadata": {},
   "outputs": [
    {
     "name": "stdout",
     "output_type": "stream",
     "text": [
      "air_temperature_diff / (K)          (time: 240; latitude: 37; longitude: 49)\n",
      "     Dimension coordinates:\n",
      "          time                           x              -              -\n",
      "          latitude                       -              x              -\n",
      "          longitude                      -              -              x\n",
      "     Auxiliary coordinates:\n",
      "          forecast_period                x              -              -\n",
      "     Scalar coordinates:\n",
      "          forecast_reference_time: 1859-09-01 06:00:00\n",
      "          height: 1.5 m\n"
     ]
    }
   ],
   "source": [
    "scenario_difference = a1b - e1\n",
    "scenario_difference.rename('air_temperature_diff')\n",
    "print(scenario_difference)"
   ]
  },
  {
   "cell_type": "markdown",
   "metadata": {},
   "source": [
    "Notice that the resultant cube's name is now `unknown` and that resultant cube's `attributes` and `cell_methods` have disappeared; this is because these all differed between the two input cubes."
   ]
  },
  {
   "cell_type": "markdown",
   "metadata": {},
   "source": [
    "It is also possible to operate on cubes with numeric scalars, NumPy arrays and even cube coordinates:"
   ]
  },
  {
   "cell_type": "code",
   "execution_count": 150,
   "metadata": {},
   "outputs": [
    {
     "name": "stdout",
     "output_type": "stream",
     "text": [
      "unknown / (0.0174532925199433 K.rad) (time: 240; latitude: 37; longitude: 49)\n",
      "     Dimension coordinates:\n",
      "          time                            x              -              -\n",
      "          latitude                        -              x              -\n",
      "          longitude                       -              -              x\n",
      "     Auxiliary coordinates:\n",
      "          forecast_period                 x              -              -\n",
      "     Scalar coordinates:\n",
      "          forecast_reference_time: 1859-09-01 06:00:00\n",
      "          height: 1.5 m\n"
     ]
    }
   ],
   "source": [
    "print(e1 * e1.coord('latitude'))"
   ]
  },
  {
   "cell_type": "markdown",
   "metadata": {},
   "source": [
    "Cube broadcasting is also taking place, meaning that the two inputs (cube, coordinate, array, or even constant value) don't need to have the same shape:"
   ]
  },
  {
   "cell_type": "code",
   "execution_count": 151,
   "metadata": {},
   "outputs": [
    {
     "name": "stdout",
     "output_type": "stream",
     "text": [
      "unknown / (K)                       (time: 240; latitude: 37; longitude: 49)\n",
      "     Dimension coordinates:\n",
      "          time                           x              -              -\n",
      "          latitude                       -              x              -\n",
      "          longitude                      -              -              x\n",
      "     Auxiliary coordinates:\n",
      "          forecast_period                x              -              -\n",
      "     Scalar coordinates:\n",
      "          forecast_reference_time: 1859-09-01 06:00:00\n",
      "          height: 1.5 m\n"
     ]
    }
   ],
   "source": [
    "print(e1 + 5.0)"
   ]
  },
  {
   "cell_type": "markdown",
   "metadata": {},
   "source": [
    "As we've just seen, we have the ability to update the cube's data directly. Whenever we do this though, we should be mindful of updating appropriate metadata on the cube:"
   ]
  },
  {
   "cell_type": "code",
   "execution_count": 152,
   "metadata": {},
   "outputs": [
    {
     "name": "stdout",
     "output_type": "stream",
     "text": [
      "air temperatures greater than 280K / (K) (time: 240; latitude: 37; longitude: 49)\n",
      "     Dimension coordinates:\n",
      "          time                                x              -              -\n",
      "          latitude                            -              x              -\n",
      "          longitude                           -              -              x\n",
      "     Auxiliary coordinates:\n",
      "          forecast_period                     x              -              -\n",
      "     Scalar coordinates:\n",
      "          forecast_reference_time: 1859-09-01 06:00:00\n",
      "          height: 1.5 m\n",
      "     Attributes:\n",
      "          Conventions: CF-1.5\n",
      "          Model scenario: E1\n",
      "          STASH: m01s03i236\n",
      "          source: Data from Met Office Unified Model 6.05\n",
      "     Cell methods:\n",
      "          mean: time (6 hour)\n"
     ]
    }
   ],
   "source": [
    "e1_hot = e1.copy()\n",
    "\n",
    "e1_hot.data = np.ma.masked_less_equal(e1_hot.data, 280)\n",
    "e1_hot.rename('air temperatures greater than 280K')\n",
    "print(e1_hot)"
   ]
  },
  {
   "cell_type": "markdown",
   "metadata": {},
   "source": [
    "### Cube aggregation and statistics\n",
    "\n",
    "Many standard univariate aggregations exist in Iris. Aggregations allow one or more dimensions of a cube to be statistically collapsed for the purposes of statistical analysis of the cube's data. Iris uses the term 'aggregators' to refer to the statistical operations that can be used for aggregation.\n",
    "\n",
    "A list of aggregators is available at http://scitools.org.uk/iris/docs/latest/iris/iris/analysis.html."
   ]
  },
  {
   "cell_type": "code",
   "execution_count": 153,
   "metadata": {},
   "outputs": [
    {
     "name": "stdout",
     "output_type": "stream",
     "text": [
      "air_potential_temperature / (K)     (time: 3; model_level_number: 7; grid_latitude: 204; grid_longitude: 187)\n"
     ]
    }
   ],
   "source": [
    "fname = iris.sample_data_path('uk_hires.pp')\n",
    "cube = iris.load_cube(fname, 'air_potential_temperature')\n",
    "print(cube.summary(True))"
   ]
  },
  {
   "cell_type": "markdown",
   "metadata": {},
   "source": [
    "To take the vertical mean of this cube:"
   ]
  },
  {
   "cell_type": "code",
   "execution_count": 154,
   "metadata": {},
   "outputs": [
    {
     "name": "stdout",
     "output_type": "stream",
     "text": [
      "air_potential_temperature / (K)     (time: 3; grid_latitude: 204; grid_longitude: 187)\n",
      "     Dimension coordinates:\n",
      "          time                           x                 -                    -\n",
      "          grid_latitude                  -                 x                    -\n",
      "          grid_longitude                 -                 -                    x\n",
      "     Auxiliary coordinates:\n",
      "          forecast_period                x                 -                    -\n",
      "          surface_altitude               -                 x                    x\n",
      "     Derived coordinates:\n",
      "          altitude                       -                 x                    x\n",
      "     Scalar coordinates:\n",
      "          forecast_reference_time: 2009-11-19 04:00:00\n",
      "          level_height: 696.6666 m, bound=(0.0, 1393.3333) m\n",
      "          model_level_number: 10, bound=(1, 19)\n",
      "          sigma: 0.92292976, bound=(0.8458596, 1.0)\n",
      "     Attributes:\n",
      "          STASH: m01s00i004\n",
      "          source: Data from Met Office Unified Model\n",
      "          um_version: 7.3\n",
      "     Cell methods:\n",
      "          mean: model_level_number\n"
     ]
    }
   ],
   "source": [
    "print(cube.collapsed('model_level_number', iris.analysis.MEAN))"
   ]
  },
  {
   "cell_type": "markdown",
   "metadata": {},
   "source": [
    "### Application: Exercise 5\n",
    "\n",
    "Let's apply all that we've learned about data processing and visualisation in Iris. We will perform data processing and visualisation to compare two possible climate futures scenarios, called the A1B scenario and the E1 scenario."
   ]
  },
  {
   "cell_type": "markdown",
   "metadata": {},
   "source": [
    "1\\. Load as cubes the datasets found at `iris.sample_data_path('E1_north_america.nc')` and `iris.sample_data_path('A1B_north_america.nc')`. Print the summary of each cube."
   ]
  },
  {
   "cell_type": "code",
   "execution_count": 155,
   "metadata": {},
   "outputs": [],
   "source": [
    "e1 = iris.sample_data_path('E1_north_america.nc')\n",
    "a1b = iris.sample_data_path('A1B_north_america.nc')"
   ]
  },
  {
   "cell_type": "code",
   "execution_count": 165,
   "metadata": {},
   "outputs": [
    {
     "name": "stdout",
     "output_type": "stream",
     "text": [
      "air_temperature / (K)               (time: 240; latitude: 37; longitude: 49)\n",
      "     Dimension coordinates:\n",
      "          time                           x              -              -\n",
      "          latitude                       -              x              -\n",
      "          longitude                      -              -              x\n",
      "     Auxiliary coordinates:\n",
      "          forecast_period                x              -              -\n",
      "     Scalar coordinates:\n",
      "          forecast_reference_time: 1859-09-01 06:00:00\n",
      "          height: 1.5 m\n",
      "     Attributes:\n",
      "          Conventions: CF-1.5\n",
      "          Model scenario: E1\n",
      "          STASH: m01s03i236\n",
      "          source: Data from Met Office Unified Model 6.05\n",
      "     Cell methods:\n",
      "          mean: time (6 hour)\n"
     ]
    }
   ],
   "source": [
    "#e1 = iris.load_cube(e1)\n",
    "print(e1)"
   ]
  },
  {
   "cell_type": "code",
   "execution_count": 168,
   "metadata": {},
   "outputs": [
    {
     "name": "stdout",
     "output_type": "stream",
     "text": [
      "DimCoord([1860-06-01 00:00:00, 1861-06-01 00:00:00, 1862-06-01 00:00:00,\n",
      "       1863-06-01 00:00:00, 1864-06-01 00:00:00, 1865-06-01 00:00:00,\n",
      "       1866-06-01 00:00:00, 1867-06-01 00:00:00, 1868-06-01 00:00:00,\n",
      "       1869-06-01 00:00:00, 1870-06-01 00:00:00, 1871-06-01 00:00:00,\n",
      "       1872-06-01 00:00:00, 1873-06-01 00:00:00, 1874-06-01 00:00:00,\n",
      "       1875-06-01 00:00:00, 1876-06-01 00:00:00, 1877-06-01 00:00:00,\n",
      "       1878-06-01 00:00:00, 1879-06-01 00:00:00, 1880-06-01 00:00:00,\n",
      "       1881-06-01 00:00:00, 1882-06-01 00:00:00, 1883-06-01 00:00:00,\n",
      "       1884-06-01 00:00:00, 1885-06-01 00:00:00, 1886-06-01 00:00:00,\n",
      "       1887-06-01 00:00:00, 1888-06-01 00:00:00, 1889-06-01 00:00:00,\n",
      "       1890-06-01 00:00:00, 1891-06-01 00:00:00, 1892-06-01 00:00:00,\n",
      "       1893-06-01 00:00:00, 1894-06-01 00:00:00, 1895-06-01 00:00:00,\n",
      "       1896-06-01 00:00:00, 1897-06-01 00:00:00, 1898-06-01 00:00:00,\n",
      "       1899-06-01 00:00:00, 1900-06-01 00:00:00, 1901-06-01 00:00:00,\n",
      "       1902-06-01 00:00:00, 1903-06-01 00:00:00, 1904-06-01 00:00:00,\n",
      "       1905-06-01 00:00:00, 1906-06-01 00:00:00, 1907-06-01 00:00:00,\n",
      "       1908-06-01 00:00:00, 1909-06-01 00:00:00, 1910-06-01 00:00:00,\n",
      "       1911-06-01 00:00:00, 1912-06-01 00:00:00, 1913-06-01 00:00:00,\n",
      "       1914-06-01 00:00:00, 1915-06-01 00:00:00, 1916-06-01 00:00:00,\n",
      "       1917-06-01 00:00:00, 1918-06-01 00:00:00, 1919-06-01 00:00:00,\n",
      "       1920-06-01 00:00:00, 1921-06-01 00:00:00, 1922-06-01 00:00:00,\n",
      "       1923-06-01 00:00:00, 1924-06-01 00:00:00, 1925-06-01 00:00:00,\n",
      "       1926-06-01 00:00:00, 1927-06-01 00:00:00, 1928-06-01 00:00:00,\n",
      "       1929-06-01 00:00:00, 1930-06-01 00:00:00, 1931-06-01 00:00:00,\n",
      "       1932-06-01 00:00:00, 1933-06-01 00:00:00, 1934-06-01 00:00:00,\n",
      "       1935-06-01 00:00:00, 1936-06-01 00:00:00, 1937-06-01 00:00:00,\n",
      "       1938-06-01 00:00:00, 1939-06-01 00:00:00, 1940-06-01 00:00:00,\n",
      "       1941-06-01 00:00:00, 1942-06-01 00:00:00, 1943-06-01 00:00:00,\n",
      "       1944-06-01 00:00:00, 1945-06-01 00:00:00, 1946-06-01 00:00:00,\n",
      "       1947-06-01 00:00:00, 1948-06-01 00:00:00, 1949-06-01 00:00:00,\n",
      "       1950-06-01 00:00:00, 1951-06-01 00:00:00, 1952-06-01 00:00:00,\n",
      "       1953-06-01 00:00:00, 1954-06-01 00:00:00, 1955-06-01 00:00:00,\n",
      "       1956-06-01 00:00:00, 1957-06-01 00:00:00, 1958-06-01 00:00:00,\n",
      "       1959-06-01 00:00:00, 1960-06-01 00:00:00, 1961-06-01 00:00:00,\n",
      "       1962-06-01 00:00:00, 1963-06-01 00:00:00, 1964-06-01 00:00:00,\n",
      "       1965-06-01 00:00:00, 1966-06-01 00:00:00, 1967-06-01 00:00:00,\n",
      "       1968-06-01 00:00:00, 1969-06-01 00:00:00, 1970-06-01 00:00:00,\n",
      "       1971-06-01 00:00:00, 1972-06-01 00:00:00, 1973-06-01 00:00:00,\n",
      "       1974-06-01 00:00:00, 1975-06-01 00:00:00, 1976-06-01 00:00:00,\n",
      "       1977-06-01 00:00:00, 1978-06-01 00:00:00, 1979-06-01 00:00:00,\n",
      "       1980-06-01 00:00:00, 1981-06-01 00:00:00, 1982-06-01 00:00:00,\n",
      "       1983-06-01 00:00:00, 1984-06-01 00:00:00, 1985-06-01 00:00:00,\n",
      "       1986-06-01 00:00:00, 1987-06-01 00:00:00, 1988-06-01 00:00:00,\n",
      "       1989-06-01 00:00:00, 1990-06-01 00:00:00, 1991-06-01 00:00:00,\n",
      "       1992-06-01 00:00:00, 1993-06-01 00:00:00, 1994-06-01 00:00:00,\n",
      "       1995-06-01 00:00:00, 1996-06-01 00:00:00, 1997-06-01 00:00:00,\n",
      "       1998-06-01 00:00:00, 1999-06-01 00:00:00, 2000-06-01 00:00:00,\n",
      "       2001-06-01 00:00:00, 2002-06-01 00:00:00, 2003-06-01 00:00:00,\n",
      "       2004-06-01 00:00:00, 2005-06-01 00:00:00, 2006-06-01 00:00:00,\n",
      "       2007-06-01 00:00:00, 2008-06-01 00:00:00, 2009-06-01 00:00:00,\n",
      "       2010-06-01 00:00:00, 2011-06-01 00:00:00, 2012-06-01 00:00:00,\n",
      "       2013-06-01 00:00:00, 2014-06-01 00:00:00, 2015-06-01 00:00:00,\n",
      "       2016-06-01 00:00:00, 2017-06-01 00:00:00, 2018-06-01 00:00:00,\n",
      "       2019-06-01 00:00:00, 2020-06-01 00:00:00, 2021-06-01 00:00:00,\n",
      "       2022-06-01 00:00:00, 2023-06-01 00:00:00, 2024-06-01 00:00:00,\n",
      "       2025-06-01 00:00:00, 2026-06-01 00:00:00, 2027-06-01 00:00:00,\n",
      "       2028-06-01 00:00:00, 2029-06-01 00:00:00, 2030-06-01 00:00:00,\n",
      "       2031-06-01 00:00:00, 2032-06-01 00:00:00, 2033-06-01 00:00:00,\n",
      "       2034-06-01 00:00:00, 2035-06-01 00:00:00, 2036-06-01 00:00:00,\n",
      "       2037-06-01 00:00:00, 2038-06-01 00:00:00, 2039-06-01 00:00:00,\n",
      "       2040-06-01 00:00:00, 2041-06-01 00:00:00, 2042-06-01 00:00:00,\n",
      "       2043-06-01 00:00:00, 2044-06-01 00:00:00, 2045-06-01 00:00:00,\n",
      "       2046-06-01 00:00:00, 2047-06-01 00:00:00, 2048-06-01 00:00:00,\n",
      "       2049-06-01 00:00:00, 2050-06-01 00:00:00, 2051-06-01 00:00:00,\n",
      "       2052-06-01 00:00:00, 2053-06-01 00:00:00, 2054-06-01 00:00:00,\n",
      "       2055-06-01 00:00:00, 2056-06-01 00:00:00, 2057-06-01 00:00:00,\n",
      "       2058-06-01 00:00:00, 2059-06-01 00:00:00, 2060-06-01 00:00:00,\n",
      "       2061-06-01 00:00:00, 2062-06-01 00:00:00, 2063-06-01 00:00:00,\n",
      "       2064-06-01 00:00:00, 2065-06-01 00:00:00, 2066-06-01 00:00:00,\n",
      "       2067-06-01 00:00:00, 2068-06-01 00:00:00, 2069-06-01 00:00:00,\n",
      "       2070-06-01 00:00:00, 2071-06-01 00:00:00, 2072-06-01 00:00:00,\n",
      "       2073-06-01 00:00:00, 2074-06-01 00:00:00, 2075-06-01 00:00:00,\n",
      "       2076-06-01 00:00:00, 2077-06-01 00:00:00, 2078-06-01 00:00:00,\n",
      "       2079-06-01 00:00:00, 2080-06-01 00:00:00, 2081-06-01 00:00:00,\n",
      "       2082-06-01 00:00:00, 2083-06-01 00:00:00, 2084-06-01 00:00:00,\n",
      "       2085-06-01 00:00:00, 2086-06-01 00:00:00, 2087-06-01 00:00:00,\n",
      "       2088-06-01 00:00:00, 2089-06-01 00:00:00, 2090-06-01 00:00:00,\n",
      "       2091-06-01 00:00:00, 2092-06-01 00:00:00, 2093-06-01 00:00:00,\n",
      "       2094-06-01 00:00:00, 2095-06-01 00:00:00, 2096-06-01 00:00:00,\n",
      "       2097-06-01 00:00:00, 2098-06-01 00:00:00, 2099-06-01 00:00:00], bounds=[[1859-12-01 00:00:00, 1860-12-01 00:00:00],\n",
      "       [1860-12-01 00:00:00, 1861-12-01 00:00:00],\n",
      "       [1861-12-01 00:00:00, 1862-12-01 00:00:00],\n",
      "       [1862-12-01 00:00:00, 1863-12-01 00:00:00],\n",
      "       [1863-12-01 00:00:00, 1864-12-01 00:00:00],\n",
      "       [1864-12-01 00:00:00, 1865-12-01 00:00:00],\n",
      "       [1865-12-01 00:00:00, 1866-12-01 00:00:00],\n",
      "       [1866-12-01 00:00:00, 1867-12-01 00:00:00],\n",
      "       [1867-12-01 00:00:00, 1868-12-01 00:00:00],\n",
      "       [1868-12-01 00:00:00, 1869-12-01 00:00:00],\n",
      "       [1869-12-01 00:00:00, 1870-12-01 00:00:00],\n",
      "       [1870-12-01 00:00:00, 1871-12-01 00:00:00],\n",
      "       [1871-12-01 00:00:00, 1872-12-01 00:00:00],\n",
      "       [1872-12-01 00:00:00, 1873-12-01 00:00:00],\n",
      "       [1873-12-01 00:00:00, 1874-12-01 00:00:00],\n",
      "       [1874-12-01 00:00:00, 1875-12-01 00:00:00],\n",
      "       [1875-12-01 00:00:00, 1876-12-01 00:00:00],\n",
      "       [1876-12-01 00:00:00, 1877-12-01 00:00:00],\n",
      "       [1877-12-01 00:00:00, 1878-12-01 00:00:00],\n",
      "       [1878-12-01 00:00:00, 1879-12-01 00:00:00],\n",
      "       [1879-12-01 00:00:00, 1880-12-01 00:00:00],\n",
      "       [1880-12-01 00:00:00, 1881-12-01 00:00:00],\n",
      "       [1881-12-01 00:00:00, 1882-12-01 00:00:00],\n",
      "       [1882-12-01 00:00:00, 1883-12-01 00:00:00],\n",
      "       [1883-12-01 00:00:00, 1884-12-01 00:00:00],\n",
      "       [1884-12-01 00:00:00, 1885-12-01 00:00:00],\n",
      "       [1885-12-01 00:00:00, 1886-12-01 00:00:00],\n",
      "       [1886-12-01 00:00:00, 1887-12-01 00:00:00],\n",
      "       [1887-12-01 00:00:00, 1888-12-01 00:00:00],\n",
      "       [1888-12-01 00:00:00, 1889-12-01 00:00:00],\n",
      "       [1889-12-01 00:00:00, 1890-12-01 00:00:00],\n",
      "       [1890-12-01 00:00:00, 1891-12-01 00:00:00],\n",
      "       [1891-12-01 00:00:00, 1892-12-01 00:00:00],\n",
      "       [1892-12-01 00:00:00, 1893-12-01 00:00:00],\n",
      "       [1893-12-01 00:00:00, 1894-12-01 00:00:00],\n",
      "       [1894-12-01 00:00:00, 1895-12-01 00:00:00],\n",
      "       [1895-12-01 00:00:00, 1896-12-01 00:00:00],\n",
      "       [1896-12-01 00:00:00, 1897-12-01 00:00:00],\n",
      "       [1897-12-01 00:00:00, 1898-12-01 00:00:00],\n",
      "       [1898-12-01 00:00:00, 1899-12-01 00:00:00],\n",
      "       [1899-12-01 00:00:00, 1900-12-01 00:00:00],\n",
      "       [1900-12-01 00:00:00, 1901-12-01 00:00:00],\n",
      "       [1901-12-01 00:00:00, 1902-12-01 00:00:00],\n",
      "       [1902-12-01 00:00:00, 1903-12-01 00:00:00],\n",
      "       [1903-12-01 00:00:00, 1904-12-01 00:00:00],\n",
      "       [1904-12-01 00:00:00, 1905-12-01 00:00:00],\n",
      "       [1905-12-01 00:00:00, 1906-12-01 00:00:00],\n",
      "       [1906-12-01 00:00:00, 1907-12-01 00:00:00],\n",
      "       [1907-12-01 00:00:00, 1908-12-01 00:00:00],\n",
      "       [1908-12-01 00:00:00, 1909-12-01 00:00:00],\n",
      "       [1909-12-01 00:00:00, 1910-12-01 00:00:00],\n",
      "       [1910-12-01 00:00:00, 1911-12-01 00:00:00],\n",
      "       [1911-12-01 00:00:00, 1912-12-01 00:00:00],\n",
      "       [1912-12-01 00:00:00, 1913-12-01 00:00:00],\n",
      "       [1913-12-01 00:00:00, 1914-12-01 00:00:00],\n",
      "       [1914-12-01 00:00:00, 1915-12-01 00:00:00],\n",
      "       [1915-12-01 00:00:00, 1916-12-01 00:00:00],\n",
      "       [1916-12-01 00:00:00, 1917-12-01 00:00:00],\n",
      "       [1917-12-01 00:00:00, 1918-12-01 00:00:00],\n",
      "       [1918-12-01 00:00:00, 1919-12-01 00:00:00],\n",
      "       [1919-12-01 00:00:00, 1920-12-01 00:00:00],\n",
      "       [1920-12-01 00:00:00, 1921-12-01 00:00:00],\n",
      "       [1921-12-01 00:00:00, 1922-12-01 00:00:00],\n",
      "       [1922-12-01 00:00:00, 1923-12-01 00:00:00],\n",
      "       [1923-12-01 00:00:00, 1924-12-01 00:00:00],\n",
      "       [1924-12-01 00:00:00, 1925-12-01 00:00:00],\n",
      "       [1925-12-01 00:00:00, 1926-12-01 00:00:00],\n",
      "       [1926-12-01 00:00:00, 1927-12-01 00:00:00],\n",
      "       [1927-12-01 00:00:00, 1928-12-01 00:00:00],\n",
      "       [1928-12-01 00:00:00, 1929-12-01 00:00:00],\n",
      "       [1929-12-01 00:00:00, 1930-12-01 00:00:00],\n",
      "       [1930-12-01 00:00:00, 1931-12-01 00:00:00],\n",
      "       [1931-12-01 00:00:00, 1932-12-01 00:00:00],\n",
      "       [1932-12-01 00:00:00, 1933-12-01 00:00:00],\n",
      "       [1933-12-01 00:00:00, 1934-12-01 00:00:00],\n",
      "       [1934-12-01 00:00:00, 1935-12-01 00:00:00],\n",
      "       [1935-12-01 00:00:00, 1936-12-01 00:00:00],\n",
      "       [1936-12-01 00:00:00, 1937-12-01 00:00:00],\n",
      "       [1937-12-01 00:00:00, 1938-12-01 00:00:00],\n",
      "       [1938-12-01 00:00:00, 1939-12-01 00:00:00],\n",
      "       [1939-12-01 00:00:00, 1940-12-01 00:00:00],\n",
      "       [1940-12-01 00:00:00, 1941-12-01 00:00:00],\n",
      "       [1941-12-01 00:00:00, 1942-12-01 00:00:00],\n",
      "       [1942-12-01 00:00:00, 1943-12-01 00:00:00],\n",
      "       [1943-12-01 00:00:00, 1944-12-01 00:00:00],\n",
      "       [1944-12-01 00:00:00, 1945-12-01 00:00:00],\n",
      "       [1945-12-01 00:00:00, 1946-12-01 00:00:00],\n",
      "       [1946-12-01 00:00:00, 1947-12-01 00:00:00],\n",
      "       [1947-12-01 00:00:00, 1948-12-01 00:00:00],\n",
      "       [1948-12-01 00:00:00, 1949-12-01 00:00:00],\n",
      "       [1949-12-01 00:00:00, 1950-12-01 00:00:00],\n",
      "       [1950-12-01 00:00:00, 1951-12-01 00:00:00],\n",
      "       [1951-12-01 00:00:00, 1952-12-01 00:00:00],\n",
      "       [1952-12-01 00:00:00, 1953-12-01 00:00:00],\n",
      "       [1953-12-01 00:00:00, 1954-12-01 00:00:00],\n",
      "       [1954-12-01 00:00:00, 1955-12-01 00:00:00],\n",
      "       [1955-12-01 00:00:00, 1956-12-01 00:00:00],\n",
      "       [1956-12-01 00:00:00, 1957-12-01 00:00:00],\n",
      "       [1957-12-01 00:00:00, 1958-12-01 00:00:00],\n",
      "       [1958-12-01 00:00:00, 1959-12-01 00:00:00],\n",
      "       [1959-12-01 00:00:00, 1960-12-01 00:00:00],\n",
      "       [1960-12-01 00:00:00, 1961-12-01 00:00:00],\n",
      "       [1961-12-01 00:00:00, 1962-12-01 00:00:00],\n",
      "       [1962-12-01 00:00:00, 1963-12-01 00:00:00],\n",
      "       [1963-12-01 00:00:00, 1964-12-01 00:00:00],\n",
      "       [1964-12-01 00:00:00, 1965-12-01 00:00:00],\n",
      "       [1965-12-01 00:00:00, 1966-12-01 00:00:00],\n",
      "       [1966-12-01 00:00:00, 1967-12-01 00:00:00],\n",
      "       [1967-12-01 00:00:00, 1968-12-01 00:00:00],\n",
      "       [1968-12-01 00:00:00, 1969-12-01 00:00:00],\n",
      "       [1969-12-01 00:00:00, 1970-12-01 00:00:00],\n",
      "       [1970-12-01 00:00:00, 1971-12-01 00:00:00],\n",
      "       [1971-12-01 00:00:00, 1972-12-01 00:00:00],\n",
      "       [1972-12-01 00:00:00, 1973-12-01 00:00:00],\n",
      "       [1973-12-01 00:00:00, 1974-12-01 00:00:00],\n",
      "       [1974-12-01 00:00:00, 1975-12-01 00:00:00],\n",
      "       [1975-12-01 00:00:00, 1976-12-01 00:00:00],\n",
      "       [1976-12-01 00:00:00, 1977-12-01 00:00:00],\n",
      "       [1977-12-01 00:00:00, 1978-12-01 00:00:00],\n",
      "       [1978-12-01 00:00:00, 1979-12-01 00:00:00],\n",
      "       [1979-12-01 00:00:00, 1980-12-01 00:00:00],\n",
      "       [1980-12-01 00:00:00, 1981-12-01 00:00:00],\n",
      "       [1981-12-01 00:00:00, 1982-12-01 00:00:00],\n",
      "       [1982-12-01 00:00:00, 1983-12-01 00:00:00],\n",
      "       [1983-12-01 00:00:00, 1984-12-01 00:00:00],\n",
      "       [1984-12-01 00:00:00, 1985-12-01 00:00:00],\n",
      "       [1985-12-01 00:00:00, 1986-12-01 00:00:00],\n",
      "       [1986-12-01 00:00:00, 1987-12-01 00:00:00],\n",
      "       [1987-12-01 00:00:00, 1988-12-01 00:00:00],\n",
      "       [1988-12-01 00:00:00, 1989-12-01 00:00:00],\n",
      "       [1989-12-01 00:00:00, 1990-12-01 00:00:00],\n",
      "       [1990-12-01 00:00:00, 1991-12-01 00:00:00],\n",
      "       [1991-12-01 00:00:00, 1992-12-01 00:00:00],\n",
      "       [1992-12-01 00:00:00, 1993-12-01 00:00:00],\n",
      "       [1993-12-01 00:00:00, 1994-12-01 00:00:00],\n",
      "       [1994-12-01 00:00:00, 1995-12-01 00:00:00],\n",
      "       [1995-12-01 00:00:00, 1996-12-01 00:00:00],\n",
      "       [1996-12-01 00:00:00, 1997-12-01 00:00:00],\n",
      "       [1997-12-01 00:00:00, 1998-12-01 00:00:00],\n",
      "       [1998-12-01 00:00:00, 1999-12-01 00:00:00],\n",
      "       [1999-12-01 00:00:00, 2000-12-01 00:00:00],\n",
      "       [2000-12-01 00:00:00, 2001-12-01 00:00:00],\n",
      "       [2001-12-01 00:00:00, 2002-12-01 00:00:00],\n",
      "       [2002-12-01 00:00:00, 2003-12-01 00:00:00],\n",
      "       [2003-12-01 00:00:00, 2004-12-01 00:00:00],\n",
      "       [2004-12-01 00:00:00, 2005-12-01 00:00:00],\n",
      "       [2005-12-01 00:00:00, 2006-12-01 00:00:00],\n",
      "       [2006-12-01 00:00:00, 2007-12-01 00:00:00],\n",
      "       [2007-12-01 00:00:00, 2008-12-01 00:00:00],\n",
      "       [2008-12-01 00:00:00, 2009-12-01 00:00:00],\n",
      "       [2009-12-01 00:00:00, 2010-12-01 00:00:00],\n",
      "       [2010-12-01 00:00:00, 2011-12-01 00:00:00],\n",
      "       [2011-12-01 00:00:00, 2012-12-01 00:00:00],\n",
      "       [2012-12-01 00:00:00, 2013-12-01 00:00:00],\n",
      "       [2013-12-01 00:00:00, 2014-12-01 00:00:00],\n",
      "       [2014-12-01 00:00:00, 2015-12-01 00:00:00],\n",
      "       [2015-12-01 00:00:00, 2016-12-01 00:00:00],\n",
      "       [2016-12-01 00:00:00, 2017-12-01 00:00:00],\n",
      "       [2017-12-01 00:00:00, 2018-12-01 00:00:00],\n",
      "       [2018-12-01 00:00:00, 2019-12-01 00:00:00],\n",
      "       [2019-12-01 00:00:00, 2020-12-01 00:00:00],\n",
      "       [2020-12-01 00:00:00, 2021-12-01 00:00:00],\n",
      "       [2021-12-01 00:00:00, 2022-12-01 00:00:00],\n",
      "       [2022-12-01 00:00:00, 2023-12-01 00:00:00],\n",
      "       [2023-12-01 00:00:00, 2024-12-01 00:00:00],\n",
      "       [2024-12-01 00:00:00, 2025-12-01 00:00:00],\n",
      "       [2025-12-01 00:00:00, 2026-12-01 00:00:00],\n",
      "       [2026-12-01 00:00:00, 2027-12-01 00:00:00],\n",
      "       [2027-12-01 00:00:00, 2028-12-01 00:00:00],\n",
      "       [2028-12-01 00:00:00, 2029-12-01 00:00:00],\n",
      "       [2029-12-01 00:00:00, 2030-12-01 00:00:00],\n",
      "       [2030-12-01 00:00:00, 2031-12-01 00:00:00],\n",
      "       [2031-12-01 00:00:00, 2032-12-01 00:00:00],\n",
      "       [2032-12-01 00:00:00, 2033-12-01 00:00:00],\n",
      "       [2033-12-01 00:00:00, 2034-12-01 00:00:00],\n",
      "       [2034-12-01 00:00:00, 2035-12-01 00:00:00],\n",
      "       [2035-12-01 00:00:00, 2036-12-01 00:00:00],\n",
      "       [2036-12-01 00:00:00, 2037-12-01 00:00:00],\n",
      "       [2037-12-01 00:00:00, 2038-12-01 00:00:00],\n",
      "       [2038-12-01 00:00:00, 2039-12-01 00:00:00],\n",
      "       [2039-12-01 00:00:00, 2040-12-01 00:00:00],\n",
      "       [2040-12-01 00:00:00, 2041-12-01 00:00:00],\n",
      "       [2041-12-01 00:00:00, 2042-12-01 00:00:00],\n",
      "       [2042-12-01 00:00:00, 2043-12-01 00:00:00],\n",
      "       [2043-12-01 00:00:00, 2044-12-01 00:00:00],\n",
      "       [2044-12-01 00:00:00, 2045-12-01 00:00:00],\n",
      "       [2045-12-01 00:00:00, 2046-12-01 00:00:00],\n",
      "       [2046-12-01 00:00:00, 2047-12-01 00:00:00],\n",
      "       [2047-12-01 00:00:00, 2048-12-01 00:00:00],\n",
      "       [2048-12-01 00:00:00, 2049-12-01 00:00:00],\n",
      "       [2049-12-01 00:00:00, 2050-12-01 00:00:00],\n",
      "       [2050-12-01 00:00:00, 2051-12-01 00:00:00],\n",
      "       [2051-12-01 00:00:00, 2052-12-01 00:00:00],\n",
      "       [2052-12-01 00:00:00, 2053-12-01 00:00:00],\n",
      "       [2053-12-01 00:00:00, 2054-12-01 00:00:00],\n",
      "       [2054-12-01 00:00:00, 2055-12-01 00:00:00],\n",
      "       [2055-12-01 00:00:00, 2056-12-01 00:00:00],\n",
      "       [2056-12-01 00:00:00, 2057-12-01 00:00:00],\n",
      "       [2057-12-01 00:00:00, 2058-12-01 00:00:00],\n",
      "       [2058-12-01 00:00:00, 2059-12-01 00:00:00],\n",
      "       [2059-12-01 00:00:00, 2060-12-01 00:00:00],\n",
      "       [2060-12-01 00:00:00, 2061-12-01 00:00:00],\n",
      "       [2061-12-01 00:00:00, 2062-12-01 00:00:00],\n",
      "       [2062-12-01 00:00:00, 2063-12-01 00:00:00],\n",
      "       [2063-12-01 00:00:00, 2064-12-01 00:00:00],\n",
      "       [2064-12-01 00:00:00, 2065-12-01 00:00:00],\n",
      "       [2065-12-01 00:00:00, 2066-12-01 00:00:00],\n",
      "       [2066-12-01 00:00:00, 2067-12-01 00:00:00],\n",
      "       [2067-12-01 00:00:00, 2068-12-01 00:00:00],\n",
      "       [2068-12-01 00:00:00, 2069-12-01 00:00:00],\n",
      "       [2069-12-01 00:00:00, 2070-12-01 00:00:00],\n",
      "       [2070-12-01 00:00:00, 2071-12-01 00:00:00],\n",
      "       [2071-12-01 00:00:00, 2072-12-01 00:00:00],\n",
      "       [2072-12-01 00:00:00, 2073-12-01 00:00:00],\n",
      "       [2073-12-01 00:00:00, 2074-12-01 00:00:00],\n",
      "       [2074-12-01 00:00:00, 2075-12-01 00:00:00],\n",
      "       [2075-12-01 00:00:00, 2076-12-01 00:00:00],\n",
      "       [2076-12-01 00:00:00, 2077-12-01 00:00:00],\n",
      "       [2077-12-01 00:00:00, 2078-12-01 00:00:00],\n",
      "       [2078-12-01 00:00:00, 2079-12-01 00:00:00],\n",
      "       [2079-12-01 00:00:00, 2080-12-01 00:00:00],\n",
      "       [2080-12-01 00:00:00, 2081-12-01 00:00:00],\n",
      "       [2081-12-01 00:00:00, 2082-12-01 00:00:00],\n",
      "       [2082-12-01 00:00:00, 2083-12-01 00:00:00],\n",
      "       [2083-12-01 00:00:00, 2084-12-01 00:00:00],\n",
      "       [2084-12-01 00:00:00, 2085-12-01 00:00:00],\n",
      "       [2085-12-01 00:00:00, 2086-12-01 00:00:00],\n",
      "       [2086-12-01 00:00:00, 2087-12-01 00:00:00],\n",
      "       [2087-12-01 00:00:00, 2088-12-01 00:00:00],\n",
      "       [2088-12-01 00:00:00, 2089-12-01 00:00:00],\n",
      "       [2089-12-01 00:00:00, 2090-12-01 00:00:00],\n",
      "       [2090-12-01 00:00:00, 2091-12-01 00:00:00],\n",
      "       [2091-12-01 00:00:00, 2092-12-01 00:00:00],\n",
      "       [2092-12-01 00:00:00, 2093-12-01 00:00:00],\n",
      "       [2093-12-01 00:00:00, 2094-12-01 00:00:00],\n",
      "       [2094-12-01 00:00:00, 2095-12-01 00:00:00],\n",
      "       [2095-12-01 00:00:00, 2096-12-01 00:00:00],\n",
      "       [2096-12-01 00:00:00, 2097-12-01 00:00:00],\n",
      "       [2097-12-01 00:00:00, 2098-12-01 00:00:00],\n",
      "       [2098-12-01 00:00:00, 2099-12-01 00:00:00]], standard_name='time', calendar='360_day', var_name='time')\n"
     ]
    }
   ],
   "source": [
    "print(e1.coord('time'))"
   ]
  },
  {
   "cell_type": "code",
   "execution_count": 167,
   "metadata": {},
   "outputs": [
    {
     "name": "stdout",
     "output_type": "stream",
     "text": [
      "air_temperature / (K)               (time: 240; latitude: 37; longitude: 49)\n",
      "     Dimension coordinates:\n",
      "          time                           x              -              -\n",
      "          latitude                       -              x              -\n",
      "          longitude                      -              -              x\n",
      "     Auxiliary coordinates:\n",
      "          forecast_period                x              -              -\n",
      "     Scalar coordinates:\n",
      "          forecast_reference_time: 1859-09-01 06:00:00\n",
      "          height: 1.5 m\n",
      "     Attributes:\n",
      "          Conventions: CF-1.5\n",
      "          Model scenario: A1B\n",
      "          STASH: m01s03i236\n",
      "          source: Data from Met Office Unified Model 6.05\n",
      "     Cell methods:\n",
      "          mean: time (6 hour)\n"
     ]
    }
   ],
   "source": [
    "#a1b = iris.load_cube(a1b)\n",
    "print(a1b)"
   ]
  },
  {
   "cell_type": "code",
   "execution_count": 169,
   "metadata": {},
   "outputs": [],
   "source": [
    "import cartopy.crs as ccrs\n",
    "import cartopy.io.img_tiles as cimgt"
   ]
  },
  {
   "cell_type": "markdown",
   "metadata": {},
   "source": [
    "2a\\. Plot the following data in a single figure with three maps in one row:\n",
    "\n",
    " * the air temperature in the E1 scenario in 2099, \n",
    " * the air temperature in the A1B scenario in 2099, and\n",
    " * the difference between the two scenarios.\n",
    "\n",
    "Think about the most appropriate matplotlib colormap(s) to use for each plot. Hint: the different matplotlib colormaps can be seen at https://matplotlib.org/1.5.3/examples/color/colormaps_reference.html. "
   ]
  },
  {
   "cell_type": "code",
   "execution_count": 190,
   "metadata": {},
   "outputs": [],
   "source": [
    "constr = iris.Constraint(time=lambda cell: cell.point.year==2099)"
   ]
  },
  {
   "cell_type": "code",
   "execution_count": 194,
   "metadata": {},
   "outputs": [
    {
     "data": {
      "image/png": "[encoded data removed]",
      "text/plain": [
       "<Figure size 1008x504 with 6 Axes>"
      ]
     },
     "metadata": {
      "needs_background": "light"
     },
     "output_type": "display_data"
    }
   ],
   "source": [
    "fig = plt.figure(figsize=(14, 7))\n",
    "\n",
    "ax1 = fig.add_subplot(1, 3, 1)\n",
    "temp_e1 = e1.extract(constr)\n",
    "qplt.pcolormesh(temp_e1, linewidth=4, cmap='magma')#\n",
    "\n",
    "ax2 = fig.add_subplot(1, 3, 2)\n",
    "temp_a1b = a1b.extract(constr)\n",
    "qplt.pcolormesh(temp_a1b, linewidth=4, cmap='magma')\n",
    "\n",
    "ax3 = fig.add_subplot(1, 3, 3)\n",
    "diff = temp_a1b - temp_e1\n",
    "qplt.pcolormesh(diff, linewidth=4, cmap='magma')\n",
    "\n",
    "plt.show()"
   ]
  },
  {
   "cell_type": "markdown",
   "metadata": {},
   "source": [
    "2b\\. What information do your plots show? "
   ]
  },
  {
   "cell_type": "code",
   "execution_count": null,
   "metadata": {},
   "outputs": [],
   "source": []
  },
  {
   "cell_type": "markdown",
   "metadata": {},
   "source": [
    "3\\. Produce cubes that describe the area-averaged air temperature over time for each scenario. Calculate the model difference between these two cubes."
   ]
  },
  {
   "cell_type": "code",
   "execution_count": 225,
   "metadata": {},
   "outputs": [
    {
     "name": "stdout",
     "output_type": "stream",
     "text": [
      "DimCoord([1860-06-01 00:00:00, 1861-06-01 00:00:00, 1862-06-01 00:00:00,\n",
      "       1863-06-01 00:00:00, 1864-06-01 00:00:00, 1865-06-01 00:00:00,\n",
      "       1866-06-01 00:00:00, 1867-06-01 00:00:00, 1868-06-01 00:00:00,\n",
      "       1869-06-01 00:00:00, 1870-06-01 00:00:00, 1871-06-01 00:00:00,\n",
      "       1872-06-01 00:00:00, 1873-06-01 00:00:00, 1874-06-01 00:00:00,\n",
      "       1875-06-01 00:00:00, 1876-06-01 00:00:00, 1877-06-01 00:00:00,\n",
      "       1878-06-01 00:00:00, 1879-06-01 00:00:00, 1880-06-01 00:00:00,\n",
      "       1881-06-01 00:00:00, 1882-06-01 00:00:00, 1883-06-01 00:00:00,\n",
      "       1884-06-01 00:00:00, 1885-06-01 00:00:00, 1886-06-01 00:00:00,\n",
      "       1887-06-01 00:00:00, 1888-06-01 00:00:00, 1889-06-01 00:00:00,\n",
      "       1890-06-01 00:00:00, 1891-06-01 00:00:00, 1892-06-01 00:00:00,\n",
      "       1893-06-01 00:00:00, 1894-06-01 00:00:00, 1895-06-01 00:00:00,\n",
      "       1896-06-01 00:00:00, 1897-06-01 00:00:00, 1898-06-01 00:00:00,\n",
      "       1899-06-01 00:00:00, 1900-06-01 00:00:00, 1901-06-01 00:00:00,\n",
      "       1902-06-01 00:00:00, 1903-06-01 00:00:00, 1904-06-01 00:00:00,\n",
      "       1905-06-01 00:00:00, 1906-06-01 00:00:00, 1907-06-01 00:00:00,\n",
      "       1908-06-01 00:00:00, 1909-06-01 00:00:00, 1910-06-01 00:00:00,\n",
      "       1911-06-01 00:00:00, 1912-06-01 00:00:00, 1913-06-01 00:00:00,\n",
      "       1914-06-01 00:00:00, 1915-06-01 00:00:00, 1916-06-01 00:00:00,\n",
      "       1917-06-01 00:00:00, 1918-06-01 00:00:00, 1919-06-01 00:00:00,\n",
      "       1920-06-01 00:00:00, 1921-06-01 00:00:00, 1922-06-01 00:00:00,\n",
      "       1923-06-01 00:00:00, 1924-06-01 00:00:00, 1925-06-01 00:00:00,\n",
      "       1926-06-01 00:00:00, 1927-06-01 00:00:00, 1928-06-01 00:00:00,\n",
      "       1929-06-01 00:00:00, 1930-06-01 00:00:00, 1931-06-01 00:00:00,\n",
      "       1932-06-01 00:00:00, 1933-06-01 00:00:00, 1934-06-01 00:00:00,\n",
      "       1935-06-01 00:00:00, 1936-06-01 00:00:00, 1937-06-01 00:00:00,\n",
      "       1938-06-01 00:00:00, 1939-06-01 00:00:00, 1940-06-01 00:00:00,\n",
      "       1941-06-01 00:00:00, 1942-06-01 00:00:00, 1943-06-01 00:00:00,\n",
      "       1944-06-01 00:00:00, 1945-06-01 00:00:00, 1946-06-01 00:00:00,\n",
      "       1947-06-01 00:00:00, 1948-06-01 00:00:00, 1949-06-01 00:00:00,\n",
      "       1950-06-01 00:00:00, 1951-06-01 00:00:00, 1952-06-01 00:00:00,\n",
      "       1953-06-01 00:00:00, 1954-06-01 00:00:00, 1955-06-01 00:00:00,\n",
      "       1956-06-01 00:00:00, 1957-06-01 00:00:00, 1958-06-01 00:00:00,\n",
      "       1959-06-01 00:00:00, 1960-06-01 00:00:00, 1961-06-01 00:00:00,\n",
      "       1962-06-01 00:00:00, 1963-06-01 00:00:00, 1964-06-01 00:00:00,\n",
      "       1965-06-01 00:00:00, 1966-06-01 00:00:00, 1967-06-01 00:00:00,\n",
      "       1968-06-01 00:00:00, 1969-06-01 00:00:00, 1970-06-01 00:00:00,\n",
      "       1971-06-01 00:00:00, 1972-06-01 00:00:00, 1973-06-01 00:00:00,\n",
      "       1974-06-01 00:00:00, 1975-06-01 00:00:00, 1976-06-01 00:00:00,\n",
      "       1977-06-01 00:00:00, 1978-06-01 00:00:00, 1979-06-01 00:00:00,\n",
      "       1980-06-01 00:00:00, 1981-06-01 00:00:00, 1982-06-01 00:00:00,\n",
      "       1983-06-01 00:00:00, 1984-06-01 00:00:00, 1985-06-01 00:00:00,\n",
      "       1986-06-01 00:00:00, 1987-06-01 00:00:00, 1988-06-01 00:00:00,\n",
      "       1989-06-01 00:00:00, 1990-06-01 00:00:00, 1991-06-01 00:00:00,\n",
      "       1992-06-01 00:00:00, 1993-06-01 00:00:00, 1994-06-01 00:00:00,\n",
      "       1995-06-01 00:00:00, 1996-06-01 00:00:00, 1997-06-01 00:00:00,\n",
      "       1998-06-01 00:00:00, 1999-06-01 00:00:00, 2000-06-01 00:00:00,\n",
      "       2001-06-01 00:00:00, 2002-06-01 00:00:00, 2003-06-01 00:00:00,\n",
      "       2004-06-01 00:00:00, 2005-06-01 00:00:00, 2006-06-01 00:00:00,\n",
      "       2007-06-01 00:00:00, 2008-06-01 00:00:00, 2009-06-01 00:00:00,\n",
      "       2010-06-01 00:00:00, 2011-06-01 00:00:00, 2012-06-01 00:00:00,\n",
      "       2013-06-01 00:00:00, 2014-06-01 00:00:00, 2015-06-01 00:00:00,\n",
      "       2016-06-01 00:00:00, 2017-06-01 00:00:00, 2018-06-01 00:00:00,\n",
      "       2019-06-01 00:00:00, 2020-06-01 00:00:00, 2021-06-01 00:00:00,\n",
      "       2022-06-01 00:00:00, 2023-06-01 00:00:00, 2024-06-01 00:00:00,\n",
      "       2025-06-01 00:00:00, 2026-06-01 00:00:00, 2027-06-01 00:00:00,\n",
      "       2028-06-01 00:00:00, 2029-06-01 00:00:00, 2030-06-01 00:00:00,\n",
      "       2031-06-01 00:00:00, 2032-06-01 00:00:00, 2033-06-01 00:00:00,\n",
      "       2034-06-01 00:00:00, 2035-06-01 00:00:00, 2036-06-01 00:00:00,\n",
      "       2037-06-01 00:00:00, 2038-06-01 00:00:00, 2039-06-01 00:00:00,\n",
      "       2040-06-01 00:00:00, 2041-06-01 00:00:00, 2042-06-01 00:00:00,\n",
      "       2043-06-01 00:00:00, 2044-06-01 00:00:00, 2045-06-01 00:00:00,\n",
      "       2046-06-01 00:00:00, 2047-06-01 00:00:00, 2048-06-01 00:00:00,\n",
      "       2049-06-01 00:00:00, 2050-06-01 00:00:00, 2051-06-01 00:00:00,\n",
      "       2052-06-01 00:00:00, 2053-06-01 00:00:00, 2054-06-01 00:00:00,\n",
      "       2055-06-01 00:00:00, 2056-06-01 00:00:00, 2057-06-01 00:00:00,\n",
      "       2058-06-01 00:00:00, 2059-06-01 00:00:00, 2060-06-01 00:00:00,\n",
      "       2061-06-01 00:00:00, 2062-06-01 00:00:00, 2063-06-01 00:00:00,\n",
      "       2064-06-01 00:00:00, 2065-06-01 00:00:00, 2066-06-01 00:00:00,\n",
      "       2067-06-01 00:00:00, 2068-06-01 00:00:00, 2069-06-01 00:00:00,\n",
      "       2070-06-01 00:00:00, 2071-06-01 00:00:00, 2072-06-01 00:00:00,\n",
      "       2073-06-01 00:00:00, 2074-06-01 00:00:00, 2075-06-01 00:00:00,\n",
      "       2076-06-01 00:00:00, 2077-06-01 00:00:00, 2078-06-01 00:00:00,\n",
      "       2079-06-01 00:00:00, 2080-06-01 00:00:00, 2081-06-01 00:00:00,\n",
      "       2082-06-01 00:00:00, 2083-06-01 00:00:00, 2084-06-01 00:00:00,\n",
      "       2085-06-01 00:00:00, 2086-06-01 00:00:00, 2087-06-01 00:00:00,\n",
      "       2088-06-01 00:00:00, 2089-06-01 00:00:00, 2090-06-01 00:00:00,\n",
      "       2091-06-01 00:00:00, 2092-06-01 00:00:00, 2093-06-01 00:00:00,\n",
      "       2094-06-01 00:00:00, 2095-06-01 00:00:00, 2096-06-01 00:00:00,\n",
      "       2097-06-01 00:00:00, 2098-06-01 00:00:00, 2099-06-01 00:00:00], bounds=[[1859-12-01 00:00:00, 1860-12-01 00:00:00],\n",
      "       [1860-12-01 00:00:00, 1861-12-01 00:00:00],\n",
      "       [1861-12-01 00:00:00, 1862-12-01 00:00:00],\n",
      "       [1862-12-01 00:00:00, 1863-12-01 00:00:00],\n",
      "       [1863-12-01 00:00:00, 1864-12-01 00:00:00],\n",
      "       [1864-12-01 00:00:00, 1865-12-01 00:00:00],\n",
      "       [1865-12-01 00:00:00, 1866-12-01 00:00:00],\n",
      "       [1866-12-01 00:00:00, 1867-12-01 00:00:00],\n",
      "       [1867-12-01 00:00:00, 1868-12-01 00:00:00],\n",
      "       [1868-12-01 00:00:00, 1869-12-01 00:00:00],\n",
      "       [1869-12-01 00:00:00, 1870-12-01 00:00:00],\n",
      "       [1870-12-01 00:00:00, 1871-12-01 00:00:00],\n",
      "       [1871-12-01 00:00:00, 1872-12-01 00:00:00],\n",
      "       [1872-12-01 00:00:00, 1873-12-01 00:00:00],\n",
      "       [1873-12-01 00:00:00, 1874-12-01 00:00:00],\n",
      "       [1874-12-01 00:00:00, 1875-12-01 00:00:00],\n",
      "       [1875-12-01 00:00:00, 1876-12-01 00:00:00],\n",
      "       [1876-12-01 00:00:00, 1877-12-01 00:00:00],\n",
      "       [1877-12-01 00:00:00, 1878-12-01 00:00:00],\n",
      "       [1878-12-01 00:00:00, 1879-12-01 00:00:00],\n",
      "       [1879-12-01 00:00:00, 1880-12-01 00:00:00],\n",
      "       [1880-12-01 00:00:00, 1881-12-01 00:00:00],\n",
      "       [1881-12-01 00:00:00, 1882-12-01 00:00:00],\n",
      "       [1882-12-01 00:00:00, 1883-12-01 00:00:00],\n",
      "       [1883-12-01 00:00:00, 1884-12-01 00:00:00],\n",
      "       [1884-12-01 00:00:00, 1885-12-01 00:00:00],\n",
      "       [1885-12-01 00:00:00, 1886-12-01 00:00:00],\n",
      "       [1886-12-01 00:00:00, 1887-12-01 00:00:00],\n",
      "       [1887-12-01 00:00:00, 1888-12-01 00:00:00],\n",
      "       [1888-12-01 00:00:00, 1889-12-01 00:00:00],\n",
      "       [1889-12-01 00:00:00, 1890-12-01 00:00:00],\n",
      "       [1890-12-01 00:00:00, 1891-12-01 00:00:00],\n",
      "       [1891-12-01 00:00:00, 1892-12-01 00:00:00],\n",
      "       [1892-12-01 00:00:00, 1893-12-01 00:00:00],\n",
      "       [1893-12-01 00:00:00, 1894-12-01 00:00:00],\n",
      "       [1894-12-01 00:00:00, 1895-12-01 00:00:00],\n",
      "       [1895-12-01 00:00:00, 1896-12-01 00:00:00],\n",
      "       [1896-12-01 00:00:00, 1897-12-01 00:00:00],\n",
      "       [1897-12-01 00:00:00, 1898-12-01 00:00:00],\n",
      "       [1898-12-01 00:00:00, 1899-12-01 00:00:00],\n",
      "       [1899-12-01 00:00:00, 1900-12-01 00:00:00],\n",
      "       [1900-12-01 00:00:00, 1901-12-01 00:00:00],\n",
      "       [1901-12-01 00:00:00, 1902-12-01 00:00:00],\n",
      "       [1902-12-01 00:00:00, 1903-12-01 00:00:00],\n",
      "       [1903-12-01 00:00:00, 1904-12-01 00:00:00],\n",
      "       [1904-12-01 00:00:00, 1905-12-01 00:00:00],\n",
      "       [1905-12-01 00:00:00, 1906-12-01 00:00:00],\n",
      "       [1906-12-01 00:00:00, 1907-12-01 00:00:00],\n",
      "       [1907-12-01 00:00:00, 1908-12-01 00:00:00],\n",
      "       [1908-12-01 00:00:00, 1909-12-01 00:00:00],\n",
      "       [1909-12-01 00:00:00, 1910-12-01 00:00:00],\n",
      "       [1910-12-01 00:00:00, 1911-12-01 00:00:00],\n",
      "       [1911-12-01 00:00:00, 1912-12-01 00:00:00],\n",
      "       [1912-12-01 00:00:00, 1913-12-01 00:00:00],\n",
      "       [1913-12-01 00:00:00, 1914-12-01 00:00:00],\n",
      "       [1914-12-01 00:00:00, 1915-12-01 00:00:00],\n",
      "       [1915-12-01 00:00:00, 1916-12-01 00:00:00],\n",
      "       [1916-12-01 00:00:00, 1917-12-01 00:00:00],\n",
      "       [1917-12-01 00:00:00, 1918-12-01 00:00:00],\n",
      "       [1918-12-01 00:00:00, 1919-12-01 00:00:00],\n",
      "       [1919-12-01 00:00:00, 1920-12-01 00:00:00],\n",
      "       [1920-12-01 00:00:00, 1921-12-01 00:00:00],\n",
      "       [1921-12-01 00:00:00, 1922-12-01 00:00:00],\n",
      "       [1922-12-01 00:00:00, 1923-12-01 00:00:00],\n",
      "       [1923-12-01 00:00:00, 1924-12-01 00:00:00],\n",
      "       [1924-12-01 00:00:00, 1925-12-01 00:00:00],\n",
      "       [1925-12-01 00:00:00, 1926-12-01 00:00:00],\n",
      "       [1926-12-01 00:00:00, 1927-12-01 00:00:00],\n",
      "       [1927-12-01 00:00:00, 1928-12-01 00:00:00],\n",
      "       [1928-12-01 00:00:00, 1929-12-01 00:00:00],\n",
      "       [1929-12-01 00:00:00, 1930-12-01 00:00:00],\n",
      "       [1930-12-01 00:00:00, 1931-12-01 00:00:00],\n",
      "       [1931-12-01 00:00:00, 1932-12-01 00:00:00],\n",
      "       [1932-12-01 00:00:00, 1933-12-01 00:00:00],\n",
      "       [1933-12-01 00:00:00, 1934-12-01 00:00:00],\n",
      "       [1934-12-01 00:00:00, 1935-12-01 00:00:00],\n",
      "       [1935-12-01 00:00:00, 1936-12-01 00:00:00],\n",
      "       [1936-12-01 00:00:00, 1937-12-01 00:00:00],\n",
      "       [1937-12-01 00:00:00, 1938-12-01 00:00:00],\n",
      "       [1938-12-01 00:00:00, 1939-12-01 00:00:00],\n",
      "       [1939-12-01 00:00:00, 1940-12-01 00:00:00],\n",
      "       [1940-12-01 00:00:00, 1941-12-01 00:00:00],\n",
      "       [1941-12-01 00:00:00, 1942-12-01 00:00:00],\n",
      "       [1942-12-01 00:00:00, 1943-12-01 00:00:00],\n",
      "       [1943-12-01 00:00:00, 1944-12-01 00:00:00],\n",
      "       [1944-12-01 00:00:00, 1945-12-01 00:00:00],\n",
      "       [1945-12-01 00:00:00, 1946-12-01 00:00:00],\n",
      "       [1946-12-01 00:00:00, 1947-12-01 00:00:00],\n",
      "       [1947-12-01 00:00:00, 1948-12-01 00:00:00],\n",
      "       [1948-12-01 00:00:00, 1949-12-01 00:00:00],\n",
      "       [1949-12-01 00:00:00, 1950-12-01 00:00:00],\n",
      "       [1950-12-01 00:00:00, 1951-12-01 00:00:00],\n",
      "       [1951-12-01 00:00:00, 1952-12-01 00:00:00],\n",
      "       [1952-12-01 00:00:00, 1953-12-01 00:00:00],\n",
      "       [1953-12-01 00:00:00, 1954-12-01 00:00:00],\n",
      "       [1954-12-01 00:00:00, 1955-12-01 00:00:00],\n",
      "       [1955-12-01 00:00:00, 1956-12-01 00:00:00],\n",
      "       [1956-12-01 00:00:00, 1957-12-01 00:00:00],\n",
      "       [1957-12-01 00:00:00, 1958-12-01 00:00:00],\n",
      "       [1958-12-01 00:00:00, 1959-12-01 00:00:00],\n",
      "       [1959-12-01 00:00:00, 1960-12-01 00:00:00],\n",
      "       [1960-12-01 00:00:00, 1961-12-01 00:00:00],\n",
      "       [1961-12-01 00:00:00, 1962-12-01 00:00:00],\n",
      "       [1962-12-01 00:00:00, 1963-12-01 00:00:00],\n",
      "       [1963-12-01 00:00:00, 1964-12-01 00:00:00],\n",
      "       [1964-12-01 00:00:00, 1965-12-01 00:00:00],\n",
      "       [1965-12-01 00:00:00, 1966-12-01 00:00:00],\n",
      "       [1966-12-01 00:00:00, 1967-12-01 00:00:00],\n",
      "       [1967-12-01 00:00:00, 1968-12-01 00:00:00],\n",
      "       [1968-12-01 00:00:00, 1969-12-01 00:00:00],\n",
      "       [1969-12-01 00:00:00, 1970-12-01 00:00:00],\n",
      "       [1970-12-01 00:00:00, 1971-12-01 00:00:00],\n",
      "       [1971-12-01 00:00:00, 1972-12-01 00:00:00],\n",
      "       [1972-12-01 00:00:00, 1973-12-01 00:00:00],\n",
      "       [1973-12-01 00:00:00, 1974-12-01 00:00:00],\n",
      "       [1974-12-01 00:00:00, 1975-12-01 00:00:00],\n",
      "       [1975-12-01 00:00:00, 1976-12-01 00:00:00],\n",
      "       [1976-12-01 00:00:00, 1977-12-01 00:00:00],\n",
      "       [1977-12-01 00:00:00, 1978-12-01 00:00:00],\n",
      "       [1978-12-01 00:00:00, 1979-12-01 00:00:00],\n",
      "       [1979-12-01 00:00:00, 1980-12-01 00:00:00],\n",
      "       [1980-12-01 00:00:00, 1981-12-01 00:00:00],\n",
      "       [1981-12-01 00:00:00, 1982-12-01 00:00:00],\n",
      "       [1982-12-01 00:00:00, 1983-12-01 00:00:00],\n",
      "       [1983-12-01 00:00:00, 1984-12-01 00:00:00],\n",
      "       [1984-12-01 00:00:00, 1985-12-01 00:00:00],\n",
      "       [1985-12-01 00:00:00, 1986-12-01 00:00:00],\n",
      "       [1986-12-01 00:00:00, 1987-12-01 00:00:00],\n",
      "       [1987-12-01 00:00:00, 1988-12-01 00:00:00],\n",
      "       [1988-12-01 00:00:00, 1989-12-01 00:00:00],\n",
      "       [1989-12-01 00:00:00, 1990-12-01 00:00:00],\n",
      "       [1990-12-01 00:00:00, 1991-12-01 00:00:00],\n",
      "       [1991-12-01 00:00:00, 1992-12-01 00:00:00],\n",
      "       [1992-12-01 00:00:00, 1993-12-01 00:00:00],\n",
      "       [1993-12-01 00:00:00, 1994-12-01 00:00:00],\n",
      "       [1994-12-01 00:00:00, 1995-12-01 00:00:00],\n",
      "       [1995-12-01 00:00:00, 1996-12-01 00:00:00],\n",
      "       [1996-12-01 00:00:00, 1997-12-01 00:00:00],\n",
      "       [1997-12-01 00:00:00, 1998-12-01 00:00:00],\n",
      "       [1998-12-01 00:00:00, 1999-12-01 00:00:00],\n",
      "       [1999-12-01 00:00:00, 2000-12-01 00:00:00],\n",
      "       [2000-12-01 00:00:00, 2001-12-01 00:00:00],\n",
      "       [2001-12-01 00:00:00, 2002-12-01 00:00:00],\n",
      "       [2002-12-01 00:00:00, 2003-12-01 00:00:00],\n",
      "       [2003-12-01 00:00:00, 2004-12-01 00:00:00],\n",
      "       [2004-12-01 00:00:00, 2005-12-01 00:00:00],\n",
      "       [2005-12-01 00:00:00, 2006-12-01 00:00:00],\n",
      "       [2006-12-01 00:00:00, 2007-12-01 00:00:00],\n",
      "       [2007-12-01 00:00:00, 2008-12-01 00:00:00],\n",
      "       [2008-12-01 00:00:00, 2009-12-01 00:00:00],\n",
      "       [2009-12-01 00:00:00, 2010-12-01 00:00:00],\n",
      "       [2010-12-01 00:00:00, 2011-12-01 00:00:00],\n",
      "       [2011-12-01 00:00:00, 2012-12-01 00:00:00],\n",
      "       [2012-12-01 00:00:00, 2013-12-01 00:00:00],\n",
      "       [2013-12-01 00:00:00, 2014-12-01 00:00:00],\n",
      "       [2014-12-01 00:00:00, 2015-12-01 00:00:00],\n",
      "       [2015-12-01 00:00:00, 2016-12-01 00:00:00],\n",
      "       [2016-12-01 00:00:00, 2017-12-01 00:00:00],\n",
      "       [2017-12-01 00:00:00, 2018-12-01 00:00:00],\n",
      "       [2018-12-01 00:00:00, 2019-12-01 00:00:00],\n",
      "       [2019-12-01 00:00:00, 2020-12-01 00:00:00],\n",
      "       [2020-12-01 00:00:00, 2021-12-01 00:00:00],\n",
      "       [2021-12-01 00:00:00, 2022-12-01 00:00:00],\n",
      "       [2022-12-01 00:00:00, 2023-12-01 00:00:00],\n",
      "       [2023-12-01 00:00:00, 2024-12-01 00:00:00],\n",
      "       [2024-12-01 00:00:00, 2025-12-01 00:00:00],\n",
      "       [2025-12-01 00:00:00, 2026-12-01 00:00:00],\n",
      "       [2026-12-01 00:00:00, 2027-12-01 00:00:00],\n",
      "       [2027-12-01 00:00:00, 2028-12-01 00:00:00],\n",
      "       [2028-12-01 00:00:00, 2029-12-01 00:00:00],\n",
      "       [2029-12-01 00:00:00, 2030-12-01 00:00:00],\n",
      "       [2030-12-01 00:00:00, 2031-12-01 00:00:00],\n",
      "       [2031-12-01 00:00:00, 2032-12-01 00:00:00],\n",
      "       [2032-12-01 00:00:00, 2033-12-01 00:00:00],\n",
      "       [2033-12-01 00:00:00, 2034-12-01 00:00:00],\n",
      "       [2034-12-01 00:00:00, 2035-12-01 00:00:00],\n",
      "       [2035-12-01 00:00:00, 2036-12-01 00:00:00],\n",
      "       [2036-12-01 00:00:00, 2037-12-01 00:00:00],\n",
      "       [2037-12-01 00:00:00, 2038-12-01 00:00:00],\n",
      "       [2038-12-01 00:00:00, 2039-12-01 00:00:00],\n",
      "       [2039-12-01 00:00:00, 2040-12-01 00:00:00],\n",
      "       [2040-12-01 00:00:00, 2041-12-01 00:00:00],\n",
      "       [2041-12-01 00:00:00, 2042-12-01 00:00:00],\n",
      "       [2042-12-01 00:00:00, 2043-12-01 00:00:00],\n",
      "       [2043-12-01 00:00:00, 2044-12-01 00:00:00],\n",
      "       [2044-12-01 00:00:00, 2045-12-01 00:00:00],\n",
      "       [2045-12-01 00:00:00, 2046-12-01 00:00:00],\n",
      "       [2046-12-01 00:00:00, 2047-12-01 00:00:00],\n",
      "       [2047-12-01 00:00:00, 2048-12-01 00:00:00],\n",
      "       [2048-12-01 00:00:00, 2049-12-01 00:00:00],\n",
      "       [2049-12-01 00:00:00, 2050-12-01 00:00:00],\n",
      "       [2050-12-01 00:00:00, 2051-12-01 00:00:00],\n",
      "       [2051-12-01 00:00:00, 2052-12-01 00:00:00],\n",
      "       [2052-12-01 00:00:00, 2053-12-01 00:00:00],\n",
      "       [2053-12-01 00:00:00, 2054-12-01 00:00:00],\n",
      "       [2054-12-01 00:00:00, 2055-12-01 00:00:00],\n",
      "       [2055-12-01 00:00:00, 2056-12-01 00:00:00],\n",
      "       [2056-12-01 00:00:00, 2057-12-01 00:00:00],\n",
      "       [2057-12-01 00:00:00, 2058-12-01 00:00:00],\n",
      "       [2058-12-01 00:00:00, 2059-12-01 00:00:00],\n",
      "       [2059-12-01 00:00:00, 2060-12-01 00:00:00],\n",
      "       [2060-12-01 00:00:00, 2061-12-01 00:00:00],\n",
      "       [2061-12-01 00:00:00, 2062-12-01 00:00:00],\n",
      "       [2062-12-01 00:00:00, 2063-12-01 00:00:00],\n",
      "       [2063-12-01 00:00:00, 2064-12-01 00:00:00],\n",
      "       [2064-12-01 00:00:00, 2065-12-01 00:00:00],\n",
      "       [2065-12-01 00:00:00, 2066-12-01 00:00:00],\n",
      "       [2066-12-01 00:00:00, 2067-12-01 00:00:00],\n",
      "       [2067-12-01 00:00:00, 2068-12-01 00:00:00],\n",
      "       [2068-12-01 00:00:00, 2069-12-01 00:00:00],\n",
      "       [2069-12-01 00:00:00, 2070-12-01 00:00:00],\n",
      "       [2070-12-01 00:00:00, 2071-12-01 00:00:00],\n",
      "       [2071-12-01 00:00:00, 2072-12-01 00:00:00],\n",
      "       [2072-12-01 00:00:00, 2073-12-01 00:00:00],\n",
      "       [2073-12-01 00:00:00, 2074-12-01 00:00:00],\n",
      "       [2074-12-01 00:00:00, 2075-12-01 00:00:00],\n",
      "       [2075-12-01 00:00:00, 2076-12-01 00:00:00],\n",
      "       [2076-12-01 00:00:00, 2077-12-01 00:00:00],\n",
      "       [2077-12-01 00:00:00, 2078-12-01 00:00:00],\n",
      "       [2078-12-01 00:00:00, 2079-12-01 00:00:00],\n",
      "       [2079-12-01 00:00:00, 2080-12-01 00:00:00],\n",
      "       [2080-12-01 00:00:00, 2081-12-01 00:00:00],\n",
      "       [2081-12-01 00:00:00, 2082-12-01 00:00:00],\n",
      "       [2082-12-01 00:00:00, 2083-12-01 00:00:00],\n",
      "       [2083-12-01 00:00:00, 2084-12-01 00:00:00],\n",
      "       [2084-12-01 00:00:00, 2085-12-01 00:00:00],\n",
      "       [2085-12-01 00:00:00, 2086-12-01 00:00:00],\n",
      "       [2086-12-01 00:00:00, 2087-12-01 00:00:00],\n",
      "       [2087-12-01 00:00:00, 2088-12-01 00:00:00],\n",
      "       [2088-12-01 00:00:00, 2089-12-01 00:00:00],\n",
      "       [2089-12-01 00:00:00, 2090-12-01 00:00:00],\n",
      "       [2090-12-01 00:00:00, 2091-12-01 00:00:00],\n",
      "       [2091-12-01 00:00:00, 2092-12-01 00:00:00],\n",
      "       [2092-12-01 00:00:00, 2093-12-01 00:00:00],\n",
      "       [2093-12-01 00:00:00, 2094-12-01 00:00:00],\n",
      "       [2094-12-01 00:00:00, 2095-12-01 00:00:00],\n",
      "       [2095-12-01 00:00:00, 2096-12-01 00:00:00],\n",
      "       [2096-12-01 00:00:00, 2097-12-01 00:00:00],\n",
      "       [2097-12-01 00:00:00, 2098-12-01 00:00:00],\n",
      "       [2098-12-01 00:00:00, 2099-12-01 00:00:00]], standard_name='time', calendar='360_day', var_name='time')\n"
     ]
    }
   ],
   "source": [
    "e1_averaged = e1.collapsed(['longitude', 'latitude'], iris.analysis.MEAN, weights=weights)\n",
    "a1b_averaged = a1b.collapsed(['longitude', 'latitude'], iris.analysis.MEAN, weights = weightsa)\n",
    "\n",
    "dif = a1b_averaged-e1_averaged\n",
    "\n",
    "print(dif.coord('time'))"
   ]
  },
  {
   "cell_type": "markdown",
   "metadata": {},
   "source": [
    "4\\. Produce a single line plot with the data from the two cubes you produced in part 3. Make sure you label the lines you plot."
   ]
  },
  {
   "cell_type": "code",
   "execution_count": 202,
   "metadata": {},
   "outputs": [
    {
     "data": {
      "image/png": "[encoded data removed]",
      "text/plain": [
       "<Figure size 432x288 with 1 Axes>"
      ]
     },
     "metadata": {
      "needs_background": "light"
     },
     "output_type": "display_data"
    }
   ],
   "source": [
    "qplt.plot(e1_averaged, label='e1')\n",
    "qplt.plot(a1b_averaged, label='a1b')\n",
    "\n",
    "plt.legend()\n",
    "plt.show()"
   ]
  },
  {
   "cell_type": "code",
   "execution_count": 203,
   "metadata": {},
   "outputs": [
    {
     "data": {
      "image/png": "[encoded data removed]",
      "text/plain": [
       "<Figure size 432x288 with 1 Axes>"
      ]
     },
     "metadata": {
      "needs_background": "light"
     },
     "output_type": "display_data"
    }
   ],
   "source": [
    "qplt.plot(dif, label='difference')\n",
    "plt.legend()\n",
    "plt.show()"
   ]
  },
  {
   "cell_type": "code",
   "execution_count": 222,
   "metadata": {},
   "outputs": [],
   "source": [
    "e1.coord('longitude').guess_bounds()\n",
    "a1b.coord('longitude').guess_bounds()"
   ]
  },
  {
   "cell_type": "code",
   "execution_count": 224,
   "metadata": {},
   "outputs": [],
   "source": [
    "import iris.analysis.cartography\n",
    "\n",
    "weights = iris.analysis.cartography.area_weights(e1)\n",
    "weightsa = iris.analysis.cartography.area_weights(a1b)"
   ]
  },
  {
   "cell_type": "markdown",
   "metadata": {},
   "source": [
    "5\\. Extract and compare the area-averaged air temperature values for both scenarios in 1980 and 2099. What conclusions can you draw from the values you've extracted?"
   ]
  },
  {
   "cell_type": "code",
   "execution_count": 226,
   "metadata": {},
   "outputs": [
    {
     "name": "stdout",
     "output_type": "stream",
     "text": [
      "292.02205419494294 287.2844541212802 289.2764227419217 287.2844541212802\n"
     ]
    }
   ],
   "source": [
    "constr1 = iris.Constraint(time=lambda cell: cell.point.year==1980)\n",
    "constr = iris.Constraint(time=lambda cell: cell.point.year==2099)\n",
    "\n",
    "a120 = a1b_averaged.extract(constr)\n",
    "a119 = a1b_averaged.extract(constr1)\n",
    "e120 = e1_averaged.extract(constr)\n",
    "e119 = e1_averaged.extract(constr1)\n",
    "\n",
    "print(a120.data, a119.data, e120.data, e119.data)"
   ]
  },
  {
   "cell_type": "markdown",
   "metadata": {},
   "source": [
    "## Advanced concepts\n",
    "\n",
    "None of the concepts covered in this section are essential for using Iris, but are useful to know. We'll cover them if time permits."
   ]
  },
  {
   "cell_type": "markdown",
   "metadata": {},
   "source": [
    "### Load callbacks\n",
    "\n",
    "Sometimes important data exists in a filename rather than in the file itself, and it is desirable for it to become part of the cube's metadata.\n",
    "For example, some early GloSea4 model runs recorded the \"ensemble member number\" (or \"realization\" in CF terms) in the filename, but not in actual PP metadata itself. As a result, loading the data yielded 2 cubes, rather than a single, fully merged, cube."
   ]
  },
  {
   "cell_type": "code",
   "execution_count": 227,
   "metadata": {},
   "outputs": [
    {
     "name": "stdout",
     "output_type": "stream",
     "text": [
      "surface_temperature / (K)           (time: 6; latitude: 145; longitude: 192)\n",
      "     Dimension coordinates:\n",
      "          time                           x            -               -\n",
      "          latitude                       -            x               -\n",
      "          longitude                      -            -               x\n",
      "     Auxiliary coordinates:\n",
      "          forecast_period                x            -               -\n",
      "     Scalar coordinates:\n",
      "          forecast_reference_time: 2011-07-19 00:00:00\n",
      "     Attributes:\n",
      "          STASH: m01s00i024\n",
      "          source: Data from Met Office Unified Model\n",
      "          um_version: 7.6\n",
      "     Cell methods:\n",
      "          mean: time (1 hour) \n",
      " ----------------------------------------------------------------------------------------------------\n",
      "surface_temperature / (K)           (time: 6; latitude: 145; longitude: 192)\n",
      "     Dimension coordinates:\n",
      "          time                           x            -               -\n",
      "          latitude                       -            x               -\n",
      "          longitude                      -            -               x\n",
      "     Auxiliary coordinates:\n",
      "          forecast_period                x            -               -\n",
      "     Scalar coordinates:\n",
      "          forecast_reference_time: 2011-07-20 00:00:00\n",
      "          realization: 4\n",
      "     Attributes:\n",
      "          STASH: m01s00i024\n",
      "          source: Data from Met Office Unified Model\n",
      "          um_version: 7.6\n",
      "     Cell methods:\n",
      "          mean: time (1 hour) \n",
      " ----------------------------------------------------------------------------------------------------\n"
     ]
    }
   ],
   "source": [
    "fname = iris.sample_data_path('GloSea4', 'ensemble_00[34].pp')\n",
    "for cube in iris.load(fname, 'surface_temperature'):\n",
    "    print(cube, '\\n', '--' * 50)"
   ]
  },
  {
   "cell_type": "markdown",
   "metadata": {},
   "source": [
    "To resolve this we can define a function that gets called during the load process. This must take as arguments:\n",
    "\n",
    " * a cube,\n",
    " * a 2D field - either a PP field, a NetCDF variable or a GRIB message depending on the file format being loaded, and\n",
    " * a filename.\n",
    "\n",
    "In this case, the function makes the necessary adjustments to include a \"realization\" coordinate. We pass this function to load, and the result is a successfully merged cube:"
   ]
  },
  {
   "cell_type": "code",
   "execution_count": 228,
   "metadata": {},
   "outputs": [
    {
     "name": "stdout",
     "output_type": "stream",
     "text": [
      "surface_temperature / (K)           (time: 6; forecast_reference_time: 2; latitude: 145; longitude: 192)\n",
      "     Dimension coordinates:\n",
      "          time                           x                           -            -               -\n",
      "          forecast_reference_time        -                           x            -               -\n",
      "          latitude                       -                           -            x               -\n",
      "          longitude                      -                           -            -               x\n",
      "     Auxiliary coordinates:\n",
      "          forecast_period                x                           x            -               -\n",
      "          realization                    x                           x            -               -\n",
      "     Attributes:\n",
      "          STASH: m01s00i024\n",
      "          source: Data from Met Office Unified Model\n",
      "          um_version: 7.6\n",
      "     Cell methods:\n",
      "          mean: time (1 hour)\n"
     ]
    }
   ],
   "source": [
    "import os\n",
    "def realization_callback(cube, field, fname):\n",
    "    basename = os.path.basename(fname)\n",
    "    if not cube.coords('realization') and basename.startswith('ensemble_'):\n",
    "        cube.add_aux_coord(iris.coords.DimCoord(np.int32(basename[-6:-3]),\n",
    "                                                'realization'))\n",
    "\n",
    "print(iris.load_cube(fname, callback=realization_callback))"
   ]
  },
  {
   "cell_type": "markdown",
   "metadata": {},
   "source": [
    "### Creating extra annotation coordinates for statistical convenience\n",
    "\n",
    "Sometimes we want to be able to categorise data before performing statistical operations on it. For example, we might want to categorise our data by \"daylight maximum\" or \"seasonal mean\" etc. Both of these categorisations would be based on the time coordinate.\n",
    "\n",
    "The ``iris.coord_categorisation`` module provides convenience functions to add some common categorical coordinates, and provides a generalised function to allow each creation of custom categorisations. "
   ]
  },
  {
   "cell_type": "code",
   "execution_count": 229,
   "metadata": {},
   "outputs": [
    {
     "name": "stdout",
     "output_type": "stream",
     "text": [
      "surface_temperature / (K)           (time: 54; latitude: 18; longitude: 432)\n",
      "     Dimension coordinates:\n",
      "          time                           x             -              -\n",
      "          latitude                       -             x              -\n",
      "          longitude                      -             -              x\n",
      "     Auxiliary coordinates:\n",
      "          forecast_reference_time        x             -              -\n",
      "     Scalar coordinates:\n",
      "          forecast_period: 0 hours\n",
      "     Attributes:\n",
      "          Conventions: CF-1.5\n",
      "          STASH: m01s00i024\n",
      "     Cell methods:\n",
      "          mean: month, year\n"
     ]
    }
   ],
   "source": [
    "import iris.coord_categorisation as coord_cat\n",
    "\n",
    "filename = iris.sample_data_path('ostia_monthly.nc')\n",
    "cube = iris.load_cube(filename, 'surface_temperature')\n",
    "print(cube)"
   ]
  },
  {
   "cell_type": "markdown",
   "metadata": {},
   "source": [
    "The cube loaded represents the monthly air_temperature from April 2006 through to October 2010. Let's add a categorisation coordinate to this cube to identify the climatological season (i.e \"djf\", \"mam\", \"jja\" or \"son\") of each time point:"
   ]
  },
  {
   "cell_type": "code",
   "execution_count": 230,
   "metadata": {},
   "outputs": [
    {
     "name": "stdout",
     "output_type": "stream",
     "text": [
      "surface_temperature / (K)           (time: 54; latitude: 18; longitude: 432)\n",
      "     Dimension coordinates:\n",
      "          time                           x             -              -\n",
      "          latitude                       -             x              -\n",
      "          longitude                      -             -              x\n",
      "     Auxiliary coordinates:\n",
      "          clim_season                    x             -              -\n",
      "          forecast_reference_time        x             -              -\n",
      "     Scalar coordinates:\n",
      "          forecast_period: 0 hours\n",
      "     Attributes:\n",
      "          Conventions: CF-1.5\n",
      "          STASH: m01s00i024\n",
      "     Cell methods:\n",
      "          mean: month, year\n"
     ]
    }
   ],
   "source": [
    "coord_cat.add_season(cube, 'time', name='clim_season')\n",
    "print(cube)"
   ]
  },
  {
   "cell_type": "code",
   "execution_count": null,
   "metadata": {},
   "outputs": [],
   "source": [
    "print(cube.coord('clim_season'))"
   ]
  },
  {
   "cell_type": "markdown",
   "metadata": {},
   "source": [
    "We can now use the cube's ``aggregated_by`` method to \"group by and aggregate\" on the season, to produce the seasonal mean:"
   ]
  },
  {
   "cell_type": "code",
   "execution_count": null,
   "metadata": {},
   "outputs": [],
   "source": [
    "seasonal_mean = cube.aggregated_by('clim_season', iris.analysis.MEAN)\n",
    "print(seasonal_mean)"
   ]
  },
  {
   "cell_type": "markdown",
   "metadata": {},
   "source": [
    "We can take this further by extracting by our newly created coordinate, producing a plot of the winter zonal mean:"
   ]
  },
  {
   "cell_type": "code",
   "execution_count": null,
   "metadata": {},
   "outputs": [],
   "source": [
    "winter = seasonal_mean.extract(iris.Constraint(clim_season='djf'))\n",
    "\n",
    "qplt.plot(winter.collapsed('latitude', iris.analysis.MEAN))\n",
    "plt.title('Winter zonal mean surface temperature at $\\pm5^{\\circ}$ latitude')\n",
    "plt.show()"
   ]
  },
  {
   "cell_type": "markdown",
   "metadata": {},
   "source": [
    "#### Custom categorisation\n",
    "\n",
    "Custom categorisation can be achieved with an arbitrary function. For example, the existing ``add_year`` categorisor takes the 'time' coordinate, and creates a 'year' coordinate. This could be achieved without using the available ``add_year`` by:"
   ]
  },
  {
   "cell_type": "code",
   "execution_count": null,
   "metadata": {},
   "outputs": [],
   "source": [
    "def year_from_time(coord, point):\n",
    "    return coord.units.num2date(point).year\n",
    "\n",
    "coord_cat.add_categorised_coord(cube, 'year', cube.coord('time'),\n",
    "                                year_from_time)\n",
    "\n",
    "print(cube.coord('year'))"
   ]
  },
  {
   "cell_type": "markdown",
   "metadata": {},
   "source": [
    "### Performance tricks\n",
    "\n",
    "This section details a few common tricks to improve the performance of your Iris code:\n",
    "\n",
    " * Data loading.\n",
    " * Load once, extract many times."
   ]
  },
  {
   "cell_type": "markdown",
   "metadata": {},
   "source": [
    "#### Make use of deferred loading of data\n",
    "\n",
    "Sometimes it makes sense to load data before doing operations, other times it makes sense to do data reduction before loading:"
   ]
  },
  {
   "cell_type": "code",
   "execution_count": null,
   "metadata": {},
   "outputs": [],
   "source": [
    "def zonal_sum(cube):\n",
    "    \"\"\"\n",
    "    A really silly function to calculate the sum of the grid_longitude\n",
    "    dimension.\n",
    "    Don't use this in real life, instead consider doing:\n",
    "    \n",
    "        cube.collapsed('grid_longitude', iris.analysis.SUM)\n",
    "    \n",
    "    \"\"\"\n",
    "    total = 0\n",
    "    for i, _ in enumerate(cube.coord('grid_longitude')):\n",
    "        total += cube[..., i].data\n",
    "    return total"
   ]
  },
  {
   "cell_type": "code",
   "execution_count": null,
   "metadata": {},
   "outputs": [],
   "source": [
    "%%timeit\n",
    "fname = iris.sample_data_path('uk_hires.pp')\n",
    "pt = iris.load_cube(fname, 'air_potential_temperature')\n",
    "result = zonal_sum(pt)"
   ]
  },
  {
   "cell_type": "markdown",
   "metadata": {},
   "source": [
    "The exact same code, only with the data loaded upfront:"
   ]
  },
  {
   "cell_type": "code",
   "execution_count": null,
   "metadata": {},
   "outputs": [],
   "source": [
    "%%timeit\n",
    "fname = iris.sample_data_path('uk_hires.pp')\n",
    "pt = iris.load_cube(fname, 'air_potential_temperature')\n",
    "pt.data\n",
    "result = zonal_sum(pt)"
   ]
  },
  {
   "cell_type": "markdown",
   "metadata": {},
   "source": [
    "#### Load once, extract many times\n",
    "\n",
    "Iris loading can be slow, particularly if the format stores 2d fields of a conceptually higher dimensional dataset, as is the case with GRIB and PP. To maximise load speed and avoid unncecessary processing, it is worth constraining the fields that are of interest *at load time*, but there is no caching, so loading a file twice will be twice as slow."
   ]
  },
  {
   "cell_type": "code",
   "execution_count": null,
   "metadata": {},
   "outputs": [],
   "source": [
    "fname = iris.sample_data_path('uk_hires.pp')\n",
    "model_levels = [1, 4, 7, 16]"
   ]
  },
  {
   "cell_type": "code",
   "execution_count": null,
   "metadata": {},
   "outputs": [],
   "source": [
    "%%timeit\n",
    "for model_level in model_levels:\n",
    "    pt = iris.load_cube(fname,\n",
    "                        iris.Constraint('air_potential_temperature',\n",
    "                                        model_level_number=model_level))"
   ]
  },
  {
   "cell_type": "code",
   "execution_count": null,
   "metadata": {},
   "outputs": [],
   "source": [
    "%%timeit\n",
    "cubes = iris.load(fname)\n",
    "for model_level in model_levels:\n",
    "    pt = cubes.extract(iris.Constraint('air_potential_temperature',\n",
    "                                       model_level_number=model_level),\n",
    "                       strict=True)"
   ]
  },
  {
   "cell_type": "markdown",
   "metadata": {},
   "source": [
    "For files with lots of different phenomenon this can be improved further by loading only the phenomenon (and in this case just the model levels of interest):"
   ]
  },
  {
   "cell_type": "code",
   "execution_count": null,
   "metadata": {},
   "outputs": [],
   "source": [
    "%%timeit\n",
    "cube = iris.load(fname,\n",
    "                 iris.Constraint('air_potential_temperature',\n",
    "                                 model_level_number=model_levels))\n",
    "for model_level in model_levels:\n",
    "    pt = cube.extract(iris.Constraint(model_level_number=model_level))"
   ]
  },
  {
   "cell_type": "markdown",
   "metadata": {},
   "source": [
    "### Final Exercise\n",
    "\n",
    "Produce a set of plots that provide a comparison of decadal-mean air temperatures over North America:\n",
    "\n",
    "**Part 1**\n",
    "\n",
    "Load 'A1B_north_america.nc' from the Iris sample data."
   ]
  },
  {
   "cell_type": "code",
   "execution_count": null,
   "metadata": {},
   "outputs": [],
   "source": []
  },
  {
   "cell_type": "markdown",
   "metadata": {},
   "source": [
    "**Part 2**\n",
    "\n",
    "Extract just data from the year 1980 and beyond from the loaded data."
   ]
  },
  {
   "cell_type": "code",
   "execution_count": null,
   "metadata": {},
   "outputs": [],
   "source": []
  },
  {
   "cell_type": "markdown",
   "metadata": {},
   "source": [
    "**Part 3**\n",
    "\n",
    "Define a function that takes a coordinate and a single time point as arguments, and returns the decade. For example, your function should return 2010 for the following:\n",
    "\n",
    "```python\n",
    "time = iris.coords.DimCoord([10], 'time',\n",
    "                           units='days since 2018-01-01')\n",
    "print(your_decade_function(time, time.points[0]))\n",
    "```"
   ]
  },
  {
   "cell_type": "code",
   "execution_count": null,
   "metadata": {},
   "outputs": [],
   "source": []
  },
  {
   "cell_type": "markdown",
   "metadata": {},
   "source": [
    "**Part 4**\n",
    "\n",
    "Add a \"decade\" coordinate to the loaded cube using your function and the coord categorisation module."
   ]
  },
  {
   "cell_type": "code",
   "execution_count": null,
   "metadata": {},
   "outputs": [],
   "source": []
  },
  {
   "cell_type": "markdown",
   "metadata": {},
   "source": [
    "**Part 5**\n",
    "\n",
    "Calculate the decadal means cube for this scenario."
   ]
  },
  {
   "cell_type": "code",
   "execution_count": null,
   "metadata": {},
   "outputs": [],
   "source": []
  },
  {
   "cell_type": "markdown",
   "metadata": {},
   "source": [
    "**Part 6**\n",
    "\n",
    "Create a figure with 3 rows and 4 columns displaying the decadal means, with the decade displayed prominently in each axes' title."
   ]
  },
  {
   "cell_type": "code",
   "execution_count": null,
   "metadata": {},
   "outputs": [],
   "source": []
  }
 ],
 "metadata": {
  "kernelspec": {
   "display_name": "experimental-current",
   "language": "python",
   "name": "experimental-current"
  },
  "language_info": {
   "codemirror_mode": {
    "name": "ipython",
    "version": 3
   },
   "file_extension": ".py",
   "mimetype": "text/x-python",
   "name": "python",
   "nbconvert_exporter": "python",
   "pygments_lexer": "ipython3",
   "version": "3.6.6"
  }
 },
 "nbformat": 4,
 "nbformat_minor": 1
}
