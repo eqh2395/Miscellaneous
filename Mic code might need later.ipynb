{
 "cells": [
  {
   "cell_type": "code",
   "execution_count": null,
   "metadata": {},
   "outputs": [],
   "source": [
    "# from distutils.dir_util import copy_tree\n",
    "\n",
    "# fromDirectory = \"/scratch/\"\n",
    "# toDirectory = \"Summer-projects/Volcano pngs1/\"\n",
    "\n",
    "# copy_tree(fromDirectory, toDirectory)\n",
    "\n",
    "#copies all files in directory to another"
   ]
  },
  {
   "cell_type": "code",
   "execution_count": null,
   "metadata": {},
   "outputs": [],
   "source": [
    "#os.getcwd()\n",
    "#finds directory you're in"
   ]
  },
  {
   "cell_type": "code",
   "execution_count": null,
   "metadata": {},
   "outputs": [],
   "source": [
    "# from pympler import asizeof\n",
    "# asizeof.asizeof(get_map_plot(sequence[200]))\n",
    "#gets size in bytes of object"
   ]
  },
  {
   "cell_type": "code",
   "execution_count": null,
   "metadata": {},
   "outputs": [],
   "source": [
    "# os.path.getsize(\"/scratch/liz/Test/0212.png\")\n",
    "#get size in bytes of file"
   ]
  },
  {
   "cell_type": "code",
   "execution_count": null,
   "metadata": {},
   "outputs": [],
   "source": [
    "# from PIL import Image\n",
    "\n",
    "# im = Image.open(\"/scratch/0500.png\")\n",
    "# width, height = im.size\n",
    "#find out image size in pixels"
   ]
  },
  {
   "cell_type": "code",
   "execution_count": null,
   "metadata": {},
   "outputs": [],
   "source": [
    "# logs = client.get_worker_logs()\n",
    "# for worker in logs:\n",
    "#     for log in logs[worker]:\n",
    "#         print(log)\n",
    "#check dask worker logs"
   ]
  },
  {
   "cell_type": "code",
   "execution_count": null,
   "metadata": {},
   "outputs": [],
   "source": [
    "# import types\n",
    "\n",
    "# import cartopy.io.img_tiles as img_tiles\n",
    "# import requests\n",
    "# import PIL\n",
    "\n",
    "\n",
    "# class CachedTiler(object):\n",
    "#     def __init__(self, tiler):\n",
    "#         self.tiler = tiler\n",
    "\n",
    "#     def __getattr__(self, name):\n",
    "#         # Mimic the tiler interface, but for methods, ensure that the \"self\"\n",
    "#         # that is passed through continues to be CachedTiler, and not the\n",
    "#         # contained tiler instance.\n",
    "#         attr = getattr(self.tiler, name, None)\n",
    "#         if isinstance(attr, types.MethodType):\n",
    "#             attr = types.MethodType(attr.__func__, self)\n",
    "#         return attr\n",
    "\n",
    "#     def get_image(self, tile):\n",
    "#         tileset_name = '{}'.format(self.tiler.__class__.__name__.lower())\n",
    "#         cache_dir = os.path.expanduser(os.path.join('~/', 'image_tiles', tileset_name))\n",
    "#         if not os.path.exists(cache_dir):\n",
    "#             os.makedirs(cache_dir)\n",
    "#         tile_fname = os.path.join(cache_dir, '_'.join(str(v) for v in tile) + '.png')\n",
    "#         if not os.path.exists(tile_fname):\n",
    "#             response = requests.get(self._image_url(tile),\n",
    "#                                     stream=True)\n",
    "\n",
    "#             with open(tile_fname, \"wb\") as fh:\n",
    "#                 for chunk in response:\n",
    "#                     fh.write(chunk)\n",
    "#         with open(tile_fname, 'rb') as fh:\n",
    "#             img = PIL.Image.open(fh)\n",
    "#             img = img.convert(self.desired_tile_form)     \n",
    "#         return img, self.tileextent(tile), 'lower'\n",
    "\n",
    "# from cartopy.io.img_tiles import StamenTerrain\n",
    "\n",
    "# actual_tiler = StamenTerrain()\n",
    "# tiler = CachedTiler(actual_tiler)\n",
    "\n",
    "# mercator = tiler.crs\n",
    "# fig, ax = plt.subplots(figsize=(15,15))\n",
    "# fig = plt.axes(projection=mercator)\n",
    "# fig.set_extent((-18,110,-10,50))\n",
    "# fig.add_image(tiler, 4)\n",
    "# plt.show()\n",
    "\n",
    "#caches cartopy map"
   ]
  },
  {
   "cell_type": "code",
   "execution_count": null,
   "metadata": {},
   "outputs": [],
   "source": [
    "# timeline = float('%.1f' % subset.coord('time').points.astype('float')[0]) - 363311.5\n",
    "#     timeline = timeline*100/499.5\n",
    "#     slideraxes = plt.axes([0.3, 0.15, 0.55, 0.03], facecolor='#2A2A2A')\n",
    "    \n",
    "#     stimeline = Slider(slideraxes, 'Percentage progress\\n'\n",
    "#                        'from 23:30 12/06/2011\\n'\n",
    "#                        'to 19:00 03/07/2011', valmin=0, valmax=100, valinit=timeline, color='#007AA9')\n",
    "#     stimeline.set_val(timeline)\n",
    "#     stimeline.label.set_size(12)\n",
    "#     stimeline.label.set_fontproperties(MetOfficeFont)\n",
    "    \n",
    "# creates slider widget for matplotlib plot"
   ]
  },
  {
   "cell_type": "code",
   "execution_count": null,
   "metadata": {},
   "outputs": [],
   "source": [
    "# df[df['ids'].str.contains(\"ball\")]\n",
    "\n",
    "# pandas - returns row that contains string"
   ]
  },
  {
   "cell_type": "code",
   "execution_count": null,
   "metadata": {},
   "outputs": [],
   "source": [
    "# total_counts_full = total_counts_full.ix[1:]\n",
    "\n",
    "# drop first row of df"
   ]
  },
  {
   "cell_type": "code",
   "execution_count": null,
   "metadata": {},
   "outputs": [],
   "source": [
    "# <span style=\"background:#77BB22;\">&nbsp;&nbsp;&nbsp;</span> R \n",
    "# <span style=\"background:#550055; color:white\">GO</span> Go <br/>"
   ]
  },
  {
   "cell_type": "code",
   "execution_count": null,
   "metadata": {},
   "outputs": [],
   "source": [
    "# cmap = matplotlib.cm.get_cmap('magma')\n",
    "# cmap.colors\n",
    "# get colours in colour scale"
   ]
  },
  {
   "cell_type": "code",
   "execution_count": null,
   "metadata": {},
   "outputs": [],
   "source": [
    "#     cmap = mpl_cm.get_cmap('magma')\n",
    "#     cmap = matplotlib.colors.LinearSegmentedColormap(colors[:-1], \"\")\n",
    "#     cmaplist = [cmap(i) for i in range(cmap.N)]\n",
    "#     cmaplist[0] = (0,0,0,(0.2*9.8203513e-05))\n",
    "    \n",
    "#     bounds = np.linspace(0,0.0001,0.0015)\n",
    "#     norm = mpl.colors.BoundaryNorm(bounds, cmap.N)\n",
    "\n",
    "#supposed to saturate colour scale..."
   ]
  },
  {
   "cell_type": "code",
   "execution_count": null,
   "metadata": {},
   "outputs": [],
   "source": [
    "#         font_scalings = {\n",
    "#     'xx-small' : 0.579,\n",
    "#     'x-small'  : 0.694,\n",
    "#     'small'    : 0.833,\n",
    "#     'medium'   : 1.0,\n",
    "#     'large'    : 1.200,\n",
    "#     'x-large'  : 1.440,\n",
    "#     'xx-large' : 1.728,\n",
    "#     'larger'   : 1.2,\n",
    "#     'smaller'  : 0.833,\n",
    "#     None       : 1.0}\n",
    "\n",
    "# stretch_dict = {\n",
    "#     'ultra-condensed' : 100,\n",
    "#     'extra-condensed' : 200,\n",
    "#     'condensed'       : 300,\n",
    "#     'semi-condensed'  : 400,\n",
    "#     'normal'          : 500,\n",
    "#     'semi-expanded'   : 600,\n",
    "#     'expanded'        : 700,\n",
    "#     'extra-expanded'  : 800,\n",
    "#     'ultra-expanded'  : 900}\n",
    "\n",
    "# weight_dict = {\n",
    "#     'ultralight' : 100,\n",
    "#     'light'      : 200,\n",
    "#     'normal'     : 400,\n",
    "#     'regular'    : 400,\n",
    "#     'book'       : 400,\n",
    "#     'medium'     : 500,\n",
    "#     'roman'      : 500,\n",
    "#     'semibold'   : 600,\n",
    "#     'demibold'   : 600,\n",
    "#     'demi'       : 600,\n",
    "#     'bold'       : 700,\n",
    "#     'heavy'      : 800,\n",
    "#     'extra bold' : 800,\n",
    "#     'black'      : 900}\n",
    "\n",
    "#matplotlib text property dictionaries."
   ]
  },
  {
   "cell_type": "code",
   "execution_count": null,
   "metadata": {},
   "outputs": [],
   "source": [
    "#import sys\n",
    "# client.run(lambda: sys.path.append('/scratch/liz/Test/'))\n",
    "# tell each workers to search for this"
   ]
  },
  {
   "cell_type": "code",
   "execution_count": null,
   "metadata": {},
   "outputs": [],
   "source": [
    "# ignore warnings\n",
    "# import warnings\n",
    "# warnings.filterwarnings('ignore')"
   ]
  }
 ],
 "metadata": {
  "kernelspec": {
   "display_name": "Python [default]",
   "language": "python",
   "name": "python3"
  },
  "language_info": {
   "codemirror_mode": {
    "name": "ipython",
    "version": 3
   },
   "file_extension": ".py",
   "mimetype": "text/x-python",
   "name": "python",
   "nbconvert_exporter": "python",
   "pygments_lexer": "ipython3",
   "version": "3.6.3"
  }
 },
 "nbformat": 4,
 "nbformat_minor": 2
}
