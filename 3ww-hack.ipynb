{
 "cells": [
  {
   "cell_type": "markdown",
   "metadata": {},
   "source": [
    "# Three word weather hack"
   ]
  },
  {
   "cell_type": "markdown",
   "metadata": {},
   "source": [
    "## Important word categories\n",
    "\n",
    "In this section we will look to answer the question:\n",
    "\n",
    "> What categories of words are more important?\n",
    "\n",
    "To answer this we need to get all the unique words from the dataset and sort them into categories. Then we can plot the dataset in terms of those categories in different ways to try and answer the question."
   ]
  },
  {
   "cell_type": "code",
   "execution_count": 4,
   "metadata": {
    "collapsed": true
   },
   "outputs": [],
   "source": [
    "# Import libraries to be used later\n",
    "import json\n",
    "import datetime\n",
    "import pandas as pd\n",
    "import numpy as np\n",
    "import matplotlib.pyplot as plt\n",
    "import matplotlib.patches as mpatches"
   ]
  },
  {
   "cell_type": "code",
   "execution_count": 5,
   "metadata": {},
   "outputs": [],
   "source": [
    "# Define some constants for later use\n",
    "CORPORATE_COLOURS = ['#50B9A4', '#007AA9', '#E47452', '#A1A0AA', '#B9DC0C', '#FADF63']"
   ]
  },
  {
   "cell_type": "markdown",
   "metadata": {},
   "source": [
    "Let's load the processed three word weather dataset."
   ]
  },
  {
   "cell_type": "code",
   "execution_count": 6,
   "metadata": {},
   "outputs": [
    {
     "data": {
      "text/html": [
       "<div>\n",
       "<table border=\"1\" class=\"dataframe\">\n",
       "  <thead>\n",
       "    <tr style=\"text-align: right;\">\n",
       "      <th></th>\n",
       "      <th>created_at</th>\n",
       "      <th>username</th>\n",
       "      <th>tweet</th>\n",
       "      <th>word1</th>\n",
       "      <th>word2</th>\n",
       "      <th>word3</th>\n",
       "      <th>location</th>\n",
       "      <th>lat</th>\n",
       "      <th>lon</th>\n",
       "    </tr>\n",
       "  </thead>\n",
       "  <tbody>\n",
       "    <tr>\n",
       "      <th>0</th>\n",
       "      <td>2018-02-08 14:09:57</td>\n",
       "      <td>b'laurelturner12'</td>\n",
       "      <td>b'RT @LaurelT35782990: #3wordweather cold drea...</td>\n",
       "      <td>cold</td>\n",
       "      <td>dreary</td>\n",
       "      <td>overcast</td>\n",
       "      <td>eastbourne</td>\n",
       "      <td>50.768035</td>\n",
       "      <td>0.290472</td>\n",
       "    </tr>\n",
       "    <tr>\n",
       "      <th>1</th>\n",
       "      <td>2018-02-08 13:40:07</td>\n",
       "      <td>b'PeterSainsbury'</td>\n",
       "      <td>b'@metoffice #3wordweather cool, dry, overcast...</td>\n",
       "      <td>cool</td>\n",
       "      <td>dry</td>\n",
       "      <td>overcast</td>\n",
       "      <td>shepperton middlesex</td>\n",
       "      <td>51.388695</td>\n",
       "      <td>-0.456544</td>\n",
       "    </tr>\n",
       "    <tr>\n",
       "      <th>2</th>\n",
       "      <td>2018-02-08 12:27:56</td>\n",
       "      <td>b'Streakyblue1951'</td>\n",
       "      <td>b'@metoffice cold grey spitting Portsmouth #3w...</td>\n",
       "      <td>cold</td>\n",
       "      <td>grey</td>\n",
       "      <td>spitting</td>\n",
       "      <td>portsmouth</td>\n",
       "      <td>50.819767</td>\n",
       "      <td>-1.087977</td>\n",
       "    </tr>\n",
       "    <tr>\n",
       "      <th>3</th>\n",
       "      <td>2018-02-08 10:29:24</td>\n",
       "      <td>b'pscollier'</td>\n",
       "      <td>b'@metoffice #3WordWeather Warm, breezy, hazy....</td>\n",
       "      <td>warm</td>\n",
       "      <td>breezy</td>\n",
       "      <td>hazy</td>\n",
       "      <td>yangon myanmar</td>\n",
       "      <td>16.866069</td>\n",
       "      <td>96.195132</td>\n",
       "    </tr>\n",
       "    <tr>\n",
       "      <th>4</th>\n",
       "      <td>2018-02-08 10:09:04</td>\n",
       "      <td>b'unit2plus4'</td>\n",
       "      <td>b'@metoffice Cloudy dry soggy #3wordweather'</td>\n",
       "      <td>cloudy</td>\n",
       "      <td>dry</td>\n",
       "      <td>soggy</td>\n",
       "      <td>NaN</td>\n",
       "      <td>NaN</td>\n",
       "      <td>NaN</td>\n",
       "    </tr>\n",
       "  </tbody>\n",
       "</table>\n",
       "</div>"
      ],
      "text/plain": [
       "            created_at            username  \\\n",
       "0  2018-02-08 14:09:57   b'laurelturner12'   \n",
       "1  2018-02-08 13:40:07   b'PeterSainsbury'   \n",
       "2  2018-02-08 12:27:56  b'Streakyblue1951'   \n",
       "3  2018-02-08 10:29:24        b'pscollier'   \n",
       "4  2018-02-08 10:09:04       b'unit2plus4'   \n",
       "\n",
       "                                               tweet   word1   word2  \\\n",
       "0  b'RT @LaurelT35782990: #3wordweather cold drea...    cold  dreary   \n",
       "1  b'@metoffice #3wordweather cool, dry, overcast...    cool     dry   \n",
       "2  b'@metoffice cold grey spitting Portsmouth #3w...    cold    grey   \n",
       "3  b'@metoffice #3WordWeather Warm, breezy, hazy....    warm  breezy   \n",
       "4       b'@metoffice Cloudy dry soggy #3wordweather'  cloudy     dry   \n",
       "\n",
       "      word3              location        lat        lon  \n",
       "0  overcast            eastbourne  50.768035   0.290472  \n",
       "1  overcast  shepperton middlesex  51.388695  -0.456544  \n",
       "2  spitting            portsmouth  50.819767  -1.087977  \n",
       "3      hazy        yangon myanmar  16.866069  96.195132  \n",
       "4     soggy                   NaN        NaN        NaN  "
      ]
     },
     "execution_count": 6,
     "metadata": {},
     "output_type": "execute_result"
    }
   ],
   "source": [
    "processed_tweets = pd.read_csv('/s3/three-word-weather/hack/3ww-processed.csv',\n",
    "                               header=None,\n",
    "                               names=['created_at', 'username', 'tweet', 'word1', 'word2', 'word3', 'location', 'lat', 'lon'],\n",
    "                               na_values=' ',\n",
    "                               dtype={'lat': np.float, 'lon': np.float})\n",
    "\n",
    "# Display first few rows of the table\n",
    "processed_tweets.head()"
   ]
  },
  {
   "cell_type": "markdown",
   "metadata": {},
   "source": [
    "We also manually produced a categorised set of the 500 must commonly used words. Let's load that too.\n",
    "\n",
    "The categories are:\n",
    " - precipitation\n",
    " - sky_state\n",
    " - wind\n",
    " - temperature\n",
    " - swearing\n",
    " - misc\n",
    "\n",
    "We'll then sort that into a dictionary where each category is a key and a list of words in the category is the value."
   ]
  },
  {
   "cell_type": "code",
   "execution_count": 7,
   "metadata": {},
   "outputs": [
    {
     "data": {
      "text/plain": [
       "{'misc': ['correctness', 'gringey', 'could', 'sparta'],\n",
       " 'precipitation': ['stottin', 'rain-shadow', 'sticking', 'hammering-it-down'],\n",
       " 'sky_state': ['thunder', 'coloured', 'braw', 'fair'],\n",
       " 'swearing': ['fecking', 'fuckety', 'pissin', 'f**king'],\n",
       " 'temperature': ['crispy', 'sharpe', 'fridge-fresh', 't-shirts'],\n",
       " 'wind': ['gale', 'nw', 'thin-wind', 'hooley']}"
      ]
     },
     "execution_count": 7,
     "metadata": {},
     "output_type": "execute_result"
    }
   ],
   "source": [
    "# Load words\n",
    "categorised_words = pd.read_csv('/s3/three-word-weather/hack/categorised_words.csv', header=0, names=['word', 'weight', 'category'], na_values=' ')\n",
    "    \n",
    "# Build dictionary\n",
    "categories = {}\n",
    "for index, item in categorised_words.iterrows():\n",
    "    item['category'] = item['category'].strip().replace(' ', '_').lower()\n",
    "    if item['category'] in categories:\n",
    "        categories[item['category']].append(item[\"word\"])\n",
    "    else:\n",
    "        categories[item['category']] = [item[\"word\"]]\n",
    "\n",
    "# Output a few examples\n",
    "{category: words[:4] for category, words in categories.items()}"
   ]
  },
  {
   "cell_type": "markdown",
   "metadata": {},
   "source": [
    "Now we can create our list of all the words from the three word weather dataset, count the number of ocurrences of each word and categorise them."
   ]
  },
  {
   "cell_type": "code",
   "execution_count": 8,
   "metadata": {},
   "outputs": [
    {
     "data": {
      "text/plain": [
       "{'misc': 0.16467412263787179,\n",
       " 'precipitation': 0.1673736984188203,\n",
       " 'sky_state': 0.25723100655611242,\n",
       " 'swearing': 0.047821056691091449,\n",
       " 'temperature': 0.26841496336289922,\n",
       " 'wind': 0.082144234477439335}"
      ]
     },
     "execution_count": 8,
     "metadata": {},
     "output_type": "execute_result"
    }
   ],
   "source": [
    "all_words = pd.concat([processed_tweets['word1'].str.lower().str.strip(), processed_tweets['word2'].str.lower().str.strip(), processed_tweets['word3'].str.lower().str.strip()])\n",
    "\n",
    "counts = {}\n",
    "for word, percentage in all_words.value_counts(normalize=True).items():\n",
    "    for category, wordlist in categories.items():\n",
    "        category = category.lower().strip().replace(' ', '_')\n",
    "        if word in wordlist:\n",
    "            if category in counts:\n",
    "                counts[category] += percentage\n",
    "            else:\n",
    "                counts[category] = percentage\n",
    "                \n",
    "counts"
   ]
  },
  {
   "cell_type": "markdown",
   "metadata": {},
   "source": [
    "This gives us a dictionary of the categories with the percentage of words in that category on a scale of 0 to 1. Adding these may not add up to 1 as this dataset only covers the 500 most common words.\n",
    "\n",
    "To plot this on a graph let's recale the categories to be a percentage between 0 and 100 and ensure they do add up to 100. Then we'll draw a bar chart of the values."
   ]
  },
  {
   "cell_type": "code",
   "execution_count": 9,
   "metadata": {},
   "outputs": [
    {
     "data": {
      "image/png": "[encoded data removed]",
      "text/plain": [
       "<Figure size 720x360 with 1 Axes>"
      ]
     },
     "metadata": {
      "image/png": {
       "height": 351,
       "width": 710
      }
     },
     "output_type": "display_data"
    }
   ],
   "source": [
    "# I'm using a MacBook pro so let's ensure matplotlib renders for my retina display\n",
    "%config InlineBackend.figure_format = 'retina'\n",
    "\n",
    "# Rescale values and get keys.\n",
    "values = [x / sum(counts.values()) * 100 for x in counts.values()]\n",
    "labels = [label.replace('_', ' ').title() for label in counts.keys()]\n",
    "\n",
    "# Create a figure\n",
    "fig, ax = plt.subplots(figsize=(10, 5))\n",
    "\n",
    "# Set the bar indexes (equally spaced is fine)\n",
    "index = np.arange(len(values))\n",
    "\n",
    "# Set stylistic properties\n",
    "bar_width = 0.35\n",
    "opacity = 0.4\n",
    "\n",
    "# Create the bars from the data\n",
    "bars = ax.bar(index, values, bar_width, alpha=opacity, color='b')\n",
    "\n",
    "# Apply the corporate colours to the bars\n",
    "for i, bar in enumerate(bars):\n",
    "    bar.set_color(CORPORATE_COLOURS[i])\n",
    "\n",
    "# Label up the plot\n",
    "ax.set_xlabel('Category')\n",
    "ax.set_ylabel('Percentage')\n",
    "ax.set_title('Three word weather - category priorities')\n",
    "ax.set_xticklabels([None] + labels)\n",
    "\n",
    "# Draw it!\n",
    "fig.tight_layout()\n",
    "plt.show()"
   ]
  },
  {
   "cell_type": "markdown",
   "metadata": {},
   "source": [
    "This is an interesting plot but it begs more questions than it answers. For example are there more tempterature and sky state words because those were the things driving the impacts at the time? If it had been raining more would we have seen more precipitation words.\n",
    "\n",
    "One better way to display this data could be to visualise each word individually within the three word weather format. Perhaps people put the more important categories first and then less important ones second or third.\n",
    "\n",
    "Let's build a count of the data similar to before but instead keep `word1`, `word2` and `word3` in separate dictionaries."
   ]
  },
  {
   "cell_type": "code",
   "execution_count": 10,
   "metadata": {},
   "outputs": [
    {
     "data": {
      "text/plain": [
       "[{'misc': 0.14806378132118442,\n",
       "  'precipitation': 0.15148063781321178,\n",
       "  'sky_state': 0.30751708428246011,\n",
       "  'swearing': 0.062642369020501132,\n",
       "  'temperature': 0.2801822323462414,\n",
       "  'wind': 0.037585421412300674},\n",
       " {'misc': 0.22873563218390744,\n",
       "  'precipitation': 0.15402298850574697,\n",
       "  'sky_state': 0.24137931034482746,\n",
       "  'swearing': 0.066666666666666652,\n",
       "  'temperature': 0.21379310344827565,\n",
       "  'wind': 0.086206896551724116},\n",
       " {'misc': 0.1159763313609469,\n",
       "  'precipitation': 0.19763313609467431,\n",
       "  'sky_state': 0.2213017751479287,\n",
       "  'swearing': 0.01301775147928994,\n",
       "  'temperature': 0.31242603550295894,\n",
       "  'wind': 0.12426035502958585}]"
      ]
     },
     "execution_count": 10,
     "metadata": {},
     "output_type": "execute_result"
    }
   ],
   "source": [
    "all_counts = []\n",
    "\n",
    "for wordset in processed_tweets['word1'].str.lower().str.strip(), processed_tweets['word2'].str.lower().str.strip(), processed_tweets['word3'].str.lower().str.strip():             \n",
    "    counts = {}\n",
    "    for word, percentage in wordset.value_counts(normalize=True).items():\n",
    "        for category, wordlist in categories.items():\n",
    "            category = category.lower().strip().replace(' ', '_')\n",
    "            if word in wordlist:\n",
    "                if category in counts:\n",
    "                    counts[category] += percentage\n",
    "                else:\n",
    "                    counts[category] = percentage\n",
    "    all_counts.append(counts)\n",
    "                \n",
    "all_counts"
   ]
  },
  {
   "cell_type": "markdown",
   "metadata": {},
   "source": [
    "Now we can plot the category distributions for each word separately and see if there is any kind of order."
   ]
  },
  {
   "cell_type": "code",
   "execution_count": 11,
   "metadata": {},
   "outputs": [
    {
     "data": {
      "image/png": "[encoded data removed]",
      "text/plain": [
       "<Figure size 720x360 with 1 Axes>"
      ]
     },
     "metadata": {
      "image/png": {
       "height": 351,
       "width": 710
      }
     },
     "output_type": "display_data"
    }
   ],
   "source": [
    "# Create a list of all the values\n",
    "grouped_values = []\n",
    "for group in all_counts:\n",
    "    grouped_values.append([x / sum(counts.values()) * 100 for x in group.values()])\n",
    "\n",
    "# Create a new figure\n",
    "fig, ax = plt.subplots(figsize=(10, 5))\n",
    "\n",
    "# Generate the index but this time space out the three groups\n",
    "group_spacing = 10\n",
    "index = []\n",
    "for i, _ in enumerate(range(len(all_counts))):\n",
    "    index += [x + (group_spacing * i) for x in range(len(values))]\n",
    "\n",
    "# Set stylistic properties\n",
    "bar_width = 0.5\n",
    "opacity = 0.4\n",
    "\n",
    "# Create the bars from the data\n",
    "bars = ax.bar(index, grouped_values[0] + grouped_values[1] + grouped_values[2], bar_width, alpha=opacity, color='b')\n",
    "\n",
    "# Set the corporate colours (but cycle through a few times)\n",
    "for i, bar in enumerate(bars):\n",
    "    bar.set_color(CORPORATE_COLOURS[i % len(CORPORATE_COLOURS)])\n",
    "\n",
    "# Label the plot\n",
    "ax.set_ylabel('Percentage')\n",
    "ax.set_title('Three word weather - category priority by word order')\n",
    "\n",
    "# Add a legend this time as we will use the x axis to show the word groups\n",
    "ax.legend(title='Categories', handles=[mpatches.Patch(color=CORPORATE_COLOURS[i % len(CORPORATE_COLOURS)], alpha=opacity, label=label) for i, label in enumerate(labels)])\n",
    "\n",
    "# Add labels to the word groups\n",
    "ax.set_xticks([2.5, 12.5, 22.5])\n",
    "ax.set_xticklabels(['First word', 'Second word', 'Third word'])\n",
    "\n",
    "# Draw the plot\n",
    "fig.tight_layout()\n",
    "plt.show()"
   ]
  },
  {
   "cell_type": "markdown",
   "metadata": {},
   "source": [
    "This plot shows that temperature and sky state are the first thing on people's mind, followed by wind and precipitation. It also shows people are more likely to swear in the middle.\n",
    "\n",
    "However these results could show that the temperature and sky state were the most prominent weather feature at the time this data was collected and therefore first on peoples minds rather than because these things are more important to people."
   ]
  },
  {
   "cell_type": "markdown",
   "metadata": {},
   "source": [
    "## Word probabilities"
   ]
  },
  {
   "cell_type": "markdown",
   "metadata": {},
   "source": [
    "In this section we will look to answer the question:\n",
    "\n",
    "> What temperature ranges do people associate with different words?"
   ]
  },
  {
   "cell_type": "code",
   "execution_count": 12,
   "metadata": {},
   "outputs": [],
   "source": [
    "categorised_words = pd.read_csv('/s3/three-word-weather/hack/categorised_words.csv', header=0, names=['word', 'weight', 'category'], na_values=' ')\n",
    "top_words = list(categorised_words.loc[categorised_words['category'] == 'temperature'].sort_values(by=['weight'], ascending=False)[:10]['word'])"
   ]
  },
  {
   "cell_type": "code",
   "execution_count": 13,
   "metadata": {},
   "outputs": [
    {
     "data": {
      "text/html": [
       "<div>\n",
       "<table border=\"1\" class=\"dataframe\">\n",
       "  <thead>\n",
       "    <tr style=\"text-align: right;\">\n",
       "      <th></th>\n",
       "      <th>Unnamed: 0</th>\n",
       "      <th>created_at</th>\n",
       "      <th>username</th>\n",
       "      <th>tweet</th>\n",
       "      <th>word1</th>\n",
       "      <th>word2</th>\n",
       "      <th>word3</th>\n",
       "      <th>location</th>\n",
       "      <th>lat</th>\n",
       "      <th>lon</th>\n",
       "      <th>datetime</th>\n",
       "      <th>obs</th>\n",
       "    </tr>\n",
       "  </thead>\n",
       "  <tbody>\n",
       "    <tr>\n",
       "      <th>0</th>\n",
       "      <td>0</td>\n",
       "      <td>2018-02-08 14:09:57</td>\n",
       "      <td>elturner</td>\n",
       "      <td>LaurelT35782990: #3wordweather cold dreary ove...</td>\n",
       "      <td>cold</td>\n",
       "      <td>dreary</td>\n",
       "      <td>overcast</td>\n",
       "      <td>eastbourne</td>\n",
       "      <td>50.768035</td>\n",
       "      <td>0.290472</td>\n",
       "      <td>2018-02-08 14:09:57</td>\n",
       "      <td>b'{\"latitude\":50.768035,\"longitude\":0.29047199...</td>\n",
       "    </tr>\n",
       "    <tr>\n",
       "      <th>1</th>\n",
       "      <td>1</td>\n",
       "      <td>2018-02-08 13:40:07</td>\n",
       "      <td>rSainsbu</td>\n",
       "      <td>office #3wordweather cool, dry, overcast; Shep...</td>\n",
       "      <td>cool</td>\n",
       "      <td>dry</td>\n",
       "      <td>overcast</td>\n",
       "      <td>shepperton middlesex</td>\n",
       "      <td>51.388695</td>\n",
       "      <td>-0.456544</td>\n",
       "      <td>2018-02-08 13:40:07</td>\n",
       "      <td>b'{\"latitude\":51.388695,\"longitude\":-0.4565439...</td>\n",
       "    </tr>\n",
       "    <tr>\n",
       "      <th>2</th>\n",
       "      <td>2</td>\n",
       "      <td>2018-02-08 12:27:56</td>\n",
       "      <td>akyblue19</td>\n",
       "      <td>office cold grey spitting Portsmouth #3wordweath</td>\n",
       "      <td>cold</td>\n",
       "      <td>grey</td>\n",
       "      <td>spitting</td>\n",
       "      <td>portsmouth</td>\n",
       "      <td>50.819767</td>\n",
       "      <td>-1.087977</td>\n",
       "      <td>2018-02-08 12:27:56</td>\n",
       "      <td>b'{\"latitude\":50.819767,\"longitude\":-1.087977,...</td>\n",
       "    </tr>\n",
       "    <tr>\n",
       "      <th>3</th>\n",
       "      <td>3</td>\n",
       "      <td>2018-02-08 10:29:24</td>\n",
       "      <td>lli</td>\n",
       "      <td>office #3WordWeather Warm, breezy, hazy. Yango...</td>\n",
       "      <td>warm</td>\n",
       "      <td>breezy</td>\n",
       "      <td>hazy</td>\n",
       "      <td>yangon myanmar</td>\n",
       "      <td>16.866069</td>\n",
       "      <td>96.195132</td>\n",
       "      <td>2018-02-08 10:29:24</td>\n",
       "      <td>b'{\"latitude\":16.866069,\"longitude\":96.195132,...</td>\n",
       "    </tr>\n",
       "    <tr>\n",
       "      <th>4</th>\n",
       "      <td>5</td>\n",
       "      <td>2018-02-07 22:59:01</td>\n",
       "      <td>eMaye</td>\n",
       "      <td>Michelle_Mc84: @metoffice Cold, icey, sunny on...</td>\n",
       "      <td>cold</td>\n",
       "      <td>icey</td>\n",
       "      <td>sunny</td>\n",
       "      <td>dartmoor</td>\n",
       "      <td>50.571886</td>\n",
       "      <td>-3.920688</td>\n",
       "      <td>2018-02-07 22:59:01</td>\n",
       "      <td>b'{\"latitude\":50.571886,\"longitude\":-3.9206879...</td>\n",
       "    </tr>\n",
       "  </tbody>\n",
       "</table>\n",
       "</div>"
      ],
      "text/plain": [
       "   Unnamed: 0           created_at   username  \\\n",
       "0           0  2018-02-08 14:09:57   elturner   \n",
       "1           1  2018-02-08 13:40:07   rSainsbu   \n",
       "2           2  2018-02-08 12:27:56  akyblue19   \n",
       "3           3  2018-02-08 10:29:24        lli   \n",
       "4           5  2018-02-07 22:59:01      eMaye   \n",
       "\n",
       "                                               tweet word1   word2     word3  \\\n",
       "0  LaurelT35782990: #3wordweather cold dreary ove...  cold  dreary  overcast   \n",
       "1  office #3wordweather cool, dry, overcast; Shep...  cool     dry  overcast   \n",
       "2   office cold grey spitting Portsmouth #3wordweath  cold    grey  spitting   \n",
       "3  office #3WordWeather Warm, breezy, hazy. Yango...  warm  breezy      hazy   \n",
       "4  Michelle_Mc84: @metoffice Cold, icey, sunny on...  cold    icey     sunny   \n",
       "\n",
       "               location        lat        lon             datetime  \\\n",
       "0            eastbourne  50.768035   0.290472  2018-02-08 14:09:57   \n",
       "1  shepperton middlesex  51.388695  -0.456544  2018-02-08 13:40:07   \n",
       "2            portsmouth  50.819767  -1.087977  2018-02-08 12:27:56   \n",
       "3        yangon myanmar  16.866069  96.195132  2018-02-08 10:29:24   \n",
       "4              dartmoor  50.571886  -3.920688  2018-02-07 22:59:01   \n",
       "\n",
       "                                                 obs  \n",
       "0  b'{\"latitude\":50.768035,\"longitude\":0.29047199...  \n",
       "1  b'{\"latitude\":51.388695,\"longitude\":-0.4565439...  \n",
       "2  b'{\"latitude\":50.819767,\"longitude\":-1.087977,...  \n",
       "3  b'{\"latitude\":16.866069,\"longitude\":96.195132,...  \n",
       "4  b'{\"latitude\":50.571886,\"longitude\":-3.9206879...  "
      ]
     },
     "execution_count": 13,
     "metadata": {},
     "output_type": "execute_result"
    }
   ],
   "source": [
    "processed_tweets_with_obs = pd.read_csv('/s3/three-word-weather/hack/3ww-processed-with-obs.csv')\n",
    "processed_tweets_with_obs.head()"
   ]
  },
  {
   "cell_type": "code",
   "execution_count": 14,
   "metadata": {},
   "outputs": [],
   "source": [
    "processed_tweets_with_obs = processed_tweets_with_obs[processed_tweets_with_obs['obs'] != 'FAILED']"
   ]
  },
  {
   "cell_type": "code",
   "execution_count": 15,
   "metadata": {},
   "outputs": [],
   "source": [
    "processed_tweets_with_obs = processed_tweets_with_obs[processed_tweets_with_obs['obs'] != 'FAILED']\n",
    "processed_tweets_with_obs = processed_tweets_with_obs.drop(processed_tweets_with_obs.index[[201]])"
   ]
  },
  {
   "cell_type": "code",
   "execution_count": 16,
   "metadata": {},
   "outputs": [],
   "source": [
    "processed_tweets_with_obs['t_ob'] = processed_tweets_with_obs['obs'].apply(lambda x: json.loads(x[2:-1])['currently']['temperature'])\n",
    "processed_tweets_with_obs['flt_ob'] = processed_tweets_with_obs['obs'].apply(lambda x: json.loads(x[2:-1])['currently']['apparentTemperature'])"
   ]
  },
  {
   "cell_type": "code",
   "execution_count": 17,
   "metadata": {},
   "outputs": [],
   "source": [
    "processed_tweets_with_obs['flt_ob'] = processed_tweets_with_obs['flt_ob'].apply(lambda x: (x - 32) * (5/9))"
   ]
  },
  {
   "cell_type": "code",
   "execution_count": 18,
   "metadata": {},
   "outputs": [],
   "source": [
    "def weather_word_search(df, keyword):\n",
    "    return df[(df['word1'] == keyword) | (df['word2'] == keyword) | (df['word3'] == keyword)]"
   ]
  },
  {
   "cell_type": "code",
   "execution_count": 19,
   "metadata": {},
   "outputs": [
    {
     "data": {
      "text/plain": [
       "<matplotlib.legend.Legend at 0x7f7310274780>"
      ]
     },
     "execution_count": 19,
     "metadata": {},
     "output_type": "execute_result"
    },
    {
     "data": {
      "image/png": "[encoded data removed]",
      "text/plain": [
       "<Figure size 864x504 with 1 Axes>"
      ]
     },
     "metadata": {
      "image/png": {
       "height": 426,
       "width": 719
      }
     },
     "output_type": "display_data"
    }
   ],
   "source": [
    "plt.figure(figsize=(12,7))\n",
    "\n",
    "plt.xlabel('feels like temperature (C)')\n",
    "plt.ylabel('frequency')\n",
    "\n",
    "plt.hist(weather_word_search(processed_tweets_with_obs, 'cold')['flt_ob'], label='cold');\n",
    "plt.hist(weather_word_search(processed_tweets_with_obs, 'breezy')['flt_ob'], label='breezy');\n",
    "plt.hist(weather_word_search(processed_tweets_with_obs, 'chilly')['flt_ob'], label='chilly');\n",
    "plt.hist(weather_word_search(processed_tweets_with_obs, 'freezing')['flt_ob'], label='freezing');\n",
    "plt.hist(weather_word_search(processed_tweets_with_obs, 'baltic')['flt_ob'], label='baltic');\n",
    "plt.hist(weather_word_search(processed_tweets_with_obs, 'snow')['flt_ob'], label='snow');\n",
    "plt.hist(weather_word_search(processed_tweets_with_obs, 'cool')['flt_ob'], label='cool');\n",
    "plt.hist(weather_word_search(processed_tweets_with_obs, 'crisp')['flt_ob'], label='crisp');\n",
    "\n",
    "# plt.figure(figsize=(60,100))\n",
    "plt.legend()"
   ]
  },
  {
   "cell_type": "code",
   "execution_count": 20,
   "metadata": {},
   "outputs": [
    {
     "data": {
      "text/html": [
       "\n",
       "    <div class=\"bk-root\">\n",
       "        <a href=\"https://bokeh.pydata.org\" target=\"_blank\" class=\"bk-logo bk-logo-small bk-logo-notebook\"></a>\n",
       "        <span id=\"36eda7e5-c018-43d9-ac68-1455e8ba7ae8\">Loading BokehJS ...</span>\n",
       "    </div>"
      ]
     },
     "metadata": {},
     "output_type": "display_data"
    },
    {
     "data": {
      "application/javascript": [
       "\n",
       "(function(root) {\n",
       "  function now() {\n",
       "    return new Date();\n",
       "  }\n",
       "\n",
       "  var force = true;\n",
       "\n",
       "  if (typeof (root._bokeh_onload_callbacks) === \"undefined\" || force === true) {\n",
       "    root._bokeh_onload_callbacks = [];\n",
       "    root._bokeh_is_loading = undefined;\n",
       "  }\n",
       "\n",
       "  var JS_MIME_TYPE = 'application/javascript';\n",
       "  var HTML_MIME_TYPE = 'text/html';\n",
       "  var EXEC_MIME_TYPE = 'application/vnd.bokehjs_exec.v0+json';\n",
       "  var CLASS_NAME = 'output_bokeh rendered_html';\n",
       "\n",
       "  /**\n",
       "   * Render data to the DOM node\n",
       "   */\n",
       "  function render(props, node) {\n",
       "    var script = document.createElement(\"script\");\n",
       "    node.appendChild(script);\n",
       "  }\n",
       "\n",
       "  /**\n",
       "   * Handle when an output is cleared or removed\n",
       "   */\n",
       "  function handleClearOutput(event, handle) {\n",
       "    var cell = handle.cell;\n",
       "\n",
       "    var id = cell.output_area._bokeh_element_id;\n",
       "    var server_id = cell.output_area._bokeh_server_id;\n",
       "    // Clean up Bokeh references\n",
       "    if (id !== undefined) {\n",
       "      Bokeh.index[id].model.document.clear();\n",
       "      delete Bokeh.index[id];\n",
       "    }\n",
       "\n",
       "    if (server_id !== undefined) {\n",
       "      // Clean up Bokeh references\n",
       "      var cmd = \"from bokeh.io.state import curstate; print(curstate().uuid_to_server['\" + server_id + \"'].get_sessions()[0].document.roots[0]._id)\";\n",
       "      cell.notebook.kernel.execute(cmd, {\n",
       "        iopub: {\n",
       "          output: function(msg) {\n",
       "            var element_id = msg.content.text.trim();\n",
       "            Bokeh.index[element_id].model.document.clear();\n",
       "            delete Bokeh.index[element_id];\n",
       "          }\n",
       "        }\n",
       "      });\n",
       "      // Destroy server and session\n",
       "      var cmd = \"import bokeh.io.notebook as ion; ion.destroy_server('\" + server_id + \"')\";\n",
       "      cell.notebook.kernel.execute(cmd);\n",
       "    }\n",
       "  }\n",
       "\n",
       "  /**\n",
       "   * Handle when a new output is added\n",
       "   */\n",
       "  function handleAddOutput(event, handle) {\n",
       "    var output_area = handle.output_area;\n",
       "    var output = handle.output;\n",
       "\n",
       "    // limit handleAddOutput to display_data with EXEC_MIME_TYPE content only\n",
       "    if ((output.output_type != \"display_data\") || (!output.data.hasOwnProperty(EXEC_MIME_TYPE))) {\n",
       "      return\n",
       "    }\n",
       "\n",
       "    var toinsert = output_area.element.find(\".\" + CLASS_NAME.split(' ')[0]);\n",
       "\n",
       "    if (output.metadata[EXEC_MIME_TYPE][\"id\"] !== undefined) {\n",
       "      toinsert[0].firstChild.textContent = output.data[JS_MIME_TYPE];\n",
       "      // store reference to embed id on output_area\n",
       "      output_area._bokeh_element_id = output.metadata[EXEC_MIME_TYPE][\"id\"];\n",
       "    }\n",
       "    if (output.metadata[EXEC_MIME_TYPE][\"server_id\"] !== undefined) {\n",
       "      var bk_div = document.createElement(\"div\");\n",
       "      bk_div.innerHTML = output.data[HTML_MIME_TYPE];\n",
       "      var script_attrs = bk_div.children[0].attributes;\n",
       "      for (var i = 0; i < script_attrs.length; i++) {\n",
       "        toinsert[0].firstChild.setAttribute(script_attrs[i].name, script_attrs[i].value);\n",
       "      }\n",
       "      // store reference to server id on output_area\n",
       "      output_area._bokeh_server_id = output.metadata[EXEC_MIME_TYPE][\"server_id\"];\n",
       "    }\n",
       "  }\n",
       "\n",
       "  function register_renderer(events, OutputArea) {\n",
       "\n",
       "    function append_mime(data, metadata, element) {\n",
       "      // create a DOM node to render to\n",
       "      var toinsert = this.create_output_subarea(\n",
       "        metadata,\n",
       "        CLASS_NAME,\n",
       "        EXEC_MIME_TYPE\n",
       "      );\n",
       "      this.keyboard_manager.register_events(toinsert);\n",
       "      // Render to node\n",
       "      var props = {data: data, metadata: metadata[EXEC_MIME_TYPE]};\n",
       "      render(props, toinsert[0]);\n",
       "      element.append(toinsert);\n",
       "      return toinsert\n",
       "    }\n",
       "\n",
       "    /* Handle when an output is cleared or removed */\n",
       "    events.on('clear_output.CodeCell', handleClearOutput);\n",
       "    events.on('delete.Cell', handleClearOutput);\n",
       "\n",
       "    /* Handle when a new output is added */\n",
       "    events.on('output_added.OutputArea', handleAddOutput);\n",
       "\n",
       "    /**\n",
       "     * Register the mime type and append_mime function with output_area\n",
       "     */\n",
       "    OutputArea.prototype.register_mime_type(EXEC_MIME_TYPE, append_mime, {\n",
       "      /* Is output safe? */\n",
       "      safe: true,\n",
       "      /* Index of renderer in `output_area.display_order` */\n",
       "      index: 0\n",
       "    });\n",
       "  }\n",
       "\n",
       "  // register the mime type if in Jupyter Notebook environment and previously unregistered\n",
       "  if (root.Jupyter !== undefined) {\n",
       "    var events = require('base/js/events');\n",
       "    var OutputArea = require('notebook/js/outputarea').OutputArea;\n",
       "\n",
       "    if (OutputArea.prototype.mime_types().indexOf(EXEC_MIME_TYPE) == -1) {\n",
       "      register_renderer(events, OutputArea);\n",
       "    }\n",
       "  }\n",
       "\n",
       "  \n",
       "  if (typeof (root._bokeh_timeout) === \"undefined\" || force === true) {\n",
       "    root._bokeh_timeout = Date.now() + 5000;\n",
       "    root._bokeh_failed_load = false;\n",
       "  }\n",
       "\n",
       "  var NB_LOAD_WARNING = {'data': {'text/html':\n",
       "     \"<div style='background-color: #fdd'>\\n\"+\n",
       "     \"<p>\\n\"+\n",
       "     \"BokehJS does not appear to have successfully loaded. If loading BokehJS from CDN, this \\n\"+\n",
       "     \"may be due to a slow or bad network connection. Possible fixes:\\n\"+\n",
       "     \"</p>\\n\"+\n",
       "     \"<ul>\\n\"+\n",
       "     \"<li>re-rerun `output_notebook()` to attempt to load from CDN again, or</li>\\n\"+\n",
       "     \"<li>use INLINE resources instead, as so:</li>\\n\"+\n",
       "     \"</ul>\\n\"+\n",
       "     \"<code>\\n\"+\n",
       "     \"from bokeh.resources import INLINE\\n\"+\n",
       "     \"output_notebook(resources=INLINE)\\n\"+\n",
       "     \"</code>\\n\"+\n",
       "     \"</div>\"}};\n",
       "\n",
       "  function display_loaded() {\n",
       "    var el = document.getElementById(\"36eda7e5-c018-43d9-ac68-1455e8ba7ae8\");\n",
       "    if (el != null) {\n",
       "      el.textContent = \"BokehJS is loading...\";\n",
       "    }\n",
       "    if (root.Bokeh !== undefined) {\n",
       "      if (el != null) {\n",
       "        el.textContent = \"BokehJS \" + root.Bokeh.version + \" successfully loaded.\";\n",
       "      }\n",
       "    } else if (Date.now() < root._bokeh_timeout) {\n",
       "      setTimeout(display_loaded, 100)\n",
       "    }\n",
       "  }\n",
       "\n",
       "\n",
       "  function run_callbacks() {\n",
       "    try {\n",
       "      root._bokeh_onload_callbacks.forEach(function(callback) { callback() });\n",
       "    }\n",
       "    finally {\n",
       "      delete root._bokeh_onload_callbacks\n",
       "    }\n",
       "    console.info(\"Bokeh: all callbacks have finished\");\n",
       "  }\n",
       "\n",
       "  function load_libs(js_urls, callback) {\n",
       "    root._bokeh_onload_callbacks.push(callback);\n",
       "    if (root._bokeh_is_loading > 0) {\n",
       "      console.log(\"Bokeh: BokehJS is being loaded, scheduling callback at\", now());\n",
       "      return null;\n",
       "    }\n",
       "    if (js_urls == null || js_urls.length === 0) {\n",
       "      run_callbacks();\n",
       "      return null;\n",
       "    }\n",
       "    console.log(\"Bokeh: BokehJS not loaded, scheduling load and callback at\", now());\n",
       "    root._bokeh_is_loading = js_urls.length;\n",
       "    for (var i = 0; i < js_urls.length; i++) {\n",
       "      var url = js_urls[i];\n",
       "      var s = document.createElement('script');\n",
       "      s.src = url;\n",
       "      s.async = false;\n",
       "      s.onreadystatechange = s.onload = function() {\n",
       "        root._bokeh_is_loading--;\n",
       "        if (root._bokeh_is_loading === 0) {\n",
       "          console.log(\"Bokeh: all BokehJS libraries loaded\");\n",
       "          run_callbacks()\n",
       "        }\n",
       "      };\n",
       "      s.onerror = function() {\n",
       "        console.warn(\"failed to load library \" + url);\n",
       "      };\n",
       "      console.log(\"Bokeh: injecting script tag for BokehJS library: \", url);\n",
       "      document.getElementsByTagName(\"head\")[0].appendChild(s);\n",
       "    }\n",
       "  };var element = document.getElementById(\"36eda7e5-c018-43d9-ac68-1455e8ba7ae8\");\n",
       "  if (element == null) {\n",
       "    console.log(\"Bokeh: ERROR: autoload.js configured with elementid '36eda7e5-c018-43d9-ac68-1455e8ba7ae8' but no matching script tag was found. \")\n",
       "    return false;\n",
       "  }\n",
       "\n",
       "  var js_urls = [\"https://cdn.pydata.org/bokeh/release/bokeh-0.12.13.min.js\", \"https://cdn.pydata.org/bokeh/release/bokeh-widgets-0.12.13.min.js\", \"https://cdn.pydata.org/bokeh/release/bokeh-tables-0.12.13.min.js\", \"https://cdn.pydata.org/bokeh/release/bokeh-gl-0.12.13.min.js\"];\n",
       "\n",
       "  var inline_js = [\n",
       "    function(Bokeh) {\n",
       "      Bokeh.set_log_level(\"info\");\n",
       "    },\n",
       "    \n",
       "    function(Bokeh) {\n",
       "      \n",
       "    },\n",
       "    function(Bokeh) {\n",
       "      console.log(\"Bokeh: injecting CSS: https://cdn.pydata.org/bokeh/release/bokeh-0.12.13.min.css\");\n",
       "      Bokeh.embed.inject_css(\"https://cdn.pydata.org/bokeh/release/bokeh-0.12.13.min.css\");\n",
       "      console.log(\"Bokeh: injecting CSS: https://cdn.pydata.org/bokeh/release/bokeh-widgets-0.12.13.min.css\");\n",
       "      Bokeh.embed.inject_css(\"https://cdn.pydata.org/bokeh/release/bokeh-widgets-0.12.13.min.css\");\n",
       "      console.log(\"Bokeh: injecting CSS: https://cdn.pydata.org/bokeh/release/bokeh-tables-0.12.13.min.css\");\n",
       "      Bokeh.embed.inject_css(\"https://cdn.pydata.org/bokeh/release/bokeh-tables-0.12.13.min.css\");\n",
       "    }\n",
       "  ];\n",
       "\n",
       "  function run_inline_js() {\n",
       "    \n",
       "    if ((root.Bokeh !== undefined) || (force === true)) {\n",
       "      for (var i = 0; i < inline_js.length; i++) {\n",
       "        inline_js[i].call(root, root.Bokeh);\n",
       "      }if (force === true) {\n",
       "        display_loaded();\n",
       "      }} else if (Date.now() < root._bokeh_timeout) {\n",
       "      setTimeout(run_inline_js, 100);\n",
       "    } else if (!root._bokeh_failed_load) {\n",
       "      console.log(\"Bokeh: BokehJS failed to load within specified timeout.\");\n",
       "      root._bokeh_failed_load = true;\n",
       "    } else if (force !== true) {\n",
       "      var cell = $(document.getElementById(\"36eda7e5-c018-43d9-ac68-1455e8ba7ae8\")).parents('.cell').data().cell;\n",
       "      cell.output_area.append_execute_result(NB_LOAD_WARNING)\n",
       "    }\n",
       "\n",
       "  }\n",
       "\n",
       "  if (root._bokeh_is_loading === 0) {\n",
       "    console.log(\"Bokeh: BokehJS loaded, going straight to plotting\");\n",
       "    run_inline_js();\n",
       "  } else {\n",
       "    load_libs(js_urls, function() {\n",
       "      console.log(\"Bokeh: BokehJS plotting callback run at\", now());\n",
       "      run_inline_js();\n",
       "    });\n",
       "  }\n",
       "}(window));"
      ],
      "application/vnd.bokehjs_load.v0+json": "\n(function(root) {\n  function now() {\n    return new Date();\n  }\n\n  var force = true;\n\n  if (typeof (root._bokeh_onload_callbacks) === \"undefined\" || force === true) {\n    root._bokeh_onload_callbacks = [];\n    root._bokeh_is_loading = undefined;\n  }\n\n  \n\n  \n  if (typeof (root._bokeh_timeout) === \"undefined\" || force === true) {\n    root._bokeh_timeout = Date.now() + 5000;\n    root._bokeh_failed_load = false;\n  }\n\n  var NB_LOAD_WARNING = {'data': {'text/html':\n     \"<div style='background-color: #fdd'>\\n\"+\n     \"<p>\\n\"+\n     \"BokehJS does not appear to have successfully loaded. If loading BokehJS from CDN, this \\n\"+\n     \"may be due to a slow or bad network connection. Possible fixes:\\n\"+\n     \"</p>\\n\"+\n     \"<ul>\\n\"+\n     \"<li>re-rerun `output_notebook()` to attempt to load from CDN again, or</li>\\n\"+\n     \"<li>use INLINE resources instead, as so:</li>\\n\"+\n     \"</ul>\\n\"+\n     \"<code>\\n\"+\n     \"from bokeh.resources import INLINE\\n\"+\n     \"output_notebook(resources=INLINE)\\n\"+\n     \"</code>\\n\"+\n     \"</div>\"}};\n\n  function display_loaded() {\n    var el = document.getElementById(\"36eda7e5-c018-43d9-ac68-1455e8ba7ae8\");\n    if (el != null) {\n      el.textContent = \"BokehJS is loading...\";\n    }\n    if (root.Bokeh !== undefined) {\n      if (el != null) {\n        el.textContent = \"BokehJS \" + root.Bokeh.version + \" successfully loaded.\";\n      }\n    } else if (Date.now() < root._bokeh_timeout) {\n      setTimeout(display_loaded, 100)\n    }\n  }\n\n\n  function run_callbacks() {\n    try {\n      root._bokeh_onload_callbacks.forEach(function(callback) { callback() });\n    }\n    finally {\n      delete root._bokeh_onload_callbacks\n    }\n    console.info(\"Bokeh: all callbacks have finished\");\n  }\n\n  function load_libs(js_urls, callback) {\n    root._bokeh_onload_callbacks.push(callback);\n    if (root._bokeh_is_loading > 0) {\n      console.log(\"Bokeh: BokehJS is being loaded, scheduling callback at\", now());\n      return null;\n    }\n    if (js_urls == null || js_urls.length === 0) {\n      run_callbacks();\n      return null;\n    }\n    console.log(\"Bokeh: BokehJS not loaded, scheduling load and callback at\", now());\n    root._bokeh_is_loading = js_urls.length;\n    for (var i = 0; i < js_urls.length; i++) {\n      var url = js_urls[i];\n      var s = document.createElement('script');\n      s.src = url;\n      s.async = false;\n      s.onreadystatechange = s.onload = function() {\n        root._bokeh_is_loading--;\n        if (root._bokeh_is_loading === 0) {\n          console.log(\"Bokeh: all BokehJS libraries loaded\");\n          run_callbacks()\n        }\n      };\n      s.onerror = function() {\n        console.warn(\"failed to load library \" + url);\n      };\n      console.log(\"Bokeh: injecting script tag for BokehJS library: \", url);\n      document.getElementsByTagName(\"head\")[0].appendChild(s);\n    }\n  };var element = document.getElementById(\"36eda7e5-c018-43d9-ac68-1455e8ba7ae8\");\n  if (element == null) {\n    console.log(\"Bokeh: ERROR: autoload.js configured with elementid '36eda7e5-c018-43d9-ac68-1455e8ba7ae8' but no matching script tag was found. \")\n    return false;\n  }\n\n  var js_urls = [\"https://cdn.pydata.org/bokeh/release/bokeh-0.12.13.min.js\", \"https://cdn.pydata.org/bokeh/release/bokeh-widgets-0.12.13.min.js\", \"https://cdn.pydata.org/bokeh/release/bokeh-tables-0.12.13.min.js\", \"https://cdn.pydata.org/bokeh/release/bokeh-gl-0.12.13.min.js\"];\n\n  var inline_js = [\n    function(Bokeh) {\n      Bokeh.set_log_level(\"info\");\n    },\n    \n    function(Bokeh) {\n      \n    },\n    function(Bokeh) {\n      console.log(\"Bokeh: injecting CSS: https://cdn.pydata.org/bokeh/release/bokeh-0.12.13.min.css\");\n      Bokeh.embed.inject_css(\"https://cdn.pydata.org/bokeh/release/bokeh-0.12.13.min.css\");\n      console.log(\"Bokeh: injecting CSS: https://cdn.pydata.org/bokeh/release/bokeh-widgets-0.12.13.min.css\");\n      Bokeh.embed.inject_css(\"https://cdn.pydata.org/bokeh/release/bokeh-widgets-0.12.13.min.css\");\n      console.log(\"Bokeh: injecting CSS: https://cdn.pydata.org/bokeh/release/bokeh-tables-0.12.13.min.css\");\n      Bokeh.embed.inject_css(\"https://cdn.pydata.org/bokeh/release/bokeh-tables-0.12.13.min.css\");\n    }\n  ];\n\n  function run_inline_js() {\n    \n    if ((root.Bokeh !== undefined) || (force === true)) {\n      for (var i = 0; i < inline_js.length; i++) {\n        inline_js[i].call(root, root.Bokeh);\n      }if (force === true) {\n        display_loaded();\n      }} else if (Date.now() < root._bokeh_timeout) {\n      setTimeout(run_inline_js, 100);\n    } else if (!root._bokeh_failed_load) {\n      console.log(\"Bokeh: BokehJS failed to load within specified timeout.\");\n      root._bokeh_failed_load = true;\n    } else if (force !== true) {\n      var cell = $(document.getElementById(\"36eda7e5-c018-43d9-ac68-1455e8ba7ae8\")).parents('.cell').data().cell;\n      cell.output_area.append_execute_result(NB_LOAD_WARNING)\n    }\n\n  }\n\n  if (root._bokeh_is_loading === 0) {\n    console.log(\"Bokeh: BokehJS loaded, going straight to plotting\");\n    run_inline_js();\n  } else {\n    load_libs(js_urls, function() {\n      console.log(\"Bokeh: BokehJS plotting callback run at\", now());\n      run_inline_js();\n    });\n  }\n}(window));"
     },
     "metadata": {},
     "output_type": "display_data"
    }
   ],
   "source": [
    "from bokeh.io import show, output_notebook\n",
    "from bokeh.models import ColumnDataSource\n",
    "from bokeh.plotting import figure\n",
    "from bokeh.transform import jitter\n",
    "\n",
    "output_notebook()"
   ]
  },
  {
   "cell_type": "code",
   "execution_count": 21,
   "metadata": {},
   "outputs": [],
   "source": [
    "from scipy.stats import ttest_rel, ttest_ind_from_stats"
   ]
  },
  {
   "cell_type": "code",
   "execution_count": 22,
   "metadata": {},
   "outputs": [],
   "source": [
    "cold = weather_word_search(processed_tweets_with_obs, 'cold')[\"flt_ob\"]\n",
    "freezing = weather_word_search(processed_tweets_with_obs, 'freezing')[\"flt_ob\"]\n",
    "chilly = weather_word_search(processed_tweets_with_obs, 'chilly')[\"flt_ob\"]\n",
    "cool = weather_word_search(processed_tweets_with_obs, 'cool')[\"flt_ob\"]\n",
    "crisp = weather_word_search(processed_tweets_with_obs, 'crisp')[\"flt_ob\"]\n",
    "brass = weather_word_search(processed_tweets_with_obs, 'brass')[\"flt_ob\"]\n",
    "fresh = weather_word_search(processed_tweets_with_obs, 'fresh')[\"flt_ob\"]\n",
    "\n",
    "def ttest(a, b):\n",
    "    return ttest_ind_from_stats(a.mean(), a.std(), len(a), b.mean(), b.std(), len(b))\n"
   ]
  },
  {
   "cell_type": "code",
   "execution_count": 23,
   "metadata": {},
   "outputs": [
    {
     "data": {
      "text/plain": [
       "Ttest_indResult(statistic=1.4272605014106901, pvalue=0.16973379896594878)"
      ]
     },
     "execution_count": 23,
     "metadata": {},
     "output_type": "execute_result"
    }
   ],
   "source": [
    "ttest(cool, fresh)"
   ]
  },
  {
   "cell_type": "code",
   "execution_count": 24,
   "metadata": {},
   "outputs": [
    {
     "data": {
      "text/plain": [
       "Ttest_indResult(statistic=0.39087087390782754, pvalue=0.69625449992065458)"
      ]
     },
     "execution_count": 24,
     "metadata": {},
     "output_type": "execute_result"
    }
   ],
   "source": [
    "cold1 = cold.sample(frac=0.5)\n",
    "cold2 = cold.sample(frac=0.5)\n",
    "\n",
    "ttest(cold1, cold2)"
   ]
  },
  {
   "cell_type": "code",
   "execution_count": 25,
   "metadata": {},
   "outputs": [
    {
     "data": {
      "text/plain": [
       "Ttest_indResult(statistic=1.3895849207928606, pvalue=0.16573952400354836)"
      ]
     },
     "execution_count": 25,
     "metadata": {},
     "output_type": "execute_result"
    }
   ],
   "source": [
    "ttest(cold, freezing)"
   ]
  },
  {
   "cell_type": "code",
   "execution_count": 26,
   "metadata": {},
   "outputs": [
    {
     "name": "stderr",
     "output_type": "stream",
     "text": [
      "/opt/conda/lib/python3.6/site-packages/ipykernel_launcher.py:6: FutureWarning: pandas.core.datetools.to_datetime is deprecated. Please use pandas.tseries.tools.to_datetime instead.\n",
      "  \n"
     ]
    }
   ],
   "source": [
    "all_raw_tweets = pd.read_csv('/s3/three-word-weather/hack/3ww-all-raw.csv',\n",
    "                               header=None,\n",
    "                               names=['created_at', 'username', 'tweet'],\n",
    "                               na_values=' ',\n",
    "                               dtype={'lat': np.float, 'lon': np.float},\n",
    "                               date_parser=pd.datetools.to_datetime,\n",
    "                               parse_dates=['created_at'])"
   ]
  },
  {
   "cell_type": "code",
   "execution_count": 27,
   "metadata": {},
   "outputs": [
    {
     "data": {
      "text/plain": [
       "['cold 231',\n",
       " 'freezing 56',\n",
       " 'chilly 49',\n",
       " 'baltic 22',\n",
       " 'cool 14',\n",
       " 'crisp 18',\n",
       " 'nippy 6',\n",
       " 'fresh 7',\n",
       " 'brass 7',\n",
       " 'parky 8']"
      ]
     },
     "execution_count": 27,
     "metadata": {},
     "output_type": "execute_result"
    }
   ],
   "source": [
    "[\"{} {}\".format(x, len(weather_word_search(processed_tweets_with_obs, x))) for x in top_words]"
   ]
  },
  {
   "cell_type": "code",
   "execution_count": 28,
   "metadata": {},
   "outputs": [
    {
     "data": {
      "text/plain": [
       "Ttest_indResult(statistic=-0.61014271518272756, pvalue=0.54330483635917393)"
      ]
     },
     "execution_count": 28,
     "metadata": {},
     "output_type": "execute_result"
    }
   ],
   "source": [
    "numberly = pd.read_csv('numberly.csv')\n",
    "ttest(numberly[\"Many\"], numberly[\"A lot\"])"
   ]
  },
  {
   "cell_type": "code",
   "execution_count": 29,
   "metadata": {},
   "outputs": [
    {
     "data": {
      "text/plain": [
       "Ttest_indResult(statistic=25.066146363726819, pvalue=2.2847490389811226e-42)"
      ]
     },
     "execution_count": 29,
     "metadata": {},
     "output_type": "execute_result"
    }
   ],
   "source": [
    "probly = pd.read_csv('probly.csv')\n",
    "ttest(probly[\"Likely\"], probly[\"Unlikely\"])"
   ]
  },
  {
   "cell_type": "code",
   "execution_count": 30,
   "metadata": {},
   "outputs": [],
   "source": [
    "cold_tweets = all_raw_tweets[all_raw_tweets['tweet'].str.lower().str.contains(\"cold\")]"
   ]
  },
  {
   "cell_type": "code",
   "execution_count": 31,
   "metadata": {},
   "outputs": [
    {
     "data": {
      "text/html": [
       "<div>\n",
       "<table border=\"1\" class=\"dataframe\">\n",
       "  <thead>\n",
       "    <tr style=\"text-align: right;\">\n",
       "      <th></th>\n",
       "      <th>created_at</th>\n",
       "      <th>username</th>\n",
       "      <th>tweet</th>\n",
       "    </tr>\n",
       "  </thead>\n",
       "  <tbody>\n",
       "    <tr>\n",
       "      <th>0</th>\n",
       "      <td>2018-03-05 11:43:14</td>\n",
       "      <td>b'EdwardAndrews5'</td>\n",
       "      <td>b'#3wordweather cold, dry, windy. Ardersier'</td>\n",
       "    </tr>\n",
       "    <tr>\n",
       "      <th>5</th>\n",
       "      <td>2018-03-04 13:03:17</td>\n",
       "      <td>b'CharleesAunt'</td>\n",
       "      <td>b'#3wordweather Misty rain cold #thirsk #north...</td>\n",
       "    </tr>\n",
       "    <tr>\n",
       "      <th>9</th>\n",
       "      <td>2018-03-04 10:57:03</td>\n",
       "      <td>b'copsey_david'</td>\n",
       "      <td>b'Cold damp dull #3wordweather'</td>\n",
       "    </tr>\n",
       "    <tr>\n",
       "      <th>11</th>\n",
       "      <td>2018-03-04 10:43:30</td>\n",
       "      <td>b'StephenStaple13'</td>\n",
       "      <td>b'#3WORDWEATHER Fog Damp Cold. Melton Mowbray'</td>\n",
       "    </tr>\n",
       "    <tr>\n",
       "      <th>14</th>\n",
       "      <td>2018-03-04 10:00:04</td>\n",
       "      <td>b'mysouthend'</td>\n",
       "      <td>b'RT @tsingleton: #3wordweather sunny cold slu...</td>\n",
       "    </tr>\n",
       "  </tbody>\n",
       "</table>\n",
       "</div>"
      ],
      "text/plain": [
       "            created_at            username  \\\n",
       "0  2018-03-05 11:43:14   b'EdwardAndrews5'   \n",
       "5  2018-03-04 13:03:17     b'CharleesAunt'   \n",
       "9  2018-03-04 10:57:03     b'copsey_david'   \n",
       "11 2018-03-04 10:43:30  b'StephenStaple13'   \n",
       "14 2018-03-04 10:00:04       b'mysouthend'   \n",
       "\n",
       "                                                tweet  \n",
       "0        b'#3wordweather cold, dry, windy. Ardersier'  \n",
       "5   b'#3wordweather Misty rain cold #thirsk #north...  \n",
       "9                     b'Cold damp dull #3wordweather'  \n",
       "11     b'#3WORDWEATHER Fog Damp Cold. Melton Mowbray'  \n",
       "14  b'RT @tsingleton: #3wordweather sunny cold slu...  "
      ]
     },
     "execution_count": 31,
     "metadata": {},
     "output_type": "execute_result"
    }
   ],
   "source": [
    "cold_tweets.head()"
   ]
  },
  {
   "cell_type": "code",
   "execution_count": 32,
   "metadata": {},
   "outputs": [],
   "source": [
    "known_places = list(processed_tweets[[\"location\", \"lat\", \"lon\"]].drop_duplicates('location')['location'])"
   ]
  },
  {
   "cell_type": "code",
   "execution_count": 33,
   "metadata": {},
   "outputs": [
    {
     "data": {
      "text/plain": [
       "157"
      ]
     },
     "execution_count": 33,
     "metadata": {},
     "output_type": "execute_result"
    }
   ],
   "source": [
    "len(cold_tweets[cold_tweets[\"tweet\"].apply(lambda x: any([str(y) in x.lower() for y in known_places]))])"
   ]
  },
  {
   "cell_type": "code",
   "execution_count": 34,
   "metadata": {},
   "outputs": [
    {
     "data": {
      "text/plain": [
       "648"
      ]
     },
     "execution_count": 34,
     "metadata": {},
     "output_type": "execute_result"
    }
   ],
   "source": [
    "len(cold_tweets)"
   ]
  }
 ],
 "metadata": {
  "kernelspec": {
   "display_name": "Python 3",
   "language": "python",
   "name": "python3"
  },
  "language_info": {
   "codemirror_mode": {
    "name": "ipython",
    "version": 3
   },
   "file_extension": ".py",
   "mimetype": "text/x-python",
   "name": "python",
   "nbconvert_exporter": "python",
   "pygments_lexer": "ipython3",
   "version": "3.6.4"
  }
 },
 "nbformat": 4,
 "nbformat_minor": 2
}
